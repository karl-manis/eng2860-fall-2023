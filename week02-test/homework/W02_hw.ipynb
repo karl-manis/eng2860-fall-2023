{
 "cells": [
  {
   "cell_type": "markdown",
   "id": "c3bd0bca",
   "metadata": {},
   "source": [
    "# Week 2 Homework\n",
    "\n",
    "## Instructions\n",
    "For each task, write your code in the cell below the comment. (Unlike in labs, there are no per-task tests provided, though you can write your own small tests as you go.) When all of the code is complete, upload it to Markus. \n",
    "\n",
    "## Due date\n",
    "\n",
    "Homeworks are due each week on Monday at 10pm."
   ]
  },
  {
   "cell_type": "markdown",
   "id": "b39f1478",
   "metadata": {},
   "source": [
    "## Assignment"
   ]
  },
  {
   "cell_type": "markdown",
   "id": "df6ba90c",
   "metadata": {},
   "source": [
    "### Task 1: Setting up variables\n",
    "In the cell below, define five variables. For the purposes of autograding, they must use the following names and be of the following types (but you can assign them any value you want):\n",
    "* `num1`: integer\n",
    "* `num2`: integer\n",
    "* `word`: string\n",
    "* `phrase`: string\n",
    "* `truth`: boolean"
   ]
  },
  {
   "cell_type": "code",
   "execution_count": 1,
   "id": "51d9e314",
   "metadata": {},
   "outputs": [],
   "source": [
    "# Write your code here\n",
    "\n"
   ]
  },
  {
   "cell_type": "markdown",
   "id": "50c8cd0f",
   "metadata": {},
   "source": [
    "### Task 2: Performing operations with variables\n",
    "In the cell below, create two new variables which use other variables:\n",
    "* `big_number`: multiply `num1` and `num2`\n",
    "* `big_phrase`: multiply `phrase` and `big_number`\n",
    "\n",
    "For extra practice (but no points), you may want to print `big_number` and `big_phrase` to confirm that they look the way you expected."
   ]
  },
  {
   "cell_type": "code",
   "execution_count": 2,
   "id": "abb7d7c6",
   "metadata": {},
   "outputs": [],
   "source": [
    "# Write your code here\n",
    "\n"
   ]
  },
  {
   "cell_type": "markdown",
   "id": "1e64f68c",
   "metadata": {},
   "source": [
    "## Marking Rubric\n",
    "This assignment will be autograded in Markus, and your mark fully determined by the \"correctness\" of the code as measured by the autograder. For example, if it says that 60% of the tests passed successfully, your mark on the assignment will be 60%.\n",
    "\n",
    "When you submit your work to MarkUs, you can then *run the autograder* on your submission to see how many tests pass, and therefore what grade you'll receive on that submission.\n",
    "You can submit and run the autograder as many times as you like before the homework due date to improve your mark.\n",
    "\n",
    "**Note**: after the due date, Markus will use your *most recent submission before the due date* for the actual grading.\n",
    "\n",
    "## How to Submit\n",
    "\n",
    "Submitting your notebook follows the same process as Labs 1 and 2, and we are including an abbreviated version here:\n",
    "\n",
    "1. Download this notebook file to your computer and save it as `W02_hw.ipynb`.\n",
    "2. Log in to MarkUs here: https://markus-ds.teach.cs.toronto.edu.\n",
    "3. Submit your notebook file to `hw2: Homework 2`.\n",
    "\n",
    "## How to Run the Autograder\n",
    "\n",
    "*After* submitting your work, you can run the autograder in MarkUs by doing the following:\n",
    "\n",
    "1. On MarkUs, go to ENG286 course and the assignment page (e.g., `hw2: Homework 2`).\n",
    "2. Click on the \"Automated Testing\" tab, which is beside \"Submissions\".\n",
    "3. On the new page, click on the \"Run tests\" button to run the autograder for this homework.\n",
    "4. Please wait a few minutes (since it takes a bit of time for the tests to run, and the autograder is serving many students and courses at the same time!), and then refresh the page.\n",
    "5. You'll see a table of test results, where each row represents one test.\n",
    "\n",
    "    - Green rows indicate that the test passed, so your code was correct (based on whatever the test was checking).\n",
    "    - Red rows indicate that the test failed, so there was a problem with your code.\n",
    "        If this happens, please read the test message carefully, and make sure to click on the triangle on the left side of the test row to see additional information.\n",
    "\n",
    "If all of the rows are green, that's great! Your code is correct, and you will receive 100% on this homework.\n",
    "If some of the rows are red, you can then make changes to your notebook on JupyterHub, and then re-submit and re-run the tests.\n",
    "You can do this as many times as you like up until the homework deadline."
   ]
  }
 ],
 "metadata": {
  "kernelspec": {
   "display_name": "Python 3 (ipykernel)",
   "language": "python",
   "name": "python3"
  },
  "language_info": {
   "codemirror_mode": {
    "name": "ipython",
    "version": 3
   },
   "file_extension": ".py",
   "mimetype": "text/x-python",
   "name": "python",
   "nbconvert_exporter": "python",
   "pygments_lexer": "ipython3",
   "version": "3.9.7"
  },
  "vscode": {
   "interpreter": {
    "hash": "901b79e026e03396fd1ffa7133844e9ea80e258ce34c66e1aabb5896bcb18463"
   }
  }
 },
 "nbformat": 4,
 "nbformat_minor": 5
}
