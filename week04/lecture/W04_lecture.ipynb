{
 "cells": [
  {
   "cell_type": "markdown",
   "id": "2811e119",
   "metadata": {},
   "source": [
    "# Week 4: Conditionals, Iteration, and Counting Types\n",
    "\n",
    "## Part 1: Conditionals\n",
    "\n",
    "We we lean all about `if`, `elif`, `else`, and indentation. We will do some more fun group role-playing in order to learn about conditionals. Get ready for 🐍!\n",
    "\n",
    "\n",
    "## Part 2: Loops and Iteration\n",
    "\n",
    "We will learn all about `for`, learn how to embed conditionals *inside* loops, followed by... more role-playing, more 🐍!\n",
    "\n",
    "\n",
    "## Part 3: Using Loops and Iteration to Calculate Types\n",
    "\n",
    "We will put together what we learned about conditionals and iteration, plus some new friends, `in` and `list.append()`, in order to record the number of unique words in a text\n",
    "\n",
    "## Links\n",
    "\n",
    "You may find these sections of Melanie Walsh's textbook useful:\n",
    "* [Python Comparisons and Conditionals](https://melaniewalsh.github.io/Intro-Cultural-Analytics/02-Python/08-Comparisons-Conditionals.html)\n",
    "* [Python Links and Loops](https://melaniewalsh.github.io/Intro-Cultural-Analytics/02-Python/09-Lists-Loops-Part1.html)\n",
    "\n"
   ]
  },
  {
   "cell_type": "markdown",
   "id": "d32348da",
   "metadata": {},
   "source": [
    "# 1. Conditionals\n",
    "\n",
    "## Revisiting comparisons\n",
    "\n",
    "Two whole weeks ago (how the time flies!), you may recall that we mets lot of **operators**.\n",
    "\n",
    "* `==`: equal to\n",
    "* `!=`: not equal to\n",
    "* `>`: greater than\n",
    "* `>=`: greather than or equal to\n",
    "* `<`: less than\n",
    "* `<=`: less than or equal too\n",
    "\n",
    "We used these operators to make **comparisons**. For instance, \n"
   ]
  },
  {
   "cell_type": "code",
   "execution_count": null,
   "id": "b366a52e",
   "metadata": {},
   "outputs": [],
   "source": [
    "author = \"Zadie Smith\"\n",
    "age = 47"
   ]
  },
  {
   "cell_type": "code",
   "execution_count": null,
   "id": "fd488af0",
   "metadata": {},
   "outputs": [],
   "source": [
    "author == \"Zadie Smith\""
   ]
  },
  {
   "cell_type": "code",
   "execution_count": null,
   "id": "5cd4289b",
   "metadata": {},
   "outputs": [],
   "source": [
    "age < 100"
   ]
  },
  {
   "cell_type": "markdown",
   "id": "17e69915",
   "metadata": {},
   "source": [
    "Let's add one further layer of complexity to comparisons with `and` and `or` (and `not`, which we'll use later on)"
   ]
  },
  {
   "cell_type": "markdown",
   "id": "53af8c07",
   "metadata": {},
   "source": [
    "| **Logical Operator** | **Explanation**                                                                                   |\n",
    "|:-------------:|:---------------------------------------------------------------------------------------------------:|\n",
    "| `x and y`         | `True` if x and y are both True                                                                             |\n",
    "| `x or y`         | `True` if either x or y is True                                              |\n",
    "| `not x` | `True` if x is not True"
   ]
  },
  {
   "cell_type": "code",
   "execution_count": null,
   "id": "a56d17b7",
   "metadata": {},
   "outputs": [],
   "source": [
    "sugar = True\n",
    "cream = True"
   ]
  },
  {
   "cell_type": "code",
   "execution_count": null,
   "id": "8d0a5517",
   "metadata": {},
   "outputs": [],
   "source": [
    "sugar == True and cream == True"
   ]
  },
  {
   "cell_type": "code",
   "execution_count": null,
   "id": "1c5da821",
   "metadata": {
    "scrolled": true
   },
   "outputs": [],
   "source": [
    "sugar == True or cream == True"
   ]
  },
  {
   "cell_type": "markdown",
   "id": "1e372924",
   "metadata": {},
   "source": [
    "Note that Python's `or` is not to be confused with \"the exclusive or\". \n",
    "\n",
    "`Or` returns `True` if EITHER (or BOTH) of the conditions is true.\n",
    "\n",
    "The \"exclusive or\" returns `True` ONLY if ONE but **not BOTH** of the conditions is true.\n",
    "\n",
    "* **`or`**: \"Do you take sugar or cream in your coffee?\" You can choose one, the other, or both.\n",
    "* **\"exclusive or\"**: \"Would you like fries or a salad with your burger?\" You're being asked to choose one or the other, not both. \n",
    "\n",
    "The `or` we're talking about today is the \"sugar or cream\" `or`; **not** the \"fries or salad\" \"exclusive or.\""
   ]
  },
  {
   "cell_type": "code",
   "execution_count": null,
   "id": "8ffdaf6c",
   "metadata": {},
   "outputs": [],
   "source": [
    "age == 47 and author == \"Zadie Smith\""
   ]
  },
  {
   "cell_type": "code",
   "execution_count": null,
   "id": "d74c9950",
   "metadata": {},
   "outputs": [],
   "source": [
    "age == 47 or name == \"Zadie Smith\""
   ]
  },
  {
   "cell_type": "code",
   "execution_count": null,
   "id": "ff2835c0",
   "metadata": {},
   "outputs": [],
   "source": [
    "age == 47 and name == \"Zadie Smith\""
   ]
  },
  {
   "cell_type": "code",
   "execution_count": null,
   "id": "6fa10b36",
   "metadata": {},
   "outputs": [],
   "source": [
    "age == 47 or name == \"Zadie Smith\""
   ]
  },
  {
   "cell_type": "markdown",
   "id": "ad5c6a46",
   "metadata": {},
   "source": [
    "The thing we're learning about right now, **conditionals**, allow us to actually **do something** with the comparisons that we make. \n",
    "\n",
    "For instance, we could make a little program where, if someone is 35 or older, we have Python inform them they're not eligible for the 5 under 35 award?\n",
    "\n",
    "Anyway, for better or worse, it's pretty easy to make this horribly cruel program. \n",
    "\n",
    "You do it with an **`if` statement**. \n",
    "\n",
    "## `if` statements\n",
    "\n",
    "An `if` statement is an instruction to do something *if* a particular condition is met. `if` statements are useful because they enable Python to **reason** about something rather than just compute!\n",
    "\n",
    "\n",
    "A common Python conditional is made up of two lines\n",
    "* On the first line, you type the English word `if` followed by an **expression** (for instance, a **comparison**) and then a colon (`:`) \n",
    "* On the second line, you **indent** (Jupyter will automaticalaly insert this indentation for you, but you could also use the `Tab` key on your keyboard\\*\\*) and write an instruction or \"statement\" to be completed if the condition is met\n",
    "\n",
    "Here's a Python `if` statement:"
   ]
  },
  {
   "cell_type": "code",
   "execution_count": null,
   "id": "fc812dc4",
   "metadata": {},
   "outputs": [],
   "source": [
    "if age >= 35:\n",
    "    print(\"You are not eligible for the 5 under 35 award.\")"
   ]
  },
  {
   "cell_type": "markdown",
   "id": "71fd087c",
   "metadata": {},
   "source": [
    "As humanities students, you're all ready to handle the syntax of an `if` statement, because it's a lot like the way you introduce a block quotation in an essay.\n",
    "\n",
    "```\n",
    "The opening of Eliot's The Waste Land immediately establishes a mood of dread:\n",
    "    April is the cruellest month, breeding\n",
    "    Lilacs out of the dead land, mixing\n",
    "    Memory and desire, stirring\n",
    "    Dull roots with spring rain. (1-4)\n",
    "From this point onward in the poem, it is all just further downhill.\n",
    "```\n",
    "\n",
    "The first line introduces the quotation — it sets up what's to follow — and ends with a colon `:`, which signals that we're about to move into something else. \n",
    "\n",
    "Then all subsequent lines are *indented*, to signal that they are in some way subordinate to that introductory phrase. The power of the colon `:` — the subordination of all subsequent lines to that introductory phrase — goes away only when we stop indenting.\n",
    "\n",
    "**So much is communicated with one bit of puncutation (`:`) and one element of layout (indentation)!**\n",
    "\n",
    "Same with an `if` statement in Python. Other languagues are hopelessly inelegant in the way they handle them. Python, like our convention for introducing block quotes, does a lot with a little: mere colons and indentation.\n",
    "\n",
    "The opening line of an `if` statement names the condition we're looking to meet; and it ends with a `:`, signalling we're about to specify what will actually happen if that condition is met. The `:` leaves us hanging, waiting to know what action will occur if the condition is met!\n",
    "\n",
    "The second line is indented, to show that it's subordinated to the first line. It picks up where the `:` left off, filling in the blank: if the condition is met, **do this**."
   ]
  },
  {
   "cell_type": "code",
   "execution_count": null,
   "id": "45188e79",
   "metadata": {},
   "outputs": [],
   "source": [
    "if age >= 35:\n",
    "    print(\"You are not eligible for the 5 under 35 award.\")"
   ]
  },
  {
   "cell_type": "markdown",
   "id": "676a2386",
   "metadata": {},
   "source": [
    "Although this syntax is goregously and elegantly minimalist, it is also quite unforgiving. Think of Python as a demanding aesthete: it has exquisite taste, and so will not tolerate even the slightest gaffe."
   ]
  },
  {
   "cell_type": "code",
   "execution_count": null,
   "id": "984b33a3",
   "metadata": {},
   "outputs": [],
   "source": [
    "if age >= 35\n",
    "    print(\"You are not eligible for the 5 under 35 award.\")"
   ]
  },
  {
   "cell_type": "markdown",
   "id": "eed467dc",
   "metadata": {},
   "source": [
    "Actually, what I just said is not fair. Because, unlike a demanding aesthete — who would merely turn up their nose and shoo you away — Python is kind enough to explain where we've gone wrong when we make a faux-pas."
   ]
  },
  {
   "cell_type": "code",
   "execution_count": null,
   "id": "f0793040",
   "metadata": {},
   "outputs": [],
   "source": [
    "if age >= 35:\n",
    "print(\"You are not eligible for the 5 under 35 award.\")"
   ]
  },
  {
   "cell_type": "markdown",
   "id": "e86bf8a6",
   "metadata": {},
   "source": [
    "## `else` statements\n",
    "\n",
    "You can add more complexity to your `if` statement by specifying what do to if the condition in the `if` statement **isn't** met.\n",
    "\n",
    "An `else` statement comes after an `if` statement and is formatted in the same way, except that you don't have to specify a condition (because it serves as an \"if-all-else-fails-do-*this*\" bucket)."
   ]
  },
  {
   "cell_type": "code",
   "execution_count": 35,
   "id": "299094a4",
   "metadata": {},
   "outputs": [
    {
     "name": "stdout",
     "output_type": "stream",
     "text": [
      "Hell yeah, you might be eligible for the award, Zadie Smith!\n"
     ]
    }
   ],
   "source": [
    "if age >= 35:\n",
    "    print(\"You are not eligible for the 5 under 35 award.\")\n",
    "else:\n",
    "    print(\"Hell yeah, you might be eligible for the award, \" + author + \"!\")"
   ]
  },
  {
   "cell_type": "markdown",
   "id": "af43550a",
   "metadata": {},
   "source": [
    "## `elif` statements\n",
    "\n",
    "We can add even **more** nuance with `elif` — \"else if\" — statements.\n",
    "\n",
    "The Python Interpreter (🐍) will evaluate the `if` statement first. Then, if it's not true, 🐍 will go to the `elif` statement (and we can stack as many of these as we like) until 🐍 finds a true one. If none of those are true, 🐍 will go to the `else` statement, if we've provided one."
   ]
  },
  {
   "cell_type": "code",
   "execution_count": 36,
   "id": "ef9f08a4",
   "metadata": {},
   "outputs": [
    {
     "name": "stdout",
     "output_type": "stream",
     "text": [
      "Plenty of time. Go out and smell the flowers.\n"
     ]
    }
   ],
   "source": [
    "if age >= 35:\n",
    "    print(\"You are not eligible for the 5 under 35 award.\")\n",
    "elif age == 34:\n",
    "    print(\"This is the last year, \" + author + \". You better nail it.\")\n",
    "else:\n",
    "    print(\"Plenty of time. Go out and smell the flowers.\")"
   ]
  },
  {
   "cell_type": "code",
   "execution_count": 41,
   "id": "c122294f",
   "metadata": {},
   "outputs": [
    {
     "name": "stdout",
     "output_type": "stream",
     "text": [
      "Plenty of time. Go out and smell the flowers.\n"
     ]
    }
   ],
   "source": [
    "if age > 35:\n",
    "    print(\"You are not eligible for the 5 under 35 award.\")\n",
    "elif age == 34:\n",
    "    print(\"This is the last year, \" + author + \". You better nail it.\")\n",
    "elif age > 15 and age <= 35:\n",
    "    print(\"Plenty of time. Go out and smell the flowers.\")\n",
    "else:\n",
    "    print(\"You are too young to know anything at all. Stop worrying about literary awards.\")"
   ]
  },
  {
   "cell_type": "markdown",
   "id": "7a9f37ee",
   "metadata": {},
   "source": [
    "Okay, those 🐍s up there were to get you excited about the group role-playing activity I have planned now...\n",
    "\n",
    "# 🐍🐍🐍🐍🐍🐍🐍🐍🐍🐍🐍🐍🐍🐍🐍🐍🐍🐍🐍"
   ]
  },
  {
   "cell_type": "markdown",
   "id": "0383682f",
   "metadata": {},
   "source": [
    "# 2. Iteration and Loops\n",
    "\n",
    "I'm just going to show you some code for a particular kind of loop, and let's see if you can figure out its syntax and what it does."
   ]
  },
  {
   "cell_type": "code",
   "execution_count": null,
   "id": "3131fc69",
   "metadata": {
    "scrolled": true
   },
   "outputs": [],
   "source": [
    "number = 10\n",
    "\n",
    "while number > 0:\n",
    "    print(number)\n",
    "    number = number - 1"
   ]
  },
  {
   "cell_type": "markdown",
   "id": "3c05a262",
   "metadata": {},
   "source": [
    "## `for` loops\n",
    "\n",
    "That's one kind of Python loop — a `while` loop. And `while` it's very cool and useful, it's not as useful `for` us as another kind of loop: the `for` loop.\n",
    "\n",
    "Last class, we talked about **indexing** and **slicing** in relation to two data types: `str`s and `list`s. \n",
    "\n",
    "This taught us the way that Python \"breaks down\" those two data types:\n",
    "* `str`s are broken up into...\n",
    "* and `lists` are broken up into..."
   ]
  },
  {
   "cell_type": "code",
   "execution_count": 77,
   "id": "82b51e18",
   "metadata": {},
   "outputs": [],
   "source": [
    "text = \"It is a truth universally acknowledged, that a single man in possession of a good fortune, must be in want of a wife.\"\n",
    "text_words = text.split()"
   ]
  },
  {
   "cell_type": "code",
   "execution_count": null,
   "id": "658b3b76",
   "metadata": {},
   "outputs": [],
   "source": [
    "text[:5]"
   ]
  },
  {
   "cell_type": "code",
   "execution_count": null,
   "id": "cbf17287",
   "metadata": {
    "scrolled": true
   },
   "outputs": [],
   "source": [
    "text_words[:5]"
   ]
  },
  {
   "cell_type": "markdown",
   "id": "886210cb",
   "metadata": {},
   "source": [
    "A `for` loop allows us to **move through the parts of** a particular variable — **iterate over it**, in the stylish and fashionable lexicon of Python — and **do something** to each part of it."
   ]
  },
  {
   "cell_type": "code",
   "execution_count": 78,
   "id": "8cac65d5",
   "metadata": {},
   "outputs": [
    {
     "name": "stdout",
     "output_type": "stream",
     "text": [
      "I\n",
      "T\n",
      " \n",
      "I\n",
      "S\n",
      " \n",
      "A\n",
      " \n",
      "T\n",
      "R\n",
      "U\n",
      "T\n",
      "H\n",
      " \n",
      "U\n",
      "N\n",
      "I\n",
      "V\n",
      "E\n",
      "R\n",
      "S\n",
      "A\n",
      "L\n",
      "L\n",
      "Y\n",
      " \n",
      "A\n",
      "C\n",
      "K\n",
      "N\n",
      "O\n",
      "W\n",
      "L\n",
      "E\n",
      "D\n",
      "G\n",
      "E\n",
      "D\n",
      ",\n",
      " \n",
      "T\n",
      "H\n",
      "A\n",
      "T\n",
      " \n",
      "A\n",
      " \n",
      "S\n",
      "I\n",
      "N\n",
      "G\n",
      "L\n",
      "E\n",
      " \n",
      "M\n",
      "A\n",
      "N\n",
      " \n",
      "I\n",
      "N\n",
      " \n",
      "P\n",
      "O\n",
      "S\n",
      "S\n",
      "E\n",
      "S\n",
      "S\n",
      "I\n",
      "O\n",
      "N\n",
      " \n",
      "O\n",
      "F\n",
      " \n",
      "A\n",
      " \n",
      "G\n",
      "O\n",
      "O\n",
      "D\n",
      " \n",
      "F\n",
      "O\n",
      "R\n",
      "T\n",
      "U\n",
      "N\n",
      "E\n",
      ",\n",
      " \n",
      "M\n",
      "U\n",
      "S\n",
      "T\n",
      " \n",
      "B\n",
      "E\n",
      " \n",
      "I\n",
      "N\n",
      " \n",
      "W\n",
      "A\n",
      "N\n",
      "T\n",
      " \n",
      "O\n",
      "F\n",
      " \n",
      "A\n",
      " \n",
      "W\n",
      "I\n",
      "F\n",
      "E\n",
      ".\n"
     ]
    }
   ],
   "source": [
    "for character in text:\n",
    "    print(character.upper())"
   ]
  },
  {
   "cell_type": "code",
   "execution_count": 82,
   "id": "b7cbbd84",
   "metadata": {},
   "outputs": [
    {
     "name": "stdout",
     "output_type": "stream",
     "text": [
      "IT\n",
      "IS\n",
      "A\n",
      "TRUTH\n",
      "UNIVERSALLY\n",
      "ACKNOWLEDGED,\n",
      "THAT\n",
      "A\n",
      "SINGLE\n",
      "MAN\n",
      "IN\n",
      "POSSESSION\n",
      "OF\n",
      "A\n",
      "GOOD\n",
      "FORTUNE,\n",
      "MUST\n",
      "BE\n",
      "IN\n",
      "WANT\n",
      "OF\n",
      "A\n",
      "WIFE.\n"
     ]
    }
   ],
   "source": [
    "for word in text_words:\n",
    "    print(word.upper())"
   ]
  },
  {
   "cell_type": "markdown",
   "id": "ace1f73a",
   "metadata": {},
   "source": [
    "Here's the way I personally understand the syntax of a `for` loop.\n",
    "\n",
    "In the below `for` loop, you're telling Python, \n",
    "> **Hey, Python! `for` every `element` that's \"`in`\" the variable `whatever`, please go in and do the following thing to it`:` `print()` off that `element`**"
   ]
  },
  {
   "cell_type": "code",
   "execution_count": 88,
   "id": "bfa1d5e4",
   "metadata": {},
   "outputs": [
    {
     "name": "stdout",
     "output_type": "stream",
     "text": [
      "b\n",
      "l\n",
      "a\n",
      "h\n",
      " \n",
      "b\n",
      "l\n",
      "a\n",
      "h\n",
      " \n",
      "b\n",
      "l\n",
      "a\n",
      "h\n"
     ]
    }
   ],
   "source": [
    "whatever = \"blah blah blah\"\n",
    "\n",
    "for element in whatever:\n",
    "    print(element)"
   ]
  },
  {
   "cell_type": "markdown",
   "id": "738e5639",
   "metadata": {},
   "source": [
    "Below is a more formal overview of a `for` loop.\n",
    "\n",
    "The above `for` loops consist of two lines and have this syntax:\n",
    "\n",
    "* On the first line, you type the word `for`, then a **variable name** for each item in the thing you'll be iterating over, then the word `in`, then the **name of the variable you want to iterate over**, and then a colon (`:`)\n",
    "* On the second line, you indent and write an instruction or “statement” to be completed for each item in the list.\n",
    "\n",
    "Note that the **variable name** you provide between `for` and `in` can be anything (as long as it follows variable naming conventions). It's nice to give it a descriptive name that corresponds to what the individual items of the stering or list *are* — but it doesn't need to be."
   ]
  },
  {
   "cell_type": "code",
   "execution_count": 89,
   "id": "d3660ae4",
   "metadata": {},
   "outputs": [],
   "source": [
    "instructors = [\"Karl\", \"Dash\", \"Mary\"]"
   ]
  },
  {
   "cell_type": "code",
   "execution_count": 90,
   "id": "30f52605",
   "metadata": {},
   "outputs": [
    {
     "name": "stdout",
     "output_type": "stream",
     "text": [
      "This instructor's name is Karl.\n",
      "This instructor's name is Dash.\n",
      "This instructor's name is Mary.\n"
     ]
    }
   ],
   "source": [
    "for name in instructors:\n",
    "    print(f\"This instructor's name is {name}.\")"
   ]
  },
  {
   "cell_type": "code",
   "execution_count": 91,
   "id": "157e8841",
   "metadata": {},
   "outputs": [
    {
     "name": "stdout",
     "output_type": "stream",
     "text": [
      "This instructor's name is Karl.\n",
      "This instructor's name is Dash.\n",
      "This instructor's name is Mary.\n"
     ]
    }
   ],
   "source": [
    "for x in instructors:\n",
    "    print(f\"This instructor's name is {x}.\")"
   ]
  },
  {
   "cell_type": "markdown",
   "id": "4bb28d15",
   "metadata": {},
   "source": [
    "## Combining loops and conditionals\n",
    "\n",
    "So, it turns out that our new friends `if` and `for` are already friends! They get along really well with one another. \n",
    "\n",
    "For instance:"
   ]
  },
  {
   "cell_type": "code",
   "execution_count": 92,
   "id": "dd81fe21",
   "metadata": {
    "scrolled": false
   },
   "outputs": [
    {
     "name": "stdout",
     "output_type": "stream",
     "text": [
      "Your name is Karl.\n",
      "Your name is Dash.\n",
      "You are standing at the front of the room.\n",
      "Your name is Mary.\n",
      "You are sitting at the back of the room.\n"
     ]
    }
   ],
   "source": [
    "for name in instructors:\n",
    "    print(f\"Your name is {name}.\")\n",
    "    if name == \"Dash\":\n",
    "        print(\"You are standing at the front of the room.\")\n",
    "    elif name == \"David\":\n",
    "        print(\"You are sitting at the front of the room.\")\n",
    "    elif name == \"Mary\":\n",
    "        print(\"You are sitting at the back of the room.\")"
   ]
  },
  {
   "cell_type": "markdown",
   "id": "e5e5fd0f",
   "metadata": {},
   "source": [
    "Notice, in the above, how indentation and colons work to indicate how everything fits together, keeping everything nestly **nested** like a matryoshka doll.\n",
    "\n",
    "![Matryoshka dolls](matryoshki.jpg)\n",
    "\n",
    "```\n",
    "On the outside is the for loop:\n",
    "    Inside that is a print() function.\n",
    "    Then there is an if statement:\n",
    "        Which contains a print() function.\n",
    "    Then there is an elif statement:\n",
    "        Which contains another print() function.\n",
    "    Then there is yet another elif statement:\n",
    "        Which contains yet another print() function.\n",
    "    And then we go back to the start of the for loop, for as long as there are items to iterate over.\n",
    "And then when there are no items left to iterate over, the for loop is done, and we are outside it.\n",
    "```\n",
    "On your own time, play around with the levels of indentation, breaking the logical, nested structure in multiple ways and then bringing it back to life!"
   ]
  },
  {
   "cell_type": "markdown",
   "id": "6c699405",
   "metadata": {},
   "source": [
    "How could we combine our big age-related `if` statement above,\n",
    "\n",
    "```\n",
    "if age > 41:\n",
    "    print(\"You are hopelessly out of touch with today's world.\")\n",
    "elif age == 41:\n",
    "    print(\"You are the perfect age and don't need to worry about anything.\")\n",
    "elif age > 15 and age < 41:\n",
    "    print(\"You are young and perfectly in tune with your age.\")\n",
    "else:\n",
    "    print(\"You are too young to know anything at all. Get back in your crib.\")\n",
    "```\n",
    "\n",
    "with a for loop that iterates over a list of ages?"
   ]
  },
  {
   "cell_type": "markdown",
   "id": "f50d8365",
   "metadata": {},
   "source": [
    "# 3. Using Loops and Iteration to Calculate Types\n",
    "\n",
    "Okay, let's work together to think through what we would actually need to do in order to calculate the number of unique words or **types** in a text file that we've created.\n",
    "\n",
    "* First we would need to load the text into a string.\n",
    "* Then we would need to break it up into a list of words.\n",
    "* Then we would need to go through that list of words and, at every step, determine if we've already met that words before. If it's a new word, we would store it in a new list of unique words.\n",
    "* When we're done, we need to count how many words are in that new list of unique words.\n",
    "\n",
    "We already have pretty much all the tools we need to do this. \n",
    "\n",
    "## The `in` operator — and `not`\n",
    "\n",
    "`in` checks whether a particular item is in a particular list.\n",
    "\n",
    "It can be combined with `not` — cousin to `and` and `or`, which we met above — to check if a particular item is **absent from** a particular list."
   ]
  },
  {
   "cell_type": "code",
   "execution_count": null,
   "id": "caac9d80",
   "metadata": {},
   "outputs": [],
   "source": [
    "print(instructors)"
   ]
  },
  {
   "cell_type": "code",
   "execution_count": null,
   "id": "7bee333f",
   "metadata": {},
   "outputs": [],
   "source": [
    "\"Adam\" in instructors"
   ]
  },
  {
   "cell_type": "code",
   "execution_count": null,
   "id": "c26e450c",
   "metadata": {},
   "outputs": [],
   "source": [
    "\"Joey\" in instructors"
   ]
  },
  {
   "cell_type": "code",
   "execution_count": null,
   "id": "400b7249",
   "metadata": {},
   "outputs": [],
   "source": [
    "\"Adam\" not in instructors"
   ]
  },
  {
   "cell_type": "code",
   "execution_count": null,
   "id": "9514885b",
   "metadata": {},
   "outputs": [],
   "source": [
    "\"Joey\" not in instructors"
   ]
  },
  {
   "cell_type": "code",
   "execution_count": null,
   "id": "1c84b655",
   "metadata": {},
   "outputs": [],
   "source": [
    "text_words"
   ]
  },
  {
   "cell_type": "code",
   "execution_count": null,
   "id": "58d532c0",
   "metadata": {},
   "outputs": [],
   "source": [
    "\"universally\" in text_words"
   ]
  },
  {
   "cell_type": "code",
   "execution_count": null,
   "id": "192307a2",
   "metadata": {
    "scrolled": true
   },
   "outputs": [],
   "source": [
    "print(instructors)\n",
    "instructors.append(\"Diana\")\n",
    "print(instructors)"
   ]
  },
  {
   "cell_type": "markdown",
   "id": "cbb0adad",
   "metadata": {},
   "source": [
    "Note what happens if we run the above line multiple times. \n",
    "\n",
    "This is an important point about Jupyter Notebooks: **when cells are run multiple times, they can yield different reults.**\n",
    "\n",
    "Imagine a scenario in your homework gets the results you want... but only if someone runs a particular cell multiple times (which they won't know how to do). Since the autograding software only runs each cell once, this would yield an \"incorrect\" evaluation in an autograding situation. \n",
    "\n",
    "**To make sure your code runs correctly without depending on particular cells running more than once, you should regularly \"Run All Cells\"** (under the Cell menu)."
   ]
  },
  {
   "cell_type": "markdown",
   "id": "b320b661",
   "metadata": {},
   "source": [
    "Let's try using the `list.append()` method in a `for` loop.\n",
    "\n",
    "Let's make a little loop that goes through a string and, for each of its letters, adds it to an empty list."
   ]
  },
  {
   "cell_type": "code",
   "execution_count": 93,
   "id": "4442b71f",
   "metadata": {},
   "outputs": [],
   "source": [
    "word = \"plenipotentiary\"\n",
    "\n",
    "new_list = []\n",
    "\n",
    "for letter in word:\n",
    "    new_list.append(letter)"
   ]
  },
  {
   "cell_type": "code",
   "execution_count": 94,
   "id": "5ddd1bb1",
   "metadata": {},
   "outputs": [
    {
     "data": {
      "text/plain": [
       "['p', 'l', 'e', 'n', 'i', 'p', 'o', 't', 'e', 'n', 't', 'i', 'a', 'r', 'y']"
      ]
     },
     "execution_count": 94,
     "metadata": {},
     "output_type": "execute_result"
    }
   ],
   "source": [
    "new_list"
   ]
  },
  {
   "cell_type": "markdown",
   "id": "bbbe5839",
   "metadata": {},
   "source": [
    "Now let's stick a conditional inside a loop, *and* use the `list.append()` method within that conditional statement. \n",
    "\n",
    "### **This will stack together all the skills we need to do today's task!**\n",
    "\n",
    "Let's look through every word from our `text_words` variable (the opening of *Pride and Prejudice*, split up into words) and store all the ones that begin with a vowel in a new list variable called `vowel_words`. (The internet informs me that the \"sometimes Y\" very seldom applies to Ys at the beginning of words...)"
   ]
  },
  {
   "cell_type": "markdown",
   "id": "d241ede8",
   "metadata": {},
   "source": [
    "## Mutating List Methods\n",
    "\n",
    "We need one new list method to finish our task... but we may as well use this as an opportunity to learn about a few other list methods, since they will come in handy down the line.\n",
    "\n",
    "* `list.append(another_item)`: adds new item (a `str`, `int`, `float`, or `bool`) to end of list\n",
    "* `list.extend(another_list)`: adds items from another_list (has to be a `list`) to list\n",
    "* `list.remove(item)`: removes first instance of item from the list"
   ]
  },
  {
   "cell_type": "code",
   "execution_count": 80,
   "id": "ae7dd8a5",
   "metadata": {},
   "outputs": [],
   "source": [
    "vowel_words = []\n",
    "\n",
    "for word in text_words:\n",
    "    if word[0] == \"a\" or word[0] == \"e\" or word[0] == \"i\" or word[0] == \"o\" or word[0] == \"u\":\n",
    "        vowel_words.append(word)"
   ]
  },
  {
   "cell_type": "code",
   "execution_count": 81,
   "id": "bcc02a57",
   "metadata": {},
   "outputs": [
    {
     "name": "stdout",
     "output_type": "stream",
     "text": [
      "['is', 'a', 'universally', 'acknowledged,', 'a', 'in', 'of', 'a', 'in', 'of', 'a']\n"
     ]
    }
   ],
   "source": [
    "print(vowel_words)"
   ]
  },
  {
   "cell_type": "markdown",
   "id": "3d64fe80",
   "metadata": {},
   "source": [
    "## Now, for some roleplaying and a group exercise...\n",
    "\n",
    "For this exercise, we will need:\n",
    "\n",
    "* 1 Python Interpreter\n",
    "* 8 Students\n",
    "\n",
    "Now, we shall sort you at the front of the room..."
   ]
  },
  {
   "cell_type": "markdown",
   "id": "c474cb4f",
   "metadata": {},
   "source": [
    "### Ok, now on to the exercise"
   ]
  },
  {
   "cell_type": "markdown",
   "id": "9ed93762",
   "metadata": {},
   "source": [
    "First, we need to store a list of all the students."
   ]
  },
  {
   "cell_type": "code",
   "execution_count": 97,
   "id": "dd81fe21",
   "metadata": {
    "scrolled": false
   },
   "outputs": [],
   "source": [
    "#This is a list of tuples in the form (name, year)\n",
    "students = [('Al', 1), ('Betty',3), ('Cindy', 2), ('Dorothy',4), ('Karl',1),('Xavier',2), ('Zeke',3), ('Vince',2)]"
   ]
  },
  {
   "cell_type": "markdown",
   "id": "ef4f911b",
   "metadata": {},
   "source": [
    "Now we need to make some lists so Python knows where to put stuff!"
   ]
  },
  {
   "cell_type": "code",
   "execution_count": 98,
   "id": "a17cf857",
   "metadata": {},
   "outputs": [],
   "source": [
    "#Students to stand on the left side of the room\n",
    "first_half_alphabet = []\n",
    "#Students to stand on the right side of the room \n",
    "second_half_alphabet = []\n"
   ]
  },
  {
   "cell_type": "markdown",
   "id": "bb5932a0",
   "metadata": {},
   "source": [
    "Finally, let's put together a for loop!"
   ]
  },
  {
   "cell_type": "code",
   "execution_count": 99,
   "id": "29af6476",
   "metadata": {},
   "outputs": [],
   "source": [
    "for name, year in students:\n",
    "    first_letter = name[0]\n",
    "    if first_letter < 'M': #Earler letters have smaller numbers assinged in Python, but caps makes a diffence!\n",
    "        first_half_alphabet.append((name, year))\n",
    "    else: \n",
    "        second_half_alphabet.append((name, year))"
   ]
  },
  {
   "cell_type": "markdown",
   "id": "31b86f90",
   "metadata": {},
   "source": [
    "Hmm, what do we thing?"
   ]
  },
  {
   "cell_type": "code",
   "execution_count": 100,
   "id": "e1b6d4c3",
   "metadata": {},
   "outputs": [
    {
     "name": "stdout",
     "output_type": "stream",
     "text": [
      "First Half:  [('Al', 1), ('Betty', 3), ('Cindy', 2), ('Dorothy', 4), ('Karl', 1)]\n",
      "Second Half:  [('Xavier', 2), ('Zeke', 3), ('Vince', 2)]\n"
     ]
    }
   ],
   "source": [
    "print('First Half: ',  first_half_alphabet)\n",
    "print('Second Half: ', second_half_alphabet)"
   ]
  },
  {
   "cell_type": "markdown",
   "id": "12660012",
   "metadata": {},
   "source": [
    "Now let's go one step further, and put all the **upperclassmen** in the middle of the room"
   ]
  },
  {
   "cell_type": "code",
   "execution_count": 101,
   "id": "a626e33b",
   "metadata": {},
   "outputs": [],
   "source": [
    "#Students to stand in the center of the room\n",
    "upperclassmen = []\n",
    "\n",
    "for name, year in first_half_alphabet:\n",
    "    if year >= 3:\n",
    "        upperclassmen.append((name,year))\n",
    "        first_half_alphabet.remove((name, year))\n",
    "        \n",
    "for name, year in second_half_alphabet:\n",
    "    if year >= 3:\n",
    "        upperclassmen.append((name,year))\n",
    "        second_half_alphabet.remove((name, year))"
   ]
  },
  {
   "cell_type": "markdown",
   "id": "0bb92b18",
   "metadata": {},
   "source": [
    "OK how did we do???"
   ]
  },
  {
   "cell_type": "code",
   "execution_count": 102,
   "id": "e46b13d3",
   "metadata": {
    "scrolled": true
   },
   "outputs": [
    {
     "name": "stdout",
     "output_type": "stream",
     "text": [
      "First Half:  [('Al', 1), ('Cindy', 2), ('Karl', 1)]\n",
      "Second Half:  [('Xavier', 2), ('Vince', 2)]\n",
      "Upperclassmen:  [('Betty', 3), ('Dorothy', 4), ('Zeke', 3)]\n"
     ]
    }
   ],
   "source": [
    "print('First Half: ',  first_half_alphabet)\n",
    "print('Second Half: ', second_half_alphabet)\n",
    "print('Upperclassmen: ',upperclassmen)"
   ]
  },
  {
   "cell_type": "markdown",
   "id": "5634b399",
   "metadata": {},
   "source": [
    "# Finally: Calculating Type-Token Ratio"
   ]
  },
  {
   "cell_type": "markdown",
   "id": "7ae6cb9c",
   "metadata": {},
   "source": [
    "## Okay, now we're ready to calculate the number of unique words in `text_words`\n",
    "\n",
    "Read through the code below and try to figure out what every line does."
   ]
  },
  {
   "cell_type": "code",
   "execution_count": 103,
   "id": "0489a31b",
   "metadata": {},
   "outputs": [],
   "source": [
    "unique_words = []\n",
    "\n",
    "for word in text_words:\n",
    "    if word not in unique_words:\n",
    "        unique_words.append(word)"
   ]
  },
  {
   "cell_type": "code",
   "execution_count": 104,
   "id": "ab153e98",
   "metadata": {
    "scrolled": true
   },
   "outputs": [
    {
     "data": {
      "text/plain": [
       "['It',\n",
       " 'is',\n",
       " 'a',\n",
       " 'truth',\n",
       " 'universally',\n",
       " 'acknowledged,',\n",
       " 'that',\n",
       " 'single',\n",
       " 'man',\n",
       " 'in',\n",
       " 'possession',\n",
       " 'of',\n",
       " 'good',\n",
       " 'fortune,',\n",
       " 'must',\n",
       " 'be',\n",
       " 'want',\n",
       " 'wife.']"
      ]
     },
     "execution_count": 104,
     "metadata": {},
     "output_type": "execute_result"
    }
   ],
   "source": [
    "unique_words"
   ]
  },
  {
   "cell_type": "markdown",
   "id": "78cd6bc6",
   "metadata": {},
   "source": [
    "## Now we're ready to calculate a type-token ratio!"
   ]
  },
  {
   "cell_type": "code",
   "execution_count": null,
   "id": "12b7ed96",
   "metadata": {
    "scrolled": true
   },
   "outputs": [],
   "source": [
    "len(text_words)"
   ]
  },
  {
   "cell_type": "code",
   "execution_count": null,
   "id": "daed0cbf",
   "metadata": {},
   "outputs": [],
   "source": [
    "len(unique_words)"
   ]
  },
  {
   "cell_type": "code",
   "execution_count": null,
   "id": "f955f943",
   "metadata": {},
   "outputs": [],
   "source": [
    "(len(unique_words) / len(text_words)) * 100"
   ]
  },
  {
   "cell_type": "markdown",
   "id": "ff7fcf09",
   "metadata": {},
   "source": [
    "Note that I wrapped (types / tokens) in `()` to make sure that the \"order of operations\" is calculated correctly. It doesn't actually matter in this case — but might as well get used to it!"
   ]
  },
  {
   "cell_type": "markdown",
   "id": "a4aa981a",
   "metadata": {},
   "source": [
    "## Shall we give this a try with an actual text??"
   ]
  },
  {
   "cell_type": "code",
   "execution_count": 105,
   "id": "1c50866c",
   "metadata": {},
   "outputs": [],
   "source": [
    "sot4 = open(\"sign-of-four.txt\", encoding=\"utf-8\").read()"
   ]
  },
  {
   "cell_type": "code",
   "execution_count": 106,
   "id": "f564c3d4",
   "metadata": {},
   "outputs": [
    {
     "data": {
      "text/plain": [
       "'Chapter I The Scienc'"
      ]
     },
     "execution_count": 106,
     "metadata": {},
     "output_type": "execute_result"
    }
   ],
   "source": [
    "sot4[:20]"
   ]
  },
  {
   "cell_type": "code",
   "execution_count": 107,
   "id": "528868b9",
   "metadata": {},
   "outputs": [],
   "source": [
    "sot4_words = sot4.split()"
   ]
  },
  {
   "cell_type": "code",
   "execution_count": 108,
   "id": "d1c7f2c8",
   "metadata": {},
   "outputs": [
    {
     "data": {
      "text/plain": [
       "['Chapter',\n",
       " 'I',\n",
       " 'The',\n",
       " 'Science',\n",
       " 'of',\n",
       " 'Deduction',\n",
       " 'Sherlock',\n",
       " 'Holmes',\n",
       " 'took',\n",
       " 'his',\n",
       " 'bottle',\n",
       " 'from',\n",
       " 'the',\n",
       " 'corner',\n",
       " 'of',\n",
       " 'the',\n",
       " 'mantel-piece',\n",
       " 'and',\n",
       " 'his',\n",
       " 'hypodermic']"
      ]
     },
     "execution_count": 108,
     "metadata": {},
     "output_type": "execute_result"
    }
   ],
   "source": [
    "sot4_words[:20]"
   ]
  },
  {
   "cell_type": "code",
   "execution_count": 109,
   "id": "9bebb36f",
   "metadata": {},
   "outputs": [],
   "source": [
    "sot4_unique_words = []\n",
    "\n",
    "for word in sot4_words:\n",
    "    if word not in sot4_unique_words:\n",
    "        sot4_unique_words.append(word)"
   ]
  },
  {
   "cell_type": "code",
   "execution_count": 110,
   "id": "3f51a91c",
   "metadata": {
    "scrolled": true
   },
   "outputs": [
    {
     "data": {
      "text/plain": [
       "['Chapter',\n",
       " 'I',\n",
       " 'The',\n",
       " 'Science',\n",
       " 'of',\n",
       " 'Deduction',\n",
       " 'Sherlock',\n",
       " 'Holmes',\n",
       " 'took',\n",
       " 'his',\n",
       " 'bottle',\n",
       " 'from',\n",
       " 'the',\n",
       " 'corner',\n",
       " 'mantel-piece',\n",
       " 'and',\n",
       " 'hypodermic',\n",
       " 'syringe',\n",
       " 'its',\n",
       " 'neat']"
      ]
     },
     "execution_count": 110,
     "metadata": {},
     "output_type": "execute_result"
    }
   ],
   "source": [
    "sot4_unique_words[:20]"
   ]
  },
  {
   "cell_type": "code",
   "execution_count": 111,
   "id": "6244ad3d",
   "metadata": {},
   "outputs": [
    {
     "name": "stdout",
     "output_type": "stream",
     "text": [
      "19.966513185433236\n"
     ]
    }
   ],
   "source": [
    "sot4_ttr = len(sot4_unique_words) / len(sot4_words) * 100\n",
    "print(sot4_ttr)"
   ]
  },
  {
   "cell_type": "markdown",
   "id": "b1adcdf4",
   "metadata": {},
   "source": [
    "Let's have a peek inside our `sot4_unique_words` variable to see how well we're doing in finding unique words. Let's apply the `list.sort()` method to make our list more legible. (We'll lose word order, but that's okay in this case!)"
   ]
  },
  {
   "cell_type": "code",
   "execution_count": 112,
   "id": "8f56d41c",
   "metadata": {},
   "outputs": [],
   "source": [
    "sot4_unique_words.sort() #This alphabetizes the list"
   ]
  },
  {
   "cell_type": "code",
   "execution_count": 113,
   "id": "32418999",
   "metadata": {
    "scrolled": true
   },
   "outputs": [
    {
     "data": {
      "text/plain": [
       "['1857,',\n",
       " '1871,',\n",
       " '1878',\n",
       " '1878,—nearly',\n",
       " '1882',\n",
       " '1882.”',\n",
       " '1882—an',\n",
       " '221_b_',\n",
       " '28th',\n",
       " '3',\n",
       " '3,',\n",
       " '340',\n",
       " '34th',\n",
       " '3rd',\n",
       " '4th',\n",
       " '7',\n",
       " '7.',\n",
       " 'A',\n",
       " 'Abdullah',\n",
       " 'Abdullah,',\n",
       " 'Abdullah.',\n",
       " 'Abel',\n",
       " 'About',\n",
       " 'Achillis.”',\n",
       " 'Achmet',\n",
       " 'Achmet,',\n",
       " 'Achmet.',\n",
       " 'Afghan',\n",
       " 'Afghanistan;',\n",
       " 'Africa,',\n",
       " 'After',\n",
       " 'Again',\n",
       " 'Again,',\n",
       " 'Agra',\n",
       " 'Agra,',\n",
       " 'Agra.',\n",
       " 'Ah,',\n",
       " 'Aided',\n",
       " 'Akbar',\n",
       " 'Akbar,',\n",
       " 'Akbar.’',\n",
       " 'Alison’s',\n",
       " 'All',\n",
       " 'Altogether',\n",
       " 'America',\n",
       " 'America,',\n",
       " 'American,”',\n",
       " 'Among',\n",
       " 'An',\n",
       " 'And']"
      ]
     },
     "execution_count": 113,
     "metadata": {},
     "output_type": "execute_result"
    }
   ],
   "source": [
    "sot4_unique_words[:50]"
   ]
  },
  {
   "cell_type": "code",
   "execution_count": 114,
   "id": "8795b873",
   "metadata": {},
   "outputs": [
    {
     "data": {
      "text/plain": [
       "['“magnifiques,”',\n",
       " '“not',\n",
       " '“pray',\n",
       " '“rebels',\n",
       " '“shall',\n",
       " '“that',\n",
       " '“the',\n",
       " '“there',\n",
       " '“to',\n",
       " '“tours-de-force,”',\n",
       " '“we',\n",
       " '“were,',\n",
       " '“whatever',\n",
       " '“would',\n",
       " '“‘An',\n",
       " '“‘Black',\n",
       " '“‘But',\n",
       " '“‘Consider,',\n",
       " '“‘Does',\n",
       " '“‘For',\n",
       " '“‘Friends,’',\n",
       " '“‘Half',\n",
       " '“‘Here',\n",
       " '“‘How',\n",
       " '“‘Hum!’',\n",
       " '“‘I',\n",
       " '“‘If',\n",
       " '“‘It',\n",
       " '“‘It’s',\n",
       " '“‘Listen',\n",
       " '“‘Look',\n",
       " '“‘No;',\n",
       " '“‘None',\n",
       " '“‘Nonsense!’',\n",
       " '“‘Nonsense,',\n",
       " '“‘Not',\n",
       " '“‘Nothing',\n",
       " '“‘Quite',\n",
       " '“‘Take',\n",
       " '“‘The',\n",
       " '“‘Then',\n",
       " '“‘There',\n",
       " '“‘This',\n",
       " '“‘To',\n",
       " '“‘Well,',\n",
       " '“‘What',\n",
       " '“‘Who',\n",
       " '“‘Why,',\n",
       " '“‘You',\n",
       " '“‘Your']"
      ]
     },
     "execution_count": 114,
     "metadata": {},
     "output_type": "execute_result"
    }
   ],
   "source": [
    "sot4_unique_words[-50:]"
   ]
  },
  {
   "cell_type": "markdown",
   "id": "d9562dbd",
   "metadata": {},
   "source": [
    "How could we improve our list of unique words?\n",
    "* remove punctuation\n",
    "* remove capitalization\n",
    "\n",
    "The former is tricky, but we already know how to do the latter. How could we add that to the for loop that looks for the number of unique words?"
   ]
  },
  {
   "cell_type": "code",
   "execution_count": 115,
   "id": "dc316df0",
   "metadata": {},
   "outputs": [],
   "source": [
    "sot4_unique_words = []\n",
    "\n",
    "for word in sot4_words:\n",
    "    word = word.lower() #We'll come back to this\n",
    "    if word not in sot4_unique_words:\n",
    "        sot4_unique_words.append(word)"
   ]
  },
  {
   "cell_type": "code",
   "execution_count": 116,
   "id": "b455f359",
   "metadata": {},
   "outputs": [
    {
     "data": {
      "text/plain": [
       "['chapter',\n",
       " 'i',\n",
       " 'the',\n",
       " 'science',\n",
       " 'of',\n",
       " 'deduction',\n",
       " 'sherlock',\n",
       " 'holmes',\n",
       " 'took',\n",
       " 'his',\n",
       " 'bottle',\n",
       " 'from',\n",
       " 'corner',\n",
       " 'mantel-piece',\n",
       " 'and',\n",
       " 'hypodermic',\n",
       " 'syringe',\n",
       " 'its',\n",
       " 'neat',\n",
       " 'morocco',\n",
       " 'case.',\n",
       " 'with',\n",
       " 'long,',\n",
       " 'white,',\n",
       " 'nervous',\n",
       " 'fingers',\n",
       " 'he',\n",
       " 'adjusted',\n",
       " 'delicate',\n",
       " 'needle,',\n",
       " 'rolled',\n",
       " 'back',\n",
       " 'left',\n",
       " 'shirt-cuff.',\n",
       " 'for',\n",
       " 'some',\n",
       " 'little',\n",
       " 'time',\n",
       " 'eyes',\n",
       " 'rested',\n",
       " 'thoughtfully',\n",
       " 'upon',\n",
       " 'sinewy',\n",
       " 'forearm',\n",
       " 'wrist',\n",
       " 'all',\n",
       " 'dotted',\n",
       " 'scarred',\n",
       " 'innumerable',\n",
       " 'puncture-marks.']"
      ]
     },
     "execution_count": 116,
     "metadata": {},
     "output_type": "execute_result"
    }
   ],
   "source": [
    "sot4_unique_words[:50]"
   ]
  },
  {
   "cell_type": "code",
   "execution_count": 117,
   "id": "682c2615",
   "metadata": {},
   "outputs": [],
   "source": [
    "sot4_ttr_lowered = (len(sot4_unique_words) / len(sot4_words)) * 100"
   ]
  },
  {
   "cell_type": "markdown",
   "id": "622d496c",
   "metadata": {},
   "source": [
    "Let's compare our two TTR results: `sot4_ttr` (capitalization present) and `sot4_ttr_lowered` (capitalization removed). Which do you think will be higher? Why? How much do you expect the two numbers to differ?"
   ]
  },
  {
   "cell_type": "code",
   "execution_count": 118,
   "id": "bdbfa7c2",
   "metadata": {},
   "outputs": [
    {
     "name": "stdout",
     "output_type": "stream",
     "text": [
      "19.966513185433236\n",
      "19.240965536486677\n"
     ]
    }
   ],
   "source": [
    "print(sot4_ttr)\n",
    "print(sot4_ttr_lowered)"
   ]
  },
  {
   "cell_type": "code",
   "execution_count": null,
   "id": "90c4944f",
   "metadata": {},
   "outputs": [],
   "source": []
  },
  {
   "cell_type": "code",
   "execution_count": null,
   "id": "1b302000",
   "metadata": {},
   "outputs": [],
   "source": []
  },
  {
   "cell_type": "markdown",
   "id": "ba517cc1",
   "metadata": {},
   "source": [
    "## Discussion Question: \n",
    "\n",
    "Why did we just spend all this time teaching you how to calculate a TTR using Python? Why not give you a tool that will calculate it for you, like [this one](https://jsfiddle.net/vsr4nt27/)? How does knowing the TTR effect your ability to argue with it? "
   ]
  },
  {
   "cell_type": "code",
   "execution_count": null,
   "id": "69034da9",
   "metadata": {},
   "outputs": [],
   "source": []
  }
 ],
 "metadata": {
  "kernelspec": {
   "display_name": "Python 3 (ipykernel)",
   "language": "python",
   "name": "python3"
  },
  "language_info": {
   "codemirror_mode": {
    "name": "ipython",
    "version": 3
   },
   "file_extension": ".py",
   "mimetype": "text/x-python",
   "name": "python",
   "nbconvert_exporter": "python",
   "pygments_lexer": "ipython3",
   "version": "3.9.16"
  },
  "vscode": {
   "interpreter": {
    "hash": "901b79e026e03396fd1ffa7133844e9ea80e258ce34c66e1aabb5896bcb18463"
   }
  }
 },
 "nbformat": 4,
 "nbformat_minor": 5
}
