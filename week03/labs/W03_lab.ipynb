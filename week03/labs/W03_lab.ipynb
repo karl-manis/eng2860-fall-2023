{
 "cells": [
  {
   "cell_type": "markdown",
   "id": "e08314ec",
   "metadata": {},
   "source": [
    "# Week 3 Lab\n",
    "\n",
    "## Instructions\n",
    "\n",
    "For each task, write your code in the first cell under the \"Write your code here\" comment. To check that it works as intended, run the second cell. You can run the tests as many times as you like.\n",
    "\n",
    "\n",
    "## Due date\n",
    "Labs are due each week on Wednesday at 10:00pm. (Sep 27, 10:00pm.)"
   ]
  },
  {
   "cell_type": "markdown",
   "id": "4df5d85f",
   "metadata": {},
   "source": [
    "## Assignment\n",
    "### Task 1: Set up a variable with a sentence in it\n",
    "Create a string variable named `sentence` with the value \"Sherlock Holmes took his bottle from the corner of the mantel-piece and his hypodermic syringe from its neat morocco case.\""
   ]
  },
  {
   "cell_type": "code",
   "execution_count": null,
   "id": "a6325c43",
   "metadata": {
    "scrolled": true
   },
   "outputs": [],
   "source": [
    "# Write your code here\n"
   ]
  },
  {
   "cell_type": "code",
   "execution_count": null,
   "id": "f6408120",
   "metadata": {},
   "outputs": [],
   "source": [
    "# Run this to check your work\n",
    "\n",
    "print(sentence)\n",
    "type(sentence) == str"
   ]
  },
  {
   "cell_type": "markdown",
   "id": "7dbf99df",
   "metadata": {},
   "source": [
    "### Task 2: Transform that sentence\n",
    "Create a variable named `sentence_caps` that contains `sentence` in all-caps.\n"
   ]
  },
  {
   "cell_type": "code",
   "execution_count": null,
   "id": "eb3896ef",
   "metadata": {
    "scrolled": true
   },
   "outputs": [],
   "source": [
    "# Write your code here\n"
   ]
  },
  {
   "cell_type": "code",
   "execution_count": null,
   "id": "7019ab9c",
   "metadata": {},
   "outputs": [],
   "source": [
    "# Run this to check your work\n",
    "print(sentence_caps)"
   ]
  },
  {
   "cell_type": "markdown",
   "id": "39531a90",
   "metadata": {},
   "source": [
    "Create a variable named `sentence_leet` that takes `sentence_caps` and replaces all the Es with 3s."
   ]
  },
  {
   "cell_type": "code",
   "execution_count": null,
   "id": "7f5c85c0",
   "metadata": {},
   "outputs": [],
   "source": [
    "# Write your code here\n"
   ]
  },
  {
   "cell_type": "code",
   "execution_count": null,
   "id": "1991d17f",
   "metadata": {},
   "outputs": [],
   "source": [
    "# Run this to check your work\n",
    "print(sentence_leet)"
   ]
  },
  {
   "cell_type": "markdown",
   "id": "bdbb421d",
   "metadata": {},
   "source": [
    "### Task 3: Set up a variable with a book in it\n",
    "The file `metamorphosis.txt` is in the same folder as this code, and contains the text of Franz Kafka's _Metamorphosis_ encoded in UTF-8 format. Load it into a string variable called `metamorphosis`."
   ]
  },
  {
   "cell_type": "code",
   "execution_count": null,
   "id": "92b5a91b",
   "metadata": {},
   "outputs": [],
   "source": [
    "# Write your code here\n"
   ]
  },
  {
   "cell_type": "code",
   "execution_count": null,
   "id": "df0e6025",
   "metadata": {},
   "outputs": [],
   "source": [
    "# Run this to check your work. You should see the first 500 characters of Franz Kafka's \"The Metamorphosis.\"\n",
    "\n",
    "print(metamorphosis[0:500])"
   ]
  },
  {
   "cell_type": "markdown",
   "id": "1f4fa812",
   "metadata": {},
   "source": [
    "### Task 4: Slice and dice that book\n",
    "Create a variable named `metamorphosis_slice` that contains the first 25 characters of `metamorphosis`.\n"
   ]
  },
  {
   "cell_type": "code",
   "execution_count": null,
   "id": "de6b999e",
   "metadata": {
    "scrolled": true
   },
   "outputs": [],
   "source": [
    "# Write your code here\n"
   ]
  },
  {
   "cell_type": "code",
   "execution_count": null,
   "id": "1542d0e8",
   "metadata": {
    "scrolled": true
   },
   "outputs": [],
   "source": [
    "# Run this to check your work\n",
    "print(metamorphosis_slice)"
   ]
  },
  {
   "cell_type": "markdown",
   "id": "69f1496e",
   "metadata": {},
   "source": [
    "Create a variable named `metamorphosis_words` that contains a list of all the words in `metamorphosis`."
   ]
  },
  {
   "cell_type": "code",
   "execution_count": null,
   "id": "5cd65ee4",
   "metadata": {},
   "outputs": [],
   "source": [
    "# Write your code here\n"
   ]
  },
  {
   "cell_type": "code",
   "execution_count": null,
   "id": "315a06ee",
   "metadata": {},
   "outputs": [],
   "source": [
    "# Run this to check your work\n",
    "metamorphosis_wordcount = len(metamorphosis_words)\n",
    "\n",
    "print('Metamorphosis Wordcount:', metamorphosis_wordcount)\n",
    "print('Metamorphosis Words:', metamorphosis_words)"
   ]
  },
  {
   "cell_type": "markdown",
   "id": "7226de58",
   "metadata": {},
   "source": [
    "Create a variable named `metamorphosis_first_words` that contains the first 5 items from `metamorphosis_words`.\n"
   ]
  },
  {
   "cell_type": "code",
   "execution_count": null,
   "id": "ab7527e8",
   "metadata": {},
   "outputs": [],
   "source": [
    "# Write your code here\n"
   ]
  },
  {
   "cell_type": "code",
   "execution_count": null,
   "id": "39ae4896",
   "metadata": {},
   "outputs": [],
   "source": [
    "# Run this to check your work\n",
    "print(metamorphosis_first_words)"
   ]
  },
  {
   "cell_type": "markdown",
   "id": "8072b696",
   "metadata": {},
   "source": [
    "### Task 5: Split the metamorphosis into \"sentences\"\n",
    "\n",
    "Create a variable named `metamorphosis_sentences` that splits `metamorphosis` by period `.` — as a rough proxy for splitting it into sentences. "
   ]
  },
  {
   "cell_type": "code",
   "execution_count": null,
   "id": "8f471b91",
   "metadata": {},
   "outputs": [],
   "source": [
    "# Write your code here\n"
   ]
  },
  {
   "cell_type": "code",
   "execution_count": null,
   "id": "caceac5b",
   "metadata": {},
   "outputs": [],
   "source": [
    "# Run this to check your work. Are the elements of this list all sentences?\n",
    "\n",
    "print(metamorphosis_sentences[:5])"
   ]
  },
  {
   "cell_type": "markdown",
   "id": "ecd8d3f7",
   "metadata": {},
   "source": [
    "### Reading Response: Project Gutenberg in the Matrix of Domination\n",
    "\n",
    "As you begin to plan your TTR experiment, you will want to consider carefully which datasets you draw on to assemble your set of texts. Start by considering the most obvious possible source for literary texts, [Project Gutenberg](https://www.gutenberg.org). Search through the archive, looking for some specific texts that might be of interest to you. Which texts are included in the dataset? Which texts are not? What insight, if any, do these inclusions and exclusions give you into D’Ignazio and Klein’s framing questions:\n",
    "> * Who is doing the work of data science (and who is not)?\n",
    "> * Whose goals are prioritized in data science (and whose are not)? \n",
    "> * Who benefits from data science (and who is either overlooked or actively harmed)? \n",
    "\n",
    "Where, if anywhere, would you place Project Gutenberg in the \"matrix of domination\"? \n",
    "\n",
    "Write your response (150-250 words; no need to answer *all* the above questions) into the Markdown cell below."
   ]
  },
  {
   "cell_type": "markdown",
   "id": "40c3193a",
   "metadata": {},
   "source": [
    " "
   ]
  },
  {
   "cell_type": "markdown",
   "id": "075844d3",
   "metadata": {},
   "source": [
    "### Optional: Questions about this week's material\n",
    "\n",
    "In the Markdown cell below, please feel free ask any question(s) you have about this week’s lecture material and/or the material in this lab."
   ]
  },
  {
   "cell_type": "markdown",
   "id": "c48a87d9",
   "metadata": {},
   "source": [
    " "
   ]
  },
  {
   "cell_type": "markdown",
   "id": "bfaabb20",
   "metadata": {},
   "source": [
    "## Marking Rubric\n",
    "\n",
    "Two points are awarded for labs: one point for submitting the completed lab on time, and one point for making at honest effort at completing it.\n",
    "\n",
    "\n",
    "## How to Submit\n",
    "\n",
    "1. Do the assignment by editing this notebook, writing in the designated cells.\n",
    "\n",
    "2. Download the completed notebook using menu item `File —> Download As —> Notebook (.ipynb)`. Save it as `W03_lab.ipynb`.\n",
    "\n",
    "3. Log in here: https://markus-ds.teach.cs.toronto.edu (Tip: Control/Command-click to open it in a new tab so you can still see these instructions.)\n",
    "\n",
    "4. Choose your course (ENG286).\n",
    "\n",
    "5. Click the `lab3: Lab 3` assessment.\n",
    "\n",
    "6. Click the `Submissions` tab. The new page is `Lab 3: Submissions`.\n",
    "\n",
    "7. Click button `Submit File` on the right.\n",
    "\n",
    "8. In the popup window that opens, click button `Browse`/`Choose Files` and select the `W03_lab.ipynb` file that you downloaded.\n",
    "\n",
    "9. MarkUs is picky with filenames! If your notebook file has a different name (e.g., `W03_lab (1).ipynb`), use the dropdown menu to rename it when you submit the file.\n"
   ]
  },
  {
   "cell_type": "markdown",
   "id": "58a87983",
   "metadata": {},
   "source": [
    "  "
   ]
  }
 ],
 "metadata": {
  "kernelspec": {
   "display_name": "Python 3 (ipykernel)",
   "language": "python",
   "name": "python3"
  },
  "language_info": {
   "codemirror_mode": {
    "name": "ipython",
    "version": 3
   },
   "file_extension": ".py",
   "mimetype": "text/x-python",
   "name": "python",
   "nbconvert_exporter": "python",
   "pygments_lexer": "ipython3",
   "version": "3.9.16"
  }
 },
 "nbformat": 4,
 "nbformat_minor": 5
}
