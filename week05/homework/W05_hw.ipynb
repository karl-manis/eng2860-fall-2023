{
 "cells": [
  {
   "cell_type": "markdown",
   "id": "35808484",
   "metadata": {},
   "source": [
    "# Week 5 Homework\n",
    "\n",
    "## Instructions\n",
    "For each task, write your code in the cell below the comment. (Unlike in labs, there are no per-task tests provided, though you can write your own small tests as you go.) When all of the code is complete, upload it to Markus. \n",
    "\n",
    "## Due date\n",
    "Homeworks are due each week on Monday at 10pm. Because of the midterm, this week you have an additional week to work on the homework. (**Oct 23, 10pm**)."
   ]
  },
  {
   "cell_type": "markdown",
   "id": "01434bbc",
   "metadata": {},
   "source": [
    "## Assignment\n",
    "The following questions go through some of the essential material of the course so far, as practice for next week's midterm (Oct 17)."
   ]
  },
  {
   "cell_type": "markdown",
   "id": "7526a324",
   "metadata": {},
   "source": [
    "## Task 1: Create Variables\n",
    "\n",
    "Create variables with the following names and of the following types. They can have any value, as long as they are of the specified type.\n",
    "\n",
    "* `num`: an integer\n",
    "* `dec`: a floating point number\n",
    "* `text1`: a string\n",
    "* `text2`: another string"
   ]
  },
  {
   "cell_type": "code",
   "execution_count": null,
   "id": "db69f0a5",
   "metadata": {},
   "outputs": [],
   "source": [
    "#WRITE YOUR CODE HERE\n"
   ]
  },
  {
   "cell_type": "markdown",
   "id": "68f85365",
   "metadata": {},
   "source": [
    "### Task 1.1: Check Your Work\n",
    "\n",
    "Run the below cell to test whether `text1` is indeed a string. You may also modify this code to check whether the data types of the other variables are also correct. Note: there are no points for completing this checking task."
   ]
  },
  {
   "cell_type": "code",
   "execution_count": null,
   "id": "d92d22c5",
   "metadata": {},
   "outputs": [],
   "source": [
    "type(text1) == str"
   ]
  },
  {
   "cell_type": "markdown",
   "id": "0ebce0b7",
   "metadata": {},
   "source": [
    "## Task 2: Perform a Comparison and Store the Result\n",
    "\n",
    "Test whether the value of `num` is equal to the value of `dec`, and store the output of that comparison in a variable called `answer`."
   ]
  },
  {
   "cell_type": "code",
   "execution_count": null,
   "id": "2e51efbf",
   "metadata": {},
   "outputs": [],
   "source": [
    "#WRITE YOUR CODE HERE\n"
   ]
  },
  {
   "cell_type": "markdown",
   "id": "5da553a0",
   "metadata": {},
   "source": [
    "## Task 3: Create a List from Variables\n",
    "\n",
    "Using only variable names (i.e., without directly inputting any values), create a `list` called `bag_o_stuff` with five elements, the values of which — in order — are those of `num`, `dec`, `text1`, `text2`, and `answer`."
   ]
  },
  {
   "cell_type": "code",
   "execution_count": null,
   "id": "b0e728a6",
   "metadata": {},
   "outputs": [],
   "source": [
    "#WRITE YOUR CODE HERE\n"
   ]
  },
  {
   "cell_type": "markdown",
   "id": "7bbcbebe",
   "metadata": {},
   "source": [
    "## Task 4: Create a List with a `for` Loop and an `if` Statement\n",
    "\n",
    "Create an empty list called `bag_o_strings`. \n",
    "\n",
    "Then, use a `for` loop to iterate through each item in `bag_o_stuff`.\n",
    "\n",
    "Within the `for` loop, use an `if` statement to test whether each item is a string — and, if it is a string, to convert that string to UPPERCASE letters and append it to `bag_o_strings`."
   ]
  },
  {
   "cell_type": "code",
   "execution_count": null,
   "id": "4b855716",
   "metadata": {},
   "outputs": [],
   "source": [
    "#WRITE YOUR CODE HERE\n"
   ]
  },
  {
   "cell_type": "markdown",
   "id": "b8c19403",
   "metadata": {},
   "source": [
    "## Task 5: Debugging\n",
    "\n",
    "The code below contains three errors. Run the code and read the error messages. Continue to debug the code until it runs properly and the last line prints out six lines of \"age analysis.\" This is great practice as you may inevitably encounter bugs in your code and being able to read the error messages will give you hints as to where the bug is, which is importantly especially if your code is long!"
   ]
  },
  {
   "cell_type": "code",
   "execution_count": 1,
   "id": "b4600d03",
   "metadata": {},
   "outputs": [
    {
     "ename": "SyntaxError",
     "evalue": "expected ':' (3413498038.py, line 5)",
     "output_type": "error",
     "traceback": [
      "\u001b[0;36m  Cell \u001b[0;32mIn[1], line 5\u001b[0;36m\u001b[0m\n\u001b[0;31m    for age in age_list\u001b[0m\n\u001b[0m                       ^\u001b[0m\n\u001b[0;31mSyntaxError\u001b[0m\u001b[0;31m:\u001b[0m expected ':'\n"
     ]
    }
   ],
   "source": [
    "age_list = [41, 40, 22, 13, 80, 1000]\n",
    "\n",
    "age_analysis = \"\"\n",
    "\n",
    "for age in age_list\n",
    "    analysis = f\"Someone who is {age} is \"\n",
    "    if age > 41:\n",
    "        analysis = analysis + \"hopelessly out of touch with today's world.\"\n",
    "    elif age = 41:\n",
    "        analysis = analysis + \"the perfect age and doesn't need to worry about anything.\"\n",
    "    elif age > 15 and age < 41:\n",
    "    analysis = analysis + \"young and perfectly in tune with their age.\"\n",
    "    else:\n",
    "        analysis = analysis + \"too young to know anything at all and should get back in their crib.\"\n",
    "    age_analysis = age_analysis + analysis + \"\\n\"\n",
    "\n",
    "print(age_analysis)"
   ]
  },
  {
   "cell_type": "markdown",
   "id": "2328e2f3",
   "metadata": {},
   "source": [
    "\n",
    "## Marking Rubric\n",
    "This assignment will be autograded in Markus, and your mark fully determined by the \"correctness\" of the code as measured by the autograder. For example, if it says that 60% of the tests passed successfully, your mark on the assignment will be 60%. You will be able to see your mark right away and can resubmit the assignment to improve your mark.\n",
    "\n",
    "## How to Submit\n",
    "1. Download your homework to your local computer and save it as `W05_hw.ipynb`.\n",
    "2. Log in here: https://markus-ds.teach.cs.toronto.edu.\n",
    "3. Submit your homework to `hw5: Homework 5`."
   ]
  }
 ],
 "metadata": {
  "kernelspec": {
   "display_name": "Python 3 (ipykernel)",
   "language": "python",
   "name": "python3"
  },
  "language_info": {
   "codemirror_mode": {
    "name": "ipython",
    "version": 3
   },
   "file_extension": ".py",
   "mimetype": "text/x-python",
   "name": "python",
   "nbconvert_exporter": "python",
   "pygments_lexer": "ipython3",
   "version": "3.9.16"
  },
  "vscode": {
   "interpreter": {
    "hash": "901b79e026e03396fd1ffa7133844e9ea80e258ce34c66e1aabb5896bcb18463"
   }
  }
 },
 "nbformat": 4,
 "nbformat_minor": 5
}
