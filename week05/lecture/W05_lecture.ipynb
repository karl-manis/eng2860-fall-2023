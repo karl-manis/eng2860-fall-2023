{
 "cells": [
  {
   "cell_type": "markdown",
   "id": "9603a741",
   "metadata": {},
   "source": [
    "# Debugging Week 4 Code"
   ]
  },
  {
   "cell_type": "markdown",
   "id": "9b2d7098",
   "metadata": {},
   "source": [
    "Last week, you might recall we tried to sort your classmates into some groups, but something went wrong..."
   ]
  },
  {
   "cell_type": "code",
   "execution_count": 51,
   "id": "a17cf857",
   "metadata": {},
   "outputs": [
    {
     "name": "stdout",
     "output_type": "stream",
     "text": [
      "First Half:  [('Hannah', 3), ('Julia', 3), ('Lily', 1), ('Karina', 2), ('Diana', 2), ('Elise', 3), ('Keya', 2)]\n",
      "Second Half:  [('Zoe', 3)]\n"
     ]
    }
   ],
   "source": [
    "#This is a list of tuples in the form (name, year)\n",
    "students = [('Hannah', 3), ('Julia', 3), ('Lily', 1), ('Karina',2), ('Diana',2),('Elise', 3), ('Zoe',3), ('Keya',2)]\n",
    "\n",
    "#Students to stand on the left side of the room\n",
    "first_half_alphabet = []\n",
    "#Students to stand on the right side of the room \n",
    "second_half_alphabet = []\n",
    "\n",
    "#Sorting the students into first and second half of alphabet\n",
    "for name, year in students:\n",
    "    first_letter = name[0]\n",
    "    if first_letter < 'M': #Earlier letters have smaller numbers assinged in Python, but caps makes a diffence!\n",
    "        first_half_alphabet.append((name, year))\n",
    "    else: \n",
    "        second_half_alphabet.append((name, year))\n",
    "\n",
    "#Print out the results\n",
    "print('First Half: ',  first_half_alphabet)\n",
    "print('Second Half: ', second_half_alphabet)\n"
   ]
  },
  {
   "cell_type": "markdown",
   "id": "12660012",
   "metadata": {},
   "source": [
    "Then we flew too close to the sun and tried to put all the **upperclassmen** in the middle of the room:"
   ]
  },
  {
   "cell_type": "code",
   "execution_count": 52,
   "id": "a626e33b",
   "metadata": {},
   "outputs": [
    {
     "name": "stdout",
     "output_type": "stream",
     "text": [
      "First Half Alphabet:  [('Hannah', 3), ('Julia', 3), ('Lily', 1), ('Karina', 2), ('Diana', 2), ('Elise', 3), ('Keya', 2)]\n",
      "Looking at:  Hannah 3\n",
      "Removing:  ('Hannah', 3)\n",
      "First Half Alphabet:  [('Julia', 3), ('Lily', 1), ('Karina', 2), ('Diana', 2), ('Elise', 3), ('Keya', 2)]\n",
      "Looking at:  Lily 1\n",
      "First Half Alphabet:  [('Julia', 3), ('Lily', 1), ('Karina', 2), ('Diana', 2), ('Elise', 3), ('Keya', 2)]\n",
      "Looking at:  Karina 2\n",
      "First Half Alphabet:  [('Julia', 3), ('Lily', 1), ('Karina', 2), ('Diana', 2), ('Elise', 3), ('Keya', 2)]\n",
      "Looking at:  Diana 2\n",
      "First Half Alphabet:  [('Julia', 3), ('Lily', 1), ('Karina', 2), ('Diana', 2), ('Elise', 3), ('Keya', 2)]\n",
      "Looking at:  Elise 3\n",
      "Removing:  ('Elise', 3)\n",
      "Final first half alphabet:  [('Julia', 3), ('Lily', 1), ('Karina', 2), ('Diana', 2), ('Keya', 2)]\n"
     ]
    }
   ],
   "source": [
    "upperclassmen = []\n",
    "\n",
    "for name, year in first_half_alphabet: \n",
    "    print(\"First Half Alphabet: \", first_half_alphabet)\n",
    "    print(\"Looking at: \", name, year)\n",
    "    if year >= 3:\n",
    "        print(\"Removing: \", (name,year))\n",
    "        upperclassmen.append((name,year))\n",
    "        first_half_alphabet.remove((name, year))\n",
    "        \n",
    "#Check results\n",
    "print(\"Final first half alphabet: \", first_half_alphabet)"
   ]
  },
  {
   "cell_type": "markdown",
   "id": "0b28bbc3",
   "metadata": {},
   "source": [
    "But when we went to go check our results, poor Julia slipped through the cracks! Let's go back and try and debug this with some print statements. **Don't forget to rerun the code block before so that first_half_alphabet still has Hannah and Elise**"
   ]
  },
  {
   "cell_type": "markdown",
   "id": "445af48f",
   "metadata": {},
   "source": [
    "### Talk to the person next to you: How could you change the list of students to avoid this error? "
   ]
  },
  {
   "cell_type": "markdown",
   "id": "80eaf748",
   "metadata": {},
   "source": [
    "## The Fix"
   ]
  },
  {
   "cell_type": "markdown",
   "id": "4776b5dc",
   "metadata": {},
   "source": [
    "OK, so it turns out trying to remove elements from a Python list while we're iterating through it is a bad idea. Let's take a step back and try and think of another approach... **Don't forget to reset our lists again**"
   ]
  },
  {
   "cell_type": "code",
   "execution_count": 53,
   "id": "d5c4fe8d",
   "metadata": {},
   "outputs": [
    {
     "name": "stdout",
     "output_type": "stream",
     "text": [
      "First Half:  [('Lily', 1), ('Karina', 2), ('Diana', 2), ('Keya', 2)]\n",
      "Second Half:  []\n",
      "Upperclassmen:  [('Julia', 3), ('Zoe', 3)]\n"
     ]
    }
   ],
   "source": [
    "#Let's just put them in seperate lists instead\n",
    "new_first_half_alphabet = []\n",
    "new_second_half_alphabet = []\n",
    "upperclassmen = []\n",
    "\n",
    "for name, year in first_half_alphabet:\n",
    "    if year >= 3: #Add them to the upperclassmen list\n",
    "        upperclassmen.append((name,year))\n",
    "    else: #Or add them to our new first half of alphabet list\n",
    "        new_first_half_alphabet.append((name,year))\n",
    "        \n",
    "for name, year in second_half_alphabet:\n",
    "    if year >= 3:\n",
    "        upperclassmen.append((name,year))\n",
    "    else:\n",
    "        new_second_half_alphabet.append((name,year))\n",
    "        \n",
    "first_half_alphabet = new_first_half_alphabet #Now overwrite our firs half of alphabet\n",
    "second_half_alphabet = new_second_half_alphabet #And the second half\n",
    "\n",
    "#Let's see how we did\n",
    "print('First Half: ',  first_half_alphabet)\n",
    "print('Second Half: ', second_half_alphabet)\n",
    "print('Upperclassmen: ', upperclassmen)\n"
   ]
  },
  {
   "cell_type": "markdown",
   "id": "12b439a8",
   "metadata": {},
   "source": [
    "Voilà! Julia is in the right place. "
   ]
  },
  {
   "cell_type": "markdown",
   "id": "f231a884",
   "metadata": {},
   "source": [
    "# Week 5: Finishing the TTR Experiment\n",
    "\n",
    "In this week, we put together everything we've learned so far this semester to tackle the full TTR experiment.\n",
    "\n",
    "## Part 1: Removing Puncutation with Regular Expressions\n",
    "\n",
    "Here we learn about regular expressions, to help us with the super-important task of removing all punctuation from our texts.\n",
    "\n",
    "## Part 2: Iterating through Files in a Folder\n",
    "\n",
    "Here we use the `Path()` function to help load a whole folder of texts and analyze them one-by-one.\n",
    "\n",
    "## Part 3: Automatically Determining Sample Size and Producing Standardized Results\n",
    "\n",
    "Here we learn how to determine the total length of the shortest text, and then calculate the TTR only of a sample of the full text.\n",
    "\n",
    "\n",
    "## Part 4: Writing CSV files\n",
    "\n",
    "Here with use `open()` and `.write()` to get Python to spit out spreadsheet files with our results all ready to use!\n",
    "\n",
    "\n",
    "## Links\n",
    "\n",
    "* Melanie Walsh discusses regular expressions in [her chapter on web scraping](https://melaniewalsh.github.io/Intro-Cultural-Analytics/04-Data-Collection/03-Web-Scraping-Part2.html?highlight=regular%20expressions#regular-expressions). Our discussion is probably a bit gentler, but this is here if you're looking for more explanations.\n",
    "* Walsh also covers opening and saving files in [her chapter on files and character encoding](https://melaniewalsh.github.io/Intro-Cultural-Analytics/02-Python/07-Files-Character-Encoding.html)\n",
    "\n"
   ]
  },
  {
   "cell_type": "markdown",
   "id": "f31077dc",
   "metadata": {},
   "source": [
    "# Taking Stock on the TTR Task\n",
    "\n",
    "**Read aloud**: We now know how to do most of what we need to write code that will quickly and accurately calculate non-standardized and standardized TTRs for a folder full of text files.\n",
    "\n",
    "During Week Three, we learned how to\n",
    "* Load a file\n",
    "* Split it into words\n",
    "* Count the number of words (tokens)\n",
    "\n",
    "In Week Four, we used conditionals and iteration to:\n",
    "* Count unique words (types)\n",
    "\n",
    "Today, we will learn how to:\n",
    "* Remove punctuation for more accurate type counts\n",
    "* Iterate through a folder of text files\n",
    "* Automatically determine our sample size (the total length of the shortest text)\n",
    "* Calculate the standardized TTR for each text file in our folder\n",
    "* Output our results in the form of CSV spreadsheet files"
   ]
  },
  {
   "cell_type": "markdown",
   "id": "984bb994",
   "metadata": {},
   "source": [
    "# 1. Removing Punctuation with Regular Expressions\n",
    "\n",
    "**Regular expressions are a means of describing a type of string based on the *characters* within that string**\n",
    "\n",
    "As a class, let's try and might come up with a few linguistic moments that come up in literature that could and couldn't be described using a regular expression:\n",
    "\n",
    "### Could be described with Regex\n",
    "* Sentences with 'Sherlock' in them\n",
    "* Words with the first letter capitalized\n",
    "* Class Example 1\n",
    "* Class Example 2\n",
    "\n",
    "### Couldn't be described with Regex\n",
    "* Metaphoric language\n",
    "* Verbs\n",
    "* Class Example 1\n",
    "* Class Example 2\n",
    "\n"
   ]
  },
  {
   "cell_type": "markdown",
   "id": "df5529b2",
   "metadata": {},
   "source": [
    "Regular expressions — also known by their cooler *nom de guerre* **Regex** — are a whole language of their own. And don't let that term \"regular\" fool you — they are wild and charismatic and (for humanities people, anyway) **extremely cool**.\n",
    "\n",
    "Note that regular expressions aren't only used in Python. They can be used in all programming languages, and you can even use them in good text editors like Sublime Text. Trust me, they come in extremely handy once you get a handle on them!\n",
    "\n",
    "Imagine them as a super-sophisticated version of a find-and-replace command. We've already met one of those — the `string.replace()` method. Regular expressions go way, way further. We're only going to explore a tiny fraction of what they can do...\n",
    "\n"
   ]
  },
  {
   "cell_type": "markdown",
   "id": "b4d702e3",
   "metadata": {},
   "source": [
    "## Um, regex sounds kinda complicated. Can't we stick with string.replace?"
   ]
  },
  {
   "cell_type": "markdown",
   "id": "54e31ee5",
   "metadata": {},
   "source": [
    "Let's explore a scenario where `string.replace()` doesn't exactly get us what we want, and we need something more..."
   ]
  },
  {
   "cell_type": "code",
   "execution_count": 54,
   "id": "c026f860",
   "metadata": {},
   "outputs": [],
   "source": [
    "sot4 = open(\"sign-of-four.txt\", encoding=\"utf-8\").read()"
   ]
  },
  {
   "cell_type": "code",
   "execution_count": 55,
   "id": "31d3e58e",
   "metadata": {},
   "outputs": [
    {
     "data": {
      "text/plain": [
       "'“Which is it to-day?” I asked,—“morphine or cocaine?”\\n\\nHe raised his eyes languidly from the old black-letter volume which he had opened. “It is cocaine,” he said,—“a seven-per-cent. solution. Would you care to try it?”\\n\\n“No, indeed,” I answered, brusquely. “My constitution has not got over the Afghan campaign yet. I cannot afford to throw any extra strain upon it.”'"
      ]
     },
     "execution_count": 55,
     "metadata": {},
     "output_type": "execute_result"
    }
   ],
   "source": [
    "sot4[1475:1843]"
   ]
  },
  {
   "cell_type": "code",
   "execution_count": 56,
   "id": "7da9e4c4",
   "metadata": {},
   "outputs": [
    {
     "name": "stdout",
     "output_type": "stream",
     "text": [
      "“Which is it to-day?” I asked,—“morphine or cocaine?”\n",
      "\n",
      "He raised his eyes languidly from the old black-letter volume which he had opened. “It is cocaine,” he said,—“a seven-per-cent. solution. Would you care to try it?”\n",
      "\n",
      "“No, indeed,” I answered, brusquely. “My constitution has not got over the Afghan campaign yet. I cannot afford to throw any extra strain upon it.”\n"
     ]
    }
   ],
   "source": [
    "cocaine_exchange = sot4[1475:1843]\n",
    "print(cocaine_exchange)"
   ]
  },
  {
   "cell_type": "markdown",
   "id": "9e03f8d6",
   "metadata": {},
   "source": [
    "**Let's say we would like to do three things to clean up this string**:\n",
    "* Replace the too-risqué word \"cocaine\" with \"strawberry soda\"\n",
    "* Remove all punctuation\n",
    "* Extract only the dialogue from this exchange, storing each piece of dialogue as an item in a list\n",
    "\n",
    "Our old friend `string.replace()` can easily do the first, do the second with a lot of effort, and not do the latter at all."
   ]
  },
  {
   "cell_type": "code",
   "execution_count": 57,
   "id": "99258478",
   "metadata": {},
   "outputs": [
    {
     "name": "stdout",
     "output_type": "stream",
     "text": [
      "“Which is it to-day?” I asked,—“morphine or stawberry soda?”\n",
      "\n",
      "He raised his eyes languidly from the old black-letter volume which he had opened. “It is stawberry soda,” he said,—“a seven-per-cent. solution. Would you care to try it?”\n",
      "\n",
      "“No, indeed,” I answered, brusquely. “My constitution has not got over the Afghan campaign yet. I cannot afford to throw any extra strain upon it.”\n"
     ]
    }
   ],
   "source": [
    "cocaine_exchange = cocaine_exchange.replace(\"cocaine\", \"stawberry soda\")\n",
    "print(cocaine_exchange)"
   ]
  },
  {
   "cell_type": "code",
   "execution_count": 58,
   "id": "bf95b45c",
   "metadata": {
    "scrolled": true
   },
   "outputs": [
    {
     "name": "stdout",
     "output_type": "stream",
     "text": [
      "“Which is it to-day” I asked,—“morphine or stawberry soda”\n",
      "\n",
      "He raised his eyes languidly from the old black-letter volume which he had opened. “It is stawberry soda,” he said,—“a seven-per-cent. solution. Would you care to try it”\n",
      "\n",
      "“No, indeed,” I answered, brusquely. “My constitution has not got over the Afghan campaign yet. I cannot afford to throw any extra strain upon it.”\n"
     ]
    }
   ],
   "source": [
    "cocaine_exchange = cocaine_exchange.replace(\"?\", \"\")\n",
    "print(cocaine_exchange)"
   ]
  },
  {
   "cell_type": "markdown",
   "id": "908a6c71",
   "metadata": {},
   "source": [
    "As you can see, `string.replace()` can remove punctuation... but we need to specify each piece of punctuation one-by-one, which is rather laborious."
   ]
  },
  {
   "cell_type": "code",
   "execution_count": 59,
   "id": "f539aaf3",
   "metadata": {},
   "outputs": [
    {
     "name": "stdout",
     "output_type": "stream",
     "text": [
      "Which is it to-day” I asked,—morphine or stawberry soda”\n",
      "\n",
      "He raised his eyes languidly from the old black-letter volume which he had opened. It is stawberry soda,” he said,—a seven-per-cent. solution. Would you care to try it”\n",
      "\n",
      "No, indeed,” I answered, brusquely. My constitution has not got over the Afghan campaign yet. I cannot afford to throw any extra strain upon it.”\n"
     ]
    }
   ],
   "source": [
    "cocaine_exchange = cocaine_exchange.replace(\"“\", \"\")\n",
    "print(cocaine_exchange)"
   ]
  },
  {
   "cell_type": "markdown",
   "id": "5fb7bba7",
   "metadata": {},
   "source": [
    "### Hmm, this is getting tedious, and I still don't have the dialogue...\n",
    "\n",
    "This is where **regular expressions** come in..."
   ]
  },
  {
   "cell_type": "markdown",
   "id": "9259ac45",
   "metadata": {},
   "source": [
    "## Python libraries\n",
    "\n",
    "Python has a bunch of built-in functionality that you need to explicitly call on to \"activate.\" Think of it as a resources issues. Not everyone cares about fancy find-and-replace functions (boring people, to be specific) — so they don't want their Python programs loaded with lots of unnecessary commands they won't call on. There are tons of domain-specific commands (astronomy commands, economics commands, biology commands) that are probably cool but that we don't intend to use — and we don't want them bogging down our stuff, either.\n",
    "\n",
    "Due to our exquisite taste, we need regular expressions. \n",
    "\n",
    "This requires us to **load a Python library**: a set of commands that are lying politely in wait, waiting for their number to be called, ready to slide down the fireman's pole from the realm of mere potentiality into the world of the actual. The Library we seek is **named `re`.**\n",
    "\n",
    "![Fireman's pole](firemanspole.gif)\n",
    "\n",
    "The command below calls `re` down the firman's pole. We can now use Regex!"
   ]
  },
  {
   "cell_type": "code",
   "execution_count": 60,
   "id": "4bd80789",
   "metadata": {},
   "outputs": [],
   "source": [
    "import re"
   ]
  },
  {
   "cell_type": "markdown",
   "id": "1e20313c",
   "metadata": {},
   "source": [
    "`re` has a bunch of different **functions** bundled into it, all of whose names begin with `re` then `.` and then the same of the command. \n",
    "\n",
    "We're going to start with `re.sub()` which does more or less what `string.replace()` does, though its syntax is a bit different.\n",
    "\n",
    "Whereas `string.replace()` takes who arguments `(\"the string to replace\", \"the string to replace it with\")`, `re.sub()` takes three:\n",
    "* `re.sub(\"the string to replace\", \"the string to replace it with\", the_variable_containing_the_text)`\n",
    "\n",
    "Here's how we would do our first two tasks:"
   ]
  },
  {
   "cell_type": "code",
   "execution_count": 61,
   "id": "5a156810",
   "metadata": {},
   "outputs": [
    {
     "data": {
      "text/plain": [
       "'“Which is it to-day?” I asked,—“morphine or cocaine?”\\n\\nHe raised his eyes languidly from the old black-letter volume which he had opened. “It is cocaine,” he said,—“a seven-per-cent. solution. Would you care to try it?”\\n\\n“No, indeed,” I answered, brusquely. “My constitution has not got over the Afghan campaign yet. I cannot afford to throw any extra strain upon it.”'"
      ]
     },
     "execution_count": 61,
     "metadata": {},
     "output_type": "execute_result"
    }
   ],
   "source": [
    " sot4[1475:1843]"
   ]
  },
  {
   "cell_type": "code",
   "execution_count": 62,
   "id": "8f93719d",
   "metadata": {
    "scrolled": true
   },
   "outputs": [
    {
     "name": "stdout",
     "output_type": "stream",
     "text": [
      "Which is it to-day” I asked,—morphine or stawberry soda”\n",
      "\n",
      "He raised his eyes languidly from the old black-letter volume which he had opened. It is stawberry soda,” he said,—a seven-per-cent. solution. Would you care to try it”\n",
      "\n",
      "No, indeed,” I answered, brusquely. My constitution has not got over the Afghan campaign yet. I cannot afford to throw any extra strain upon it.”\n"
     ]
    }
   ],
   "source": [
    "cocaine_exchange = re.sub(\"cocaine\", \"strawberry soda\", cocaine_exchange)\n",
    "print(cocaine_exchange)"
   ]
  },
  {
   "cell_type": "code",
   "execution_count": 63,
   "id": "3c0ff9a2",
   "metadata": {},
   "outputs": [
    {
     "name": "stdout",
     "output_type": "stream",
     "text": [
      "Which is it to-day” I asked,—morphine or stawberry soda”\n",
      "\n",
      "He raised his eyes languidly from the old black-letter volume which he had opened. It is stawberry soda,” he said,—a seven-per-cent. solution. Would you care to try it”\n",
      "\n",
      "No, indeed,” I answered, brusquely. My constitution has not got over the Afghan campaign yet. I cannot afford to throw any extra strain upon it.”\n"
     ]
    }
   ],
   "source": [
    "cocaine_exchange = re.sub(\"“\", \"\", cocaine_exchange)\n",
    "print(cocaine_exchange)"
   ]
  },
  {
   "cell_type": "markdown",
   "id": "342944e3",
   "metadata": {},
   "source": [
    "### Re.sub is not a mutating function\n",
    "\n",
    "Note that **the `re.sub()` function is NOT a mutating function** — so if you want to store its output, you need to explicitly stick it into a variable."
   ]
  },
  {
   "cell_type": "code",
   "execution_count": 64,
   "id": "6188f7ec",
   "metadata": {},
   "outputs": [],
   "source": [
    "strawberry_soda_exchange = re.sub(\"cocaine\", \"strawberry soda\", cocaine_exchange)"
   ]
  },
  {
   "cell_type": "code",
   "execution_count": 65,
   "id": "94bd91ac",
   "metadata": {
    "scrolled": true
   },
   "outputs": [
    {
     "name": "stdout",
     "output_type": "stream",
     "text": [
      "Which is it to-day” I asked,—morphine or stawberry soda”\n",
      "\n",
      "He raised his eyes languidly from the old black-letter volume which he had opened. It is stawberry soda,” he said,—a seven-per-cent. solution. Would you care to try it”\n",
      "\n",
      "No, indeed,” I answered, brusquely. My constitution has not got over the Afghan campaign yet. I cannot afford to throw any extra strain upon it.”\n"
     ]
    }
   ],
   "source": [
    "print(strawberry_soda_exchange)"
   ]
  },
  {
   "cell_type": "markdown",
   "id": "98e837a5",
   "metadata": {},
   "source": [
    "## Regex 👸🤴\n",
    "\n",
    "### We won't gove over this in lecture, but check out the website for more examples of Regex power\n",
    "\n",
    "**Regex — androgynous, post-gender QueenKing 👸🤴, Regina/Rex — is capable of doing so much more than this!!**\n",
    "\n",
    "Regex is flush with power.\n",
    "\n",
    "Let's explore some of what Regex can do [at the website Regular Expressions 101](https://regex101.com).\n",
    "\n",
    "**Don't worry: you don't need to memorize all of this. The only thing you really need to know is how to use Regex to remove punctuation for our TTR task. But we thought you would enjoy seeing a demonstration of Regex's immense power!**\n",
    "\n",
    "We'll try the following:\n",
    "\n",
    "* `a`: the character `a`\n",
    "* `[aeiou]`: any one of `a`, `e`, `i`, *or* `u` (the square brackets `[]` mean \"any one of what's between me\")\n",
    "* `[aeiouAEIOU]`: same as above, but adding capital letters\n",
    "* `[a-z]`: any character in the **range** `a-z` — so, any lowercase letter\n",
    "* `[a-zA-Z]`: any lowercase or uppercase letter — so, any letter\n",
    "* `[^a-z]`: anything that is **not** `a-z` (the `^` means \"not\")\n",
    "\n",
    "Then we'll meet these fellows:\n",
    "* `\\w`: any letter\n",
    "* `\\d`: any number\n",
    "* `\\s`: any whitespace\n",
    "* `\\W`: anything *not* a letter\n",
    "* `\\D`: anything *not* a number\n",
    "* `\\S`: anything *not* whitespace"
   ]
  },
  {
   "cell_type": "markdown",
   "id": "d4b42d58",
   "metadata": {},
   "source": [
    "## Removing Punctuation with Regex\n",
    "\n",
    "Our adventures at Regular Expressions 101 will have showed us how we can quite simply remove \"punctuation,\" which we will define as: \n",
    "- **any character that isn't a alphanumeric: lowercase letter a-z, an uppercase letter A-Z, or a number 0-9**\n",
    "\n",
    "In the language of Regex, you would express that same definition as follows: \n",
    "- **[^a-zA-Z0-9]**\n",
    "\n",
    "We want to grab all of those and replace them with **spaces** since replacing the `-` in a word like `seven-per-cent` would turn it into a non-word like `sevenpercent` rather than three separate words, `seven per cent`, which our `string.split()` method will be able to easily \"tokenize.\""
   ]
  },
  {
   "cell_type": "code",
   "execution_count": 66,
   "id": "4786377c",
   "metadata": {},
   "outputs": [
    {
     "name": "stdout",
     "output_type": "stream",
     "text": [
      "“Which is it to-day?” I asked,—“morphine or cocaine?”\n",
      "\n",
      "He raised his eyes languidly from the old black-letter volume which he had opened. “It is cocaine,” he said,—“a seven-per-cent. solution. Would you care to try it?”\n",
      "\n",
      "“No, indeed,” I answered, brusquely. “My constitution has not got over the Afghan campaign yet. I cannot afford to throw any extra strain upon it.”\n"
     ]
    }
   ],
   "source": [
    "cocaine_exchange = sot4[1475:1843]\n",
    "print(cocaine_exchange)"
   ]
  },
  {
   "cell_type": "code",
   "execution_count": 67,
   "id": "6787ad10",
   "metadata": {
    "scrolled": true
   },
   "outputs": [
    {
     "name": "stdout",
     "output_type": "stream",
     "text": [
      " Which is it to day   I asked   morphine or cocaine    He raised his eyes languidly from the old black letter volume which he had opened   It is cocaine   he said   a seven per cent  solution  Would you care to try it     No  indeed   I answered  brusquely   My constitution has not got over the Afghan campaign yet  I cannot afford to throw any extra strain upon it  \n"
     ]
    }
   ],
   "source": [
    "cocaine_exchange = re.sub(\"[^a-zA-Z0-9]\", \" \", cocaine_exchange)\n",
    "print(cocaine_exchange)"
   ]
  },
  {
   "cell_type": "markdown",
   "id": "bfb61039",
   "metadata": {},
   "source": [
    "**That does the trick!** \n",
    "\n",
    "So now the question becomes: **WHEN** should we remove punctuation? When `sot4` is a string, or after we've used `.split()` to split it into words?\n",
    "\n",
    "Let's try it both ways, first removing punctuation *after* `.split()`ting, and then removing it *before*."
   ]
  },
  {
   "cell_type": "code",
   "execution_count": 68,
   "id": "cbbd59f4",
   "metadata": {},
   "outputs": [],
   "source": [
    "cocaine_exchange = sot4[1475:1843]\n",
    "ce_words = cocaine_exchange.split() # First we split the text into words\n",
    "\n",
    "ce_unique_words = []\n",
    "\n",
    "for word in ce_words:\n",
    "    word = word.lower()\n",
    "    word = re.sub(\"[^a-zA-Z0-9]\", \" \", word) # Then we remove punctuation in the for loop that counts unique words\n",
    "    if word not in ce_unique_words:\n",
    "        ce_unique_words.append(word)"
   ]
  },
  {
   "cell_type": "code",
   "execution_count": 69,
   "id": "498da3ba",
   "metadata": {},
   "outputs": [
    {
     "name": "stdout",
     "output_type": "stream",
     "text": [
      "51\n",
      "[' which', 'is', 'it', 'to day  ', 'i', 'asked   morphine', 'or', 'cocaine  ', 'he', 'raised', 'his', 'eyes', 'languidly', 'from', 'the', 'old', 'black letter', 'volume', 'which', 'had', 'opened ', ' it', 'said   a', 'seven per cent ', 'solution ', 'would', 'you', 'care', 'to', 'try', 'it  ', ' no ', 'indeed  ', 'answered ', 'brusquely ', ' my', 'constitution', 'has', 'not', 'got', 'over', 'afghan', 'campaign', 'yet ', 'cannot', 'afford', 'throw', 'any', 'extra', 'strain', 'upon']\n"
     ]
    }
   ],
   "source": [
    "print(len(ce_unique_words))\n",
    "print(ce_unique_words)"
   ]
  },
  {
   "cell_type": "code",
   "execution_count": 70,
   "id": "de0c334c",
   "metadata": {},
   "outputs": [],
   "source": [
    "cocaine_exchange = sot4[1475:1843]\n",
    "cocaine_exchange_nopunct = re.sub(\"[^a-zA-Z0-9]\", \" \", cocaine_exchange) # First we remove punctuation\n",
    "\n",
    "cenp_words = cocaine_exchange_nopunct.split() # Then we split the text into words\n",
    "\n",
    "cenp_unique_words = []\n",
    "\n",
    "for word in cenp_words: # By the time we enter this for loop, the punctuation is already gone\n",
    "    word = word.lower()\n",
    "    if word not in cenp_unique_words:\n",
    "        cenp_unique_words.append(word)"
   ]
  },
  {
   "cell_type": "code",
   "execution_count": 71,
   "id": "b64aad0a",
   "metadata": {},
   "outputs": [
    {
     "name": "stdout",
     "output_type": "stream",
     "text": [
      "53\n",
      "['which', 'is', 'it', 'to', 'day', 'i', 'asked', 'morphine', 'or', 'cocaine', 'he', 'raised', 'his', 'eyes', 'languidly', 'from', 'the', 'old', 'black', 'letter', 'volume', 'had', 'opened', 'said', 'a', 'seven', 'per', 'cent', 'solution', 'would', 'you', 'care', 'try', 'no', 'indeed', 'answered', 'brusquely', 'my', 'constitution', 'has', 'not', 'got', 'over', 'afghan', 'campaign', 'yet', 'cannot', 'afford', 'throw', 'any', 'extra', 'strain', 'upon']\n"
     ]
    }
   ],
   "source": [
    "print(len(cenp_unique_words))\n",
    "print(cenp_unique_words)"
   ]
  },
  {
   "cell_type": "code",
   "execution_count": 72,
   "id": "ae93381e",
   "metadata": {},
   "outputs": [
    {
     "data": {
      "text/plain": [
       "85.0"
      ]
     },
     "execution_count": 72,
     "metadata": {},
     "output_type": "execute_result"
    }
   ],
   "source": [
    "(len(ce_unique_words) / len(ce_words)) * 100"
   ]
  },
  {
   "cell_type": "code",
   "execution_count": 73,
   "id": "185c5b43",
   "metadata": {},
   "outputs": [
    {
     "data": {
      "text/plain": [
       "80.3030303030303"
      ]
     },
     "execution_count": 73,
     "metadata": {},
     "output_type": "execute_result"
    }
   ],
   "source": [
    "(len(cenp_unique_words) / len(cenp_words)) * 100"
   ]
  },
  {
   "cell_type": "markdown",
   "id": "0c66c594",
   "metadata": {},
   "source": [
    "So **we want to remove puncutation *before* using `.split()`,** because otherwise we'll end up with a bunch of funky \"unique words\" with spaces where their punctuation once was. It doesn't solve the problem we initially had. \n",
    "\n",
    "If we remove punctuation before tokenizing with `.split()` we get what we want, because `.split()` splits whenever it meets any number of consecutive whitespace characters. So it will easily turn `asked    morphine` — with its lengthy separating whitespace — into two tokens, `asked` and `morphine`.\n",
    "\n",
    "### Now, let's do this for real with our old friend *The Sign of the Four*.\n",
    "\n",
    "Let's start with how we did it last class, before we knew how to remove punctuation..."
   ]
  },
  {
   "cell_type": "code",
   "execution_count": 74,
   "id": "16e3bb36",
   "metadata": {},
   "outputs": [],
   "source": [
    "# Old method without removing punctuation\n",
    "\n",
    "sot4_words = sot4.split()\n",
    "\n",
    "sot4_unique_words = []\n",
    "\n",
    "for word in sot4_words:\n",
    "    word = word.lower()\n",
    "    if word not in sot4_unique_words:\n",
    "        sot4_unique_words.append(word)"
   ]
  },
  {
   "cell_type": "markdown",
   "id": "a5754bfc",
   "metadata": {},
   "source": [
    "... And then do it our fancy new way, using Regex to remove all punctuation."
   ]
  },
  {
   "cell_type": "code",
   "execution_count": 75,
   "id": "77b790ef",
   "metadata": {},
   "outputs": [],
   "source": [
    "# New method that removes punctuation\n",
    "\n",
    "sot4np = re.sub(\"[^a-zA-Z0-9]\", \" \", sot4) # The variable names here, \"np\" signals \"no punctuation\"\n",
    "\n",
    "sot4np_words = sot4np.split()\n",
    "\n",
    "sot4np_unique_words = []\n",
    "\n",
    "for word in sot4np_words:\n",
    "    word = word.lower()\n",
    "    if word not in sot4np_unique_words:\n",
    "        sot4np_unique_words.append(word)"
   ]
  },
  {
   "cell_type": "code",
   "execution_count": 76,
   "id": "44e14a92",
   "metadata": {},
   "outputs": [
    {
     "data": {
      "text/plain": [
       "'Chapter I The Science of Deduction\\n\\n\\nSherlock Holmes took his bottle from the corner of the mantel-piece and his hypodermic syringe from its neat morocco case. With his long, white, nervous fingers he adjusted the delicate needle, and rolled back his left shirt-cuff. For some little time his eyes rested thoughtfully upon the sinewy forearm and wrist all dotted and scarred with innumerable puncture-marks. Finally he thrust the sharp point home, pressed down the tiny piston, and sank back into the'"
      ]
     },
     "execution_count": 76,
     "metadata": {},
     "output_type": "execute_result"
    }
   ],
   "source": [
    "sot4[:500]"
   ]
  },
  {
   "cell_type": "code",
   "execution_count": 77,
   "id": "897af6b4",
   "metadata": {
    "scrolled": true
   },
   "outputs": [
    {
     "data": {
      "text/plain": [
       "'Chapter I The Science of Deduction   Sherlock Holmes took his bottle from the corner of the mantel piece and his hypodermic syringe from its neat morocco case  With his long  white  nervous fingers he adjusted the delicate needle  and rolled back his left shirt cuff  For some little time his eyes rested thoughtfully upon the sinewy forearm and wrist all dotted and scarred with innumerable puncture marks  Finally he thrust the sharp point home  pressed down the tiny piston  and sank back into the'"
      ]
     },
     "execution_count": 77,
     "metadata": {},
     "output_type": "execute_result"
    }
   ],
   "source": [
    "sot4np[:500]"
   ]
  },
  {
   "cell_type": "code",
   "execution_count": 78,
   "id": "b403019d",
   "metadata": {},
   "outputs": [
    {
     "data": {
      "text/plain": [
       "['Chapter',\n",
       " 'I',\n",
       " 'The',\n",
       " 'Science',\n",
       " 'of',\n",
       " 'Deduction',\n",
       " 'Sherlock',\n",
       " 'Holmes',\n",
       " 'took',\n",
       " 'his',\n",
       " 'bottle',\n",
       " 'from',\n",
       " 'the',\n",
       " 'corner',\n",
       " 'of',\n",
       " 'the',\n",
       " 'mantel-piece',\n",
       " 'and',\n",
       " 'his',\n",
       " 'hypodermic']"
      ]
     },
     "execution_count": 78,
     "metadata": {},
     "output_type": "execute_result"
    }
   ],
   "source": [
    "sot4_words[:20]"
   ]
  },
  {
   "cell_type": "code",
   "execution_count": 79,
   "id": "87d84796",
   "metadata": {},
   "outputs": [
    {
     "data": {
      "text/plain": [
       "['Chapter',\n",
       " 'I',\n",
       " 'The',\n",
       " 'Science',\n",
       " 'of',\n",
       " 'Deduction',\n",
       " 'Sherlock',\n",
       " 'Holmes',\n",
       " 'took',\n",
       " 'his',\n",
       " 'bottle',\n",
       " 'from',\n",
       " 'the',\n",
       " 'corner',\n",
       " 'of',\n",
       " 'the',\n",
       " 'mantel',\n",
       " 'piece',\n",
       " 'and',\n",
       " 'his']"
      ]
     },
     "execution_count": 79,
     "metadata": {},
     "output_type": "execute_result"
    }
   ],
   "source": [
    "sot4np_words[:20]"
   ]
  },
  {
   "cell_type": "code",
   "execution_count": 80,
   "id": "c6ad4d41",
   "metadata": {},
   "outputs": [
    {
     "data": {
      "text/plain": [
       "['1857,',\n",
       " '1871,',\n",
       " '1878',\n",
       " '1878,—nearly',\n",
       " '1882',\n",
       " '1882.”',\n",
       " '1882—an',\n",
       " '221_b_',\n",
       " '28th',\n",
       " '3',\n",
       " '3,',\n",
       " '340',\n",
       " '34th',\n",
       " '3rd',\n",
       " '4th',\n",
       " '7',\n",
       " '7.',\n",
       " '_a',\n",
       " '_a_,',\n",
       " '_au']"
      ]
     },
     "execution_count": 80,
     "metadata": {},
     "output_type": "execute_result"
    }
   ],
   "source": [
    "sot4_unique_words.sort()\n",
    "sot4_unique_words[:20]"
   ]
  },
  {
   "cell_type": "code",
   "execution_count": 81,
   "id": "b43ae061",
   "metadata": {},
   "outputs": [
    {
     "data": {
      "text/plain": [
       "['1857',\n",
       " '1871',\n",
       " '1878',\n",
       " '1882',\n",
       " '221',\n",
       " '28th',\n",
       " '3',\n",
       " '340',\n",
       " '34th',\n",
       " '37',\n",
       " '3rd',\n",
       " '4th',\n",
       " '7',\n",
       " 'a',\n",
       " 'abdullah',\n",
       " 'abel',\n",
       " 'abhor',\n",
       " 'able',\n",
       " 'aboard',\n",
       " 'aborigines']"
      ]
     },
     "execution_count": 81,
     "metadata": {},
     "output_type": "execute_result"
    }
   ],
   "source": [
    "sot4np_unique_words.sort()\n",
    "sot4np_unique_words[:20]"
   ]
  },
  {
   "cell_type": "markdown",
   "id": "224e26cf",
   "metadata": {},
   "source": [
    "The tokenization without punctuation works a lot better. \n",
    "\n",
    "### How much do you think this will affect the TTR?"
   ]
  },
  {
   "cell_type": "code",
   "execution_count": 82,
   "id": "2eced452",
   "metadata": {},
   "outputs": [
    {
     "data": {
      "text/plain": [
       "19.240965536486677"
      ]
     },
     "execution_count": 82,
     "metadata": {},
     "output_type": "execute_result"
    }
   ],
   "source": [
    "(len(sot4_unique_words) / len(sot4_words)) * 100"
   ]
  },
  {
   "cell_type": "code",
   "execution_count": 83,
   "id": "0c04a397",
   "metadata": {},
   "outputs": [
    {
     "data": {
      "text/plain": [
       "12.279700483974066"
      ]
     },
     "execution_count": 83,
     "metadata": {},
     "output_type": "execute_result"
    }
   ],
   "source": [
    "(len(sot4np_unique_words) / len(sot4np_words)) * 100"
   ]
  },
  {
   "cell_type": "markdown",
   "id": "9e966abe",
   "metadata": {},
   "source": [
    "## 👸🤴 Digression, Part I: Extracting Quotations with Regex\n",
    "\n",
    "We probably won't have time to cover this in lecture, but it's potentially fun for those of you who are interested.\n",
    "\n",
    "### Note: None of this Digression (Part 1 or Part 2) will be on the midterm or the exam. It is not something we require you to know. It's just for fun.\n",
    "\n",
    "For this task, we will need some cool new Regex characters:\n",
    "* `.`: \"any character except a newline\"\n",
    "\n",
    "And this \"quantifier\" which you add to a regular expression to signal\n",
    "* `*`: \"zero or more occurences of the thing immediately to my left\"\n",
    "\n",
    "So that the expression\n",
    "* `.*` means \"zero or more characters other than a newline\"\n",
    "\n",
    "To catch one-line quotations, one could try...\n",
    "* `\".*\"`: a `\"` character, followed by zero or more occurences of any character except a newline, followed by a `\"` character \n",
    "\n",
    "This actually won't work on *The Sign of the Four* — becuase it's from Project Gutenberg, and PG files use “curly quotes.” **Yes: `\"` and `“` and `”` are all actually different characters**!\n",
    "\n",
    "Note that we need to use “curly quotes” for Project Gutenberg files. And we got *The Sign of the Four* from PG. So we need:\n",
    "* `“.*”`: a `“` character, followed by zero or more occurences of any character except a newline, followed by a `”` character \n",
    "\n",
    "We need one added complexity: the searches are \"greedy\" (they grab as much as they can), so they sometimes add narration in between the opening and closing quotes. We can fix this by specifying that if you see a close-quote character, immediately stop. The regular expression we need is:\n",
    "\n",
    "* `“[^”]*”` — where the `[^”]` means \"any character except a close quote\""
   ]
  },
  {
   "cell_type": "markdown",
   "id": "28f673ba",
   "metadata": {},
   "source": [
    "The Regex command we want to use to grab all the quotations in `sot4` is `re.findall`, which takes two arguments:\n",
    "* The Regex pattern you want to find (expressed as a string, so surround it with `\"`s)\n",
    "* The string variable in which you want to look for this pattern"
   ]
  },
  {
   "cell_type": "code",
   "execution_count": 84,
   "id": "7119cb45",
   "metadata": {},
   "outputs": [
    {
     "data": {
      "text/plain": [
       "['“Which is it to-day?”',\n",
       " '“morphine or cocaine?”',\n",
       " '“It is cocaine,”',\n",
       " '“a seven-per-cent. solution. Would you care to try it?”',\n",
       " '“No, indeed,”',\n",
       " '“My constitution has not got over the Afghan campaign yet. I cannot afford to throw any extra strain upon it.”',\n",
       " '“Perhaps you are right, Watson,”',\n",
       " '“I suppose that its influence is physically a bad one. I find it, however, so transcendently stimulating and clarifying to the mind that its secondary action is a matter of small moment.”',\n",
       " '“But consider!”',\n",
       " '“Count the cost! Your brain may, as you say, be roused and excited, but it is a pathological and morbid process, which involves increased tissue-change and may at last leave a permanent weakness. You know, too, what a black reaction comes upon you. Surely the game is hardly worth the candle. Why should you, for a mere passing pleasure, risk the loss of those great powers with which you have been endowed? Remember that I speak not only as one comrade to another, but as a medical man to one for whose constitution he is to some extent answerable.”',\n",
       " '“My mind,”',\n",
       " '“rebels at stagnation. Give me problems, give me work, give me the most abstruse cryptogram or the most intricate analysis, and I am in my own proper atmosphere. I can dispense then with artificial stimulants. But I abhor the dull routine of existence. I crave for mental exaltation. That is why I have chosen my own particular profession,—or rather created it, for I am the only one in the world.”',\n",
       " '“The only unofficial detective?”',\n",
       " '“The only unofficial consulting detective,”',\n",
       " '“I am the last and highest court of appeal in detection. When Gregson or Lestrade or Athelney Jones are out of their depths—which, by the way, is their normal state—the matter is laid before me. I examine the data, as an expert, and pronounce a specialist’s opinion. I claim no credit in such cases. My name figures in no newspaper. The work itself, the pleasure of finding a field for my peculiar powers, is my highest reward. But you have yourself had some experience of my methods of work in the Jefferson Hope case.”',\n",
       " '“Yes, indeed,”',\n",
       " '“I was never so struck by anything in my life. I even embodied it in a small brochure with the somewhat fantastic title of ‘A Study in Scarlet.’”',\n",
       " '“I glanced over it,”',\n",
       " '“Honestly, I cannot congratulate you upon it. Detection is, or ought to be, an exact science, and should be treated in the same cold and unemotional manner. You have attempted to tinge it with romanticism, which produces much the same effect as if you worked a love-story or an elopement into the fifth proposition of Euclid.”',\n",
       " '“But the romance was there,”',\n",
       " '“I could not tamper with the facts.”',\n",
       " '“Some facts should be suppressed, or at least a just sense of proportion should be observed in treating them. The only point in the case which deserved mention was the curious analytical reasoning from effects to causes by which I succeeded in unraveling it.”',\n",
       " '“My practice has extended recently to the Continent,”',\n",
       " '“I was consulted last week by François Le Villard, who, as you probably know, has come rather to the front lately in the French detective service. He has all the Celtic power of quick intuition, but he is deficient in the wide range of exact knowledge which is essential to the higher developments of his art. The case was concerned with a will, and possessed some features of interest. I was able to refer him to two parallel cases, the one at Riga in 1857, and the other at St. Louis in 1871, which have suggested to him the true solution. Here is the letter which I had this morning acknowledging my assistance.”',\n",
       " '“magnifiques,”',\n",
       " '“coup-de-maîtres,”',\n",
       " '“tours-de-force,”',\n",
       " '“He speaks as a pupil to his master,”',\n",
       " '“Oh, he rates my assistance too highly,”',\n",
       " '“He has considerable gifts himself. He possesses two out of the three qualities necessary for the ideal detective. He has the power of observation and that of deduction. He is only wanting in knowledge; and that may come in time. He is now translating my small works into French.”',\n",
       " '“Your works?”',\n",
       " '“Oh, didn’t you know?”',\n",
       " '“Yes, I have been guilty of several monographs. They are all upon technical subjects. Here, for example, is one ‘Upon the Distinction between the Ashes of the Various Tobaccoes.’ In it I enumerate a hundred and forty forms of cigar-, cigarette-, and pipe-tobacco, with coloured plates illustrating the difference in the ash. It is a point which is continually turning up in criminal trials, and which is sometimes of supreme importance as a clue. If you can say definitely, for example, that some murder has been done by a man who was smoking an Indian lunkah, it obviously narrows your field of search. To the trained eye there is as much difference between the black ash of a Trichinopoly and the white fluff of bird’s-eye as there is between a cabbage and a potato.”',\n",
       " '“You have an extraordinary genius for minutiæ,”',\n",
       " '“I appreciate their importance. Here is my monograph upon the tracing of footsteps, with some remarks upon the uses of plaster of Paris as a preserver of impresses. Here, too, is a curious little work upon the influence of a trade upon the form of the hand, with lithotypes of the hands of slaters, sailors, corkcutters, compositors, weavers, and diamond-polishers. That is a matter of great practical interest to the scientific detective,—especially in cases of unclaimed bodies, or in discovering the antecedents of criminals. But I weary you with my hobby.”',\n",
       " '“Not at all,”',\n",
       " '“It is of the greatest interest to me, especially since I have had the opportunity of observing your practical application of it. But you spoke just now of observation and deduction. Surely the one to some extent implies the other.”',\n",
       " '“Why, hardly,”',\n",
       " '“For example, observation shows me that you have been to the Wigmore Street Post-Office this morning, but deduction lets me know that when there you dispatched a telegram.”',\n",
       " '“Right!”',\n",
       " '“Right on both points! But I confess that I don’t see how you arrived at it. It was a sudden impulse upon my part, and I have mentioned it to no one.”',\n",
       " '“It is simplicity itself,”',\n",
       " '“so absurdly simple that an explanation is superfluous; and yet it may serve to define the limits of observation and of deduction. Observation tells me that you have a little reddish mould adhering to your instep. Just opposite the Wigmore Street Office they have taken up the pavement and thrown up some earth which lies in such a way that it is difficult to avoid treading in it in entering. The earth is of this peculiar reddish tint which is found, as far as I know, nowhere else in the neighbourhood. So much is observation. The rest is deduction.”',\n",
       " '“How, then, did you deduce the telegram?”',\n",
       " '“Why, of course I knew that you had not written a letter, since I sat opposite to you all morning. I see also in your open desk there that you have a sheet of stamps and a thick bundle of post-cards. What could you go into the post-office for, then, but to send a wire? Eliminate all other factors, and the one which remains must be the truth.”',\n",
       " '“In this case it certainly is so,”',\n",
       " '“The thing, however, is, as you say, of the simplest. Would you think me impertinent if I were to put your theories to a more severe test?”',\n",
       " '“On the contrary,”',\n",
       " '“it would prevent me from taking a second dose of cocaine. I should be delighted to look into any problem which you might submit to me.”',\n",
       " '“I have heard you say that it is difficult for a man to have any object in daily use without leaving the impress of his individuality upon it in such a way that a trained observer might read it. Now, I have here a watch which has recently come into my possession. Would you have the kindness to let me have an opinion upon the character or habits of the late owner?”',\n",
       " '“There are hardly any data,”',\n",
       " '“The watch has been recently cleaned, which robs me of my most suggestive facts.”',\n",
       " '“You are right,”',\n",
       " '“It was cleaned before being sent to me.”',\n",
       " '“Though unsatisfactory, my research has not been entirely barren,”',\n",
       " '“Subject to your correction, I should judge that the watch belonged to your elder brother, who inherited it from your father.”',\n",
       " '“That you gather, no doubt, from the H. W. upon the back?”',\n",
       " '“Quite so. The W. suggests your own name. The date of the watch is nearly fifty years back, and the initials are as old as the watch: so it was made for the last generation. Jewelry usually descends to the eldest son, and he is most likely to have the same name as the father. Your father has, if I remember right, been dead many years. It has, therefore, been in the hands of your eldest brother.”',\n",
       " '“Right, so far,”',\n",
       " '“Anything else?”',\n",
       " '“He was a man of untidy habits,—very untidy and careless. He was left with good prospects, but he threw away his chances, lived for some time in poverty with occasional short intervals of prosperity, and finally, taking to drink, he died. That is all I can gather.”',\n",
       " '“This is unworthy of you, Holmes,”',\n",
       " '“I could not have believed that you would have descended to this. You have made inquires into the history of my unhappy brother, and you now pretend to deduce this knowledge in some fanciful way. You cannot expect me to believe that you have read all this from his old watch! It is unkind, and, to speak plainly, has a touch of charlatanism in it.”',\n",
       " '“My dear doctor,”',\n",
       " '“pray accept my apologies. Viewing the matter as an abstract problem, I had forgotten how personal and painful a thing it might be to you. I assure you, however, that I never even knew that you had a brother until you handed me the watch.”',\n",
       " '“Then how in the name of all that is wonderful did you get these facts? They are absolutely correct in every particular.”',\n",
       " '“Ah, that is good luck. I could only say what was the balance of probability. I did not at all expect to be so accurate.”',\n",
       " '“But it was not mere guess-work?”',\n",
       " '“No, no: I never guess. It is a shocking habit,—destructive to the logical faculty. What seems strange to you is only so because you do not follow my train of thought or observe the small facts upon which large inferences may depend. For example, I began by stating that your brother was careless. When you observe the lower part of that watch-case you notice that it is not only dinted in two places, but it is cut and marked all over from the habit of keeping other hard objects, such as coins or keys, in the same pocket. Surely it is no great feat to assume that a man who treats a fifty-guinea watch so cavalierly must be a careless man. Neither is it a very far-fetched inference that a man who inherits one article of such value is pretty well provided for in other respects.”',\n",
       " '“It is very customary for pawnbrokers in England, when they take a watch, to scratch the number of the ticket with a pin-point upon the inside of the case. It is more handy than a label, as there is no risk of the number being lost or transposed. There are no less than four such numbers visible to my lens on the inside of this case. Inference,—that your brother was often at low water. Secondary inference,—that he had occasional bursts of prosperity, or he could not have redeemed the pledge. Finally, I ask you to look at the inner plate, which contains the key-hole. Look at the thousands of scratches all round the hole,—marks where the key has slipped. What sober man’s key could have scored those grooves? But you will never see a drunkard’s watch without them. He winds it at night, and he leaves these traces of his unsteady hand. Where is the mystery in all this?”',\n",
       " '“It is as clear as daylight,”',\n",
       " '“I regret the injustice which I did you. I should have had more faith in your marvellous faculty. May I ask whether you have any professional inquiry on foot at present?”',\n",
       " '“None. Hence the cocaine. I cannot live without brain-work. What else is there to live for? Stand at the window here. Was ever such a dreary, dismal, unprofitable world? See how the yellow fog swirls down the street and drifts across the dun-coloured houses. What could be more hopelessly prosaic and material? What is the use of having powers, doctor, when one has no field upon which to exert them? Crime is commonplace, existence is commonplace, and no qualities save those which are commonplace have any function upon earth.”',\n",
       " '“A young lady for you, sir,”',\n",
       " '“Miss Mary Morstan,”',\n",
       " '“Hum! I have no recollection of the name. Ask the young lady to step up, Mrs. Hudson. Don’t go, doctor. I should prefer that you remain.”',\n",
       " '“I have come to you, Mr. Holmes,”',\n",
       " '“because you once enabled my employer, Mrs. Cecil Forrester, to unravel a little domestic complication. She was much impressed by your kindness and skill.”',\n",
       " '“Mrs. Cecil Forrester,”',\n",
       " '“I believe that I was of some slight service to her. The case, however, as I remember it, was a very simple one.”',\n",
       " '“She did not think so. But at least you cannot say the same of mine. I can hardly imagine anything more strange, more utterly inexplicable, than the situation in which I find myself.”',\n",
       " '“State your case,”',\n",
       " '“You will, I am sure, excuse me,”',\n",
       " '“If your friend,”',\n",
       " '“would be good enough to stop, he might be of inestimable service to me.”',\n",
       " '“Briefly,”',\n",
       " '“the facts are these. My father was an officer in an Indian regiment who sent me home when I was quite a child. My mother was dead, and I had no relative in England. I was placed, however, in a comfortable boarding establishment at Edinburgh, and there I remained until I was seventeen years of age. In the year 1878 my father, who was senior captain of his regiment, obtained twelve months’ leave and came home. He telegraphed to me from London that he had arrived all safe, and directed me to come down at once, giving the Langham Hotel as his address. His message, as I remember, was full of kindness and love. On reaching London I drove to the Langham, and was informed that Captain Morstan was staying there, but that he had gone out the night before and had not yet returned. I waited all day without news of him. That night, on the advice of the manager of the hotel, I communicated with the police, and next morning we advertised in all the papers. Our inquiries led to no result; and from that day to this no word has ever been heard of my unfortunate father. He came home with his heart full of hope, to find some peace, some comfort, and instead—”',\n",
       " '“The date?”',\n",
       " '“He disappeared upon the 3rd of December, 1878,—nearly ten years ago.”',\n",
       " '“His luggage?”',\n",
       " '“Remained at the hotel. There was nothing in it to suggest a clue,—some clothes, some books, and a considerable number of curiosities from the Andaman Islands. He had been one of the officers in charge of the convict-guard there.”',\n",
       " '“Had he any friends in town?”',\n",
       " '“Only one that we know of,—Major Sholto, of his own regiment, the 34th Bombay Infantry. The major had retired some little time before, and lived at Upper Norwood. We communicated with him, of course, but he did not even know that his brother officer was in England.”',\n",
       " '“A singular case,”',\n",
       " '“I have not yet described to you the most singular part. About six years ago—to be exact, upon the 4th of May, 1882—an advertisement appeared in the _Times_ asking for the address of Miss Mary Morstan and stating that it would be to her advantage to come forward. There was no name or address appended. I had at that time just entered the family of Mrs. Cecil Forrester in the capacity of governess. By her advice I published my address in the advertisement column. The same day there arrived through the post a small card-board box addressed to me, which I found to contain a very large and lustrous pearl. No word of writing was enclosed. Since then every year upon the same date there has always appeared a similar box, containing a similar pearl, without any clue as to the sender. They have been pronounced by an expert to be of a rare variety and of considerable value. You can see for yourselves that they are very handsome.”',\n",
       " '“Your statement is most interesting,”',\n",
       " '“Has anything else occurred to you?”',\n",
       " '“Yes, and no later than to-day. That is why I have come to you. This morning I received this letter, which you will perhaps read for yourself.”',\n",
       " '“Thank you,”',\n",
       " '“The envelope too, please. Postmark, London, S.W. Date, July 7. Hum! Man’s thumb-mark on corner,—probably postman. Best quality paper. Envelopes at sixpence a packet. Particular man in his stationery. No address. ‘Be at the third pillar from the left outside the Lyceum Theatre to-night at seven o’clock. If you are distrustful, bring two friends. You are a wronged woman, and shall have justice. Do not bring police. If you do, all will be in vain. Your unknown friend.’ Well, really, this is a very pretty little mystery. What do you intend to do, Miss Morstan?”',\n",
       " '“That is exactly what I want to ask you.”',\n",
       " '“Then we shall most certainly go. You and I and—yes, why, Dr. Watson is the very man. Your correspondent says two friends. He and I have worked together before.”',\n",
       " '“But would he come?”',\n",
       " '“I should be proud and happy,”',\n",
       " '“if I can be of any service.”',\n",
       " '“You are both very kind,”',\n",
       " '“I have led a retired life, and have no friends whom I could appeal to. If I am here at six it will do, I suppose?”',\n",
       " '“You must not be later,”',\n",
       " '“There is one other point, however. Is this handwriting the same as that upon the pearl-box addresses?”',\n",
       " '“I have them here,”',\n",
       " '“You are certainly a model client. You have the correct intuition. Let us see, now.”',\n",
       " '“They are disguised hands, except the letter,”',\n",
       " '“but there can be no question as to the authorship. See how the irrepressible Greek _e_ will break out, and see the twirl of the final _s_. They are undoubtedly by the same person. I should not like to suggest false hopes, Miss Morstan, but is there any resemblance between this hand and that of your father?”',\n",
       " '“Nothing could be more unlike.”',\n",
       " '“I expected to hear you say so. We shall look out for you, then, at six. Pray allow me to keep the papers. I may look into the matter before then. It is only half-past three. _Au revoir_, then.”',\n",
       " '“_Au revoir_,”',\n",
       " '“What a very attractive woman!”',\n",
       " '“Is she?”',\n",
       " '“I did not observe.”',\n",
       " '“You really are an automaton,—a calculating-machine!”',\n",
       " '“There is something positively inhuman in you at times.”',\n",
       " '“It is of the first importance,”',\n",
       " '“not to allow your judgment to be biased by personal qualities. A client is to me a mere unit,—a factor in a problem. The emotional qualities are antagonistic to clear reasoning. I assure you that the most winning woman I ever knew was hanged for poisoning three little children for their insurance-money, and the most repellant man of my acquaintance is a philanthropist who has spent nearly a quarter of a million upon the London poor.”',\n",
       " '“In this case, however—”',\n",
       " '“I never make exceptions. An exception disproves the rule. Have you ever had occasion to study character in handwriting? What do you make of this fellow’s scribble?”',\n",
       " '“It is legible and regular,”',\n",
       " '“A man of business habits and some force of character.”',\n",
       " '“Look at his long letters,”',\n",
       " '“They hardly rise above the common herd. That _d_ might be an _a_, and that _l_ an _e_. Men of character always differentiate their long letters, however illegibly they may write. There is vacillation in his _k_’s and self-esteem in his capitals. I am going out now. I have some few references to make. Let me recommend this book,—one of the most remarkable ever penned. It is Winwood Reade’s ‘Martyrdom of Man.’ I shall be back in an hour.”',\n",
       " '“There is no great mystery in this matter,”',\n",
       " '“The facts appear to admit of only one explanation.”',\n",
       " '“What! you have solved it already?”',\n",
       " '“Well, that would be too much to say. I have discovered a suggestive fact, that is all. It is, however, _very_ suggestive. The details are still to be added. I have just found, on consulting the back files of the _Times_, that Major Sholto, of Upper Norword, late of the 34th Bombay Infantry, died upon the 28th of April, 1882.”',\n",
       " '“I may be very obtuse, Holmes, but I fail to see what this suggests.”',\n",
       " '“No? You surprise me. Look at it in this way, then. Captain Morstan disappears. The only person in London whom he could have visited is Major Sholto. Major Sholto denies having heard that he was in London. Four years later Sholto dies. _Within a week of his death_ Captain Morstan’s daughter receives a valuable present, which is repeated from year to year, and now culminates in a letter which describes her as a wronged woman. What wrong can it refer to except this deprivation of her father? And why should the presents begin immediately after Sholto’s death, unless it is that Sholto’s heir knows something of the mystery and desires to make compensation? Have you any alternative theory which will meet the facts?”',\n",
       " '“But what a strange compensation! And how strangely made! Why, too, should he write a letter now, rather than six years ago? Again, the letter speaks of giving her justice. What justice can she have? It is too much to suppose that her father is still alive. There is no other injustice in her case that you know of.”',\n",
       " '“There are difficulties; there are certainly difficulties,”',\n",
       " '“But our expedition of to-night will solve them all. Ah, here is a four-wheeler, and Miss Morstan is inside. Are you all ready? Then we had better go down, for it is a little past the hour.”',\n",
       " '“Major Sholto was a very particular friend of papa’s,”',\n",
       " '“His letters were full of allusions to the major. He and papa were in command of the troops at the Andaman Islands, so they were thrown a great deal together. By the way, a curious paper was found in papa’s desk which no one could understand. I don’t suppose that it is of the slightest importance, but I thought you might care to see it, so I brought it with me. It is here.”',\n",
       " '“It is paper of native Indian manufacture,”',\n",
       " '“It has at some time been pinned to a board. The diagram upon it appears to be a plan of part of a large building with numerous halls, corridors, and passages. At one point is a small cross done in red ink, and above it is ‘3.37 from left,’ in faded pencil-writing. In the left-hand corner is a curious hieroglyphic like four crosses in a line with their arms touching. Beside it is written, in very rough and coarse characters, ‘The sign of the four,—Jonathan Small, Mahomet Singh, Abdullah Khan, Dost Akbar.’ No, I confess that I do not see how this bears upon the matter. Yet it is evidently a document of importance. It has been kept carefully in a pocket-book; for the one side is as clean as the other.”',\n",
       " '“It was in his pocket-book that we found it.”',\n",
       " '“Preserve it carefully, then, Miss Morstan, for it may prove to be of use to us. I begin to suspect that this matter may turn out to be much deeper and more subtle than I at first supposed. I must reconsider my ideas.”',\n",
       " '“Are you the parties who come with Miss Morstan?”',\n",
       " '“I am Miss Morstan, and these two gentlemen are my friends,”',\n",
       " '“You will excuse me, miss,”',\n",
       " '“but I was to ask you to give me your word that neither of your companions is a police-officer.”',\n",
       " '“I give you my word on that,”',\n",
       " '“Rochester Row,”',\n",
       " '“Now Vincent Square. Now we come out on the Vauxhall Bridge Road. We are making for the Surrey side, apparently. Yes, I thought so. Now we are on the bridge. You can catch glimpses of the river.”',\n",
       " '“Wordsworth Road,”',\n",
       " '“Priory Road. Lark Hall Lane. Stockwell Place. Robert Street. Cold Harbor Lane. Our quest does not appear to take us to very fashionable regions.”',\n",
       " '“The Sahib awaits you,”',\n",
       " '“Show them in to me, khitmutgar,”',\n",
       " '“Show them straight in to me.”',\n",
       " '“Your servant, Miss Morstan,”',\n",
       " '“Your servant, gentlemen. Pray step into my little sanctum. A small place, miss, but furnished to my own liking. An oasis of art in the howling desert of South London.”',\n",
       " '“Mr. Thaddeus Sholto,”',\n",
       " '“That is my name. You are Miss Morstan, of course. And these gentlemen—”',\n",
       " '“This is Mr. Sherlock Holmes, and this is Dr. Watson.”',\n",
       " '“A doctor, eh?”',\n",
       " '“Have you your stethoscope? Might I ask you—would you have the kindness? I have grave doubts as to my mitral valve, if you would be so very good. The aortic I may rely upon, but I should value your opinion upon the mitral.”',\n",
       " '“It appears to be normal,”',\n",
       " '“You have no cause for uneasiness.”',\n",
       " '“You will excuse my anxiety, Miss Morstan,”',\n",
       " '“I am a great sufferer, and I have long had suspicions as to that valve. I am delighted to hear that they are unwarranted. Had your father, Miss Morstan, refrained from throwing a strain upon his heart, he might have been alive now.”',\n",
       " '“I knew in my heart that he was dead,”',\n",
       " '“I can give you every information,”',\n",
       " '“and, what is more, I can do you justice; and I will, too, whatever Brother Bartholomew may say. I am so glad to have your friends here, not only as an escort to you, but also as witnesses to what I am about to do and say. The three of us can show a bold front to Brother Bartholomew. But let us have no outsiders,—no police or officials. We can settle everything satisfactorily among ourselves, without any interference. Nothing would annoy Brother Bartholomew more than any publicity.”',\n",
       " '“For my part,”',\n",
       " '“whatever you may choose to say will go no further.”',\n",
       " '“That is well! That is well!”',\n",
       " '“May I offer you a glass of Chianti, Miss Morstan? Or of Tokay? I keep no other wines. Shall I open a flask? No? Well, then, I trust that you have no objection to tobacco-smoke, to the mild balsamic odour of the Eastern tobacco. I am a little nervous, and I find my hookah an invaluable sedative.”',\n",
       " '“When I first determined to make this communication to you,”',\n",
       " '“I might have given you my address, but I feared that you might disregard my request and bring unpleasant people with you. I took the liberty, therefore, of making an appointment in such a way that my man Williams might be able to see you first. I have complete confidence in his discretion, and he had orders, if he were dissatisfied, to proceed no further in the matter. You will excuse these precautions, but I am a man of somewhat retiring, and I might even say refined, tastes, and there is nothing more unæsthetic than a policeman. I have a natural shrinking from all forms of rough materialism. I seldom come in contact with the rough crowd. I live, as you see, with some little atmosphere of elegance around me. I may call myself a patron of the arts. It is my weakness. The landscape is a genuine Corot, and, though a connoisseur might perhaps throw a doubt upon that Salvator Rosa, there cannot be the least question about the Bouguereau. I am partial to the modern French school.”',\n",
       " '“You will excuse me, Mr. Sholto,”',\n",
       " '“but I am here at your request to learn something which you desire to tell me. It is very late, and I should desire the interview to be as short as possible.”',\n",
       " '“At the best it must take some time,”',\n",
       " '“for we shall certainly have to go to Norwood and see Brother Bartholomew. We shall all go and try if we can get the better of Brother Bartholomew. He is very angry with me for taking the course which has seemed right to me. I had quite high words with him last night. You cannot imagine what a terrible fellow he is when he is angry.”',\n",
       " '“If we are to go to Norwood it would perhaps be as well to start at once,”',\n",
       " '“That would hardly do,”',\n",
       " '“I don’t know what he would say if I brought you in that sudden way. No, I must prepare you by showing you how we all stand to each other. In the first place, I must tell you that there are several points in the story of which I am myself ignorant. I can only lay the facts before you as far as I know them myself.\\n\\n“My father was, as you may have guessed, Major John Sholto, once of the Indian army. He retired some eleven years ago, and came to live at Pondicherry Lodge in Upper Norwood. He had prospered in India, and brought back with him a considerable sum of money, a large collection of valuable curiosities, and a staff of native servants. With these advantages he bought himself a house, and lived in great luxury. My twin-brother Bartholomew and I were the only children.\\n\\n“I very well remember the sensation which was caused by the disappearance of Captain Morstan. We read the details in the papers, and, knowing that he had been a friend of our father’s, we discussed the case freely in his presence. He used to join in our speculations as to what could have happened. Never for an instant did we suspect that he had the whole secret hidden in his own breast,—that of all men he alone knew the fate of Arthur Morstan.\\n\\n“We did know, however, that some mystery—some positive danger—overhung our father. He was very fearful of going out alone, and he always employed two prize-fighters to act as porters at Pondicherry Lodge. Williams, who drove you to-night, was one of them. He was once light-weight champion of England. Our father would never tell us what it was he feared, but he had a most marked aversion to men with wooden legs. On one occasion he actually fired his revolver at a wooden-legged man, who proved to be a harmless tradesman canvassing for orders. We had to pay a large sum to hush the matter up. My brother and I used to think this a mere whim of my father’s, but events have since led us to change our opinion.\\n\\n“Early in 1882 my father received a letter from India which was a great shock to him. He nearly fainted at the breakfast-table when he opened it, and from that day he sickened to his death. What was in the letter we could never discover, but I could see as he held it that it was short and written in a scrawling hand. He had suffered for years from an enlarged spleen, but he now became rapidly worse, and towards the end of April we were informed that he was beyond all hope, and that he wished to make a last communication to us.\\n\\n“When we entered his room he was propped up with pillows and breathing heavily. He besought us to lock the door and to come upon either side of the bed. Then, grasping our hands, he made a remarkable statement to us, in a voice which was broken as much by emotion as by pain. I shall try and give it to you in his own very words.\\n\\n“‘I have only one thing,’ he said, ‘which weighs upon my mind at this supreme moment. It is my treatment of poor Morstan’s orphan. The cursed greed which has been my besetting sin through life has withheld from her the treasure, half at least of which should have been hers. And yet I have made no use of it myself,—so blind and foolish a thing is avarice. The mere feeling of possession has been so dear to me that I could not bear to share it with another. See that chaplet dipped with pearls beside the quinine-bottle. Even that I could not bear to part with, although I had got it out with the design of sending it to her. You, my sons, will give her a fair share of the Agra treasure. But send her nothing—not even the chaplet—until I am gone. After all, men have been as bad as this and have recovered.\\n\\n“‘I will tell you how Morstan died,’ he continued. ‘He had suffered for years from a weak heart, but he concealed it from every one. I alone knew it. When in India, he and I, through a remarkable chain of circumstances, came into possession of a considerable treasure. I brought it over to England, and on the night of Morstan’s arrival he came straight over here to claim his share. He walked over from the station, and was admitted by my faithful old Lal Chowdar, who is now dead. Morstan and I had a difference of opinion as to the division of the treasure, and we came to heated words. Morstan had sprung out of his chair in a paroxysm of anger, when he suddenly pressed his hand to his side, his face turned a dusky hue, and he fell backwards, cutting his head against the corner of the treasure-chest. When I stooped over him I found, to my horror, that he was dead.\\n\\n“‘For a long time I sat half distracted, wondering what I should do. My first impulse was, of course, to call for assistance; but I could not but recognise that there was every chance that I would be accused of his murder. His death at the moment of a quarrel, and the gash in his head, would be black against me. Again, an official inquiry could not be made without bringing out some facts about the treasure, which I was particularly anxious to keep secret. He had told me that no soul upon earth knew where he had gone. There seemed to be no necessity why any soul ever should know.\\n\\n“‘I was still pondering over the matter, when, looking up, I saw my servant, Lal Chowdar, in the doorway. He stole in and bolted the door behind him. “Do not fear, Sahib,”',\n",
       " '“No one need know that you have killed him. Let us hide him away, and who is the wiser?”',\n",
       " '“I did not kill him,”',\n",
       " '“I heard it all, Sahib,”',\n",
       " '“I heard you quarrel, and I heard the blow. But my lips are sealed. All are asleep in the house. Let us put him away together.”',\n",
       " '“At this instant a horrible change came over his expression; his eyes stared wildly, his jaw dropped, and he yelled, in a voice which I can never forget, ‘Keep him out! For Christ’s sake keep him out!’ We both stared round at the window behind us upon which his gaze was fixed. A face was looking in at us out of the darkness. We could see the whitening of the nose where it was pressed against the glass. It was a bearded, hairy face, with wild cruel eyes and an expression of concentrated malevolence. My brother and I rushed towards the window, but the man was gone. When we returned to my father his head had dropped and his pulse had ceased to beat.\\n\\n“We searched the garden that night, but found no sign of the intruder, save that just under the window a single footmark was visible in the flower-bed. But for that one trace, we might have thought that our imaginations had conjured up that wild, fierce face. We soon, however, had another and a more striking proof that there were secret agencies at work all round us. The window of my father’s room was found open in the morning, his cupboards and boxes had been rifled, and upon his chest was fixed a torn piece of paper, with the words ‘The sign of the four’ scrawled across it. What the phrase meant, or who our secret visitor may have been, we never knew. As far as we can judge, none of my father’s property had been actually stolen, though everything had been turned out. My brother and I naturally associated this peculiar incident with the fear which haunted my father during his life; but it is still a complete mystery to us.”',\n",
       " '“My brother and I,”',\n",
       " '“were, as you may imagine, much excited as to the treasure which my father had spoken of. For weeks and for months we dug and delved in every part of the garden, without discovering its whereabouts. It was maddening to think that the hiding-place was on his very lips at the moment that he died. We could judge the splendour of the missing riches by the chaplet which he had taken out. Over this chaplet my brother Bartholomew and I had some little discussion. The pearls were evidently of great value, and he was averse to part with them, for, between friends, my brother was himself a little inclined to my father’s fault. He thought, too, that if we parted with the chaplet it might give rise to gossip and finally bring us into trouble. It was all that I could do to persuade him to let me find out Miss Morstan’s address and send her a detached pearl at fixed intervals, so that at least she might never feel destitute.”',\n",
       " '“It was a kindly thought,”',\n",
       " '“It was extremely good of you.”',\n",
       " '“We were your trustees,”',\n",
       " '“That was the view which I took of it, though Brother Bartholomew could not altogether see it in that light. We had plenty of money ourselves. I desired no more. Besides, it would have been such bad taste to have treated a young lady in so scurvy a fashion. ‘Le mauvais goût mène au crime.’ The French have a very neat way of putting these things. Our difference of opinion on this subject went so far that I thought it best to set up rooms for myself: so I left Pondicherry Lodge, taking the old khitmutgar and Williams with me. Yesterday, however, I learn that an event of extreme importance has occurred. The treasure has been discovered. I instantly communicated with Miss Morstan, and it only remains for us to drive out to Norwood and demand our share. I explained my views last night to Brother Bartholomew: so we shall be expected, if not welcome, visitors.”',\n",
       " '“You have done well, sir, from first to last,”',\n",
       " '“It is possible that we may be able to make you some small return by throwing some light upon that which is still dark to you. But, as Miss Morstan remarked just now, it is late, and we had best put the matter through without delay.”',\n",
       " '“My health is somewhat fragile,”',\n",
       " '“I am compelled to be a valetudinarian.”',\n",
       " '“Bartholomew is a clever fellow,”',\n",
       " '“How do you think he found out where the treasure was? He had come to the conclusion that it was somewhere indoors: so he worked out all the cubic space of the house, and made measurements everywhere, so that not one inch should be unaccounted for. Among other things, he found that the height of the building was seventy-four feet, but on adding together the heights of all the separate rooms, and making every allowance for the space between, which he ascertained by borings, he could not bring the total to more than seventy feet. There were four feet unaccounted for. These could only be at the top of the building. He knocked a hole, therefore, in the lath-and-plaster ceiling of the highest room, and there, sure enough, he came upon another little garret above it, which had been sealed up and was known to no one. In the centre stood the treasure-chest, resting upon two rafters. He lowered it through the hole, and there it lies. He computes the value of the jewels at not less than half a million sterling.”',\n",
       " '“This, Miss Morstan, is Pondicherry Lodge,”',\n",
       " '“Who is there?”',\n",
       " '“It is I, McMurdo. You surely know my knock by this time.”',\n",
       " '“That you, Mr. Thaddeus? But who are the others? I had no orders about them from the master.”',\n",
       " '“No, McMurdo? You surprise me! I told my brother last night that I should bring some friends.”',\n",
       " '“He ain’t been out o’ his room to-day, Mr. Thaddeus, and I have no orders. You know very well that I must stick to regulations. I can let you in, but your friends must just stop where they are.”',\n",
       " '“This is too bad of you, McMurdo!”',\n",
       " '“If I guarantee them, that is enough for you. There is the young lady, too. She cannot wait on the public road at this hour.”',\n",
       " '“Very sorry, Mr. Thaddeus,”',\n",
       " '“Folk may be friends o’ yours, and yet no friends o’ the master’s. He pays me well to do my duty, and my duty I’ll do. I don’t know none o’ your friends.”',\n",
       " '“Oh, yes you do, McMurdo,”',\n",
       " '“I don’t think you can have forgotten me. Don’t you remember the amateur who fought three rounds with you at Alison’s rooms on the night of your benefit four years back?”',\n",
       " '“Not Mr. Sherlock Holmes!”',\n",
       " '“God’s truth! how could I have mistook you? If instead o’ standin’ there so quiet you had just stepped up and given me that cross-hit of yours under the jaw, I’d ha’ known you without a question. Ah, you’re one that has wasted your gifts, you have! You might have aimed high, if you had joined the fancy.”',\n",
       " '“You see, Watson, if all else fails me I have still one of the scientific professions open to me,”',\n",
       " '“Our friend won’t keep us out in the cold now, I am sure.”',\n",
       " '“In you come, sir, in you come,—you and your friends,”',\n",
       " '“Very sorry, Mr. Thaddeus, but orders are very strict. Had to be certain of your friends before I let them in.”',\n",
       " '“I cannot understand it,”',\n",
       " '“There must be some mistake. I distinctly told Bartholomew that we should be here, and yet there is no light in his window. I do not know what to make of it.”',\n",
       " '“Does he always guard the premises in this way?”',\n",
       " '“Yes; he has followed my father’s custom. He was the favourite son, you know, and I sometimes think that my father may have told him more than he ever told me. That is Bartholomew’s window up there where the moonshine strikes. It is quite bright, but there is no light from within, I think.”',\n",
       " '“None,”',\n",
       " '“But I see the glint of a light in that little window beside the door.”',\n",
       " '“Ah, that is the housekeeper’s room. That is where old Mrs. Bernstone sits. She can tell us all about it. But perhaps you would not mind waiting here for a minute or two, for if we all go in together and she has no word of our coming she may be alarmed. But hush! what is that?”',\n",
       " '“It is Mrs. Bernstone,”',\n",
       " '“She is the only woman in the house. Wait here. I shall be back in a moment.”',\n",
       " '“Oh, Mr. Thaddeus, sir, I am so glad you have come! I am so glad you have come, Mr. Thaddeus, sir!”',\n",
       " '“What a strange place!”',\n",
       " '“It looks as though all the moles in England had been let loose in it. I have seen something of the sort on the side of a hill near Ballarat, where the prospectors had been at work.”',\n",
       " '“And from the same cause,”',\n",
       " '“These are the traces of the treasure-seekers. You must remember that they were six years looking for it. No wonder that the grounds look like a gravel-pit.”',\n",
       " '“There is something amiss with Bartholomew!”',\n",
       " '“I am frightened! My nerves cannot stand it.”',\n",
       " '“Come into the house,”',\n",
       " '“Yes, do!”',\n",
       " '“I really do not feel equal to giving directions.”',\n",
       " '“God bless your sweet calm face!”',\n",
       " '“It does me good to see you. Oh, but I have been sorely tried this day!”',\n",
       " '“Master has locked himself in and will not answer me,”',\n",
       " '“All day I have waited to hear from him, for he often likes to be alone; but an hour ago I feared that something was amiss, so I went up and peeped through the key-hole. You must go up, Mr. Thaddeus,—you must go up and look for yourself. I have seen Mr. Bartholomew Sholto in joy and in sorrow for ten long years, but I never saw him with such a face on him as that.”',\n",
       " '“There is something devilish in this, Watson,”',\n",
       " '“What do you make of it?”',\n",
       " '“This is terrible!”',\n",
       " '“What is to be done?”',\n",
       " '“The door must come down,”',\n",
       " '“You see,”',\n",
       " '“The sign of the four.”',\n",
       " '“In God’s name, what does it all mean?”',\n",
       " '“It means murder,”',\n",
       " '“Ah, I expected it. Look here!”',\n",
       " '“It looks like a thorn,”',\n",
       " '“It is a thorn. You may pick it out. But be careful, for it is poisoned.”',\n",
       " '“This is all an insoluble mystery to me,”',\n",
       " '“It grows darker instead of clearer.”',\n",
       " '“On the contrary,”',\n",
       " '“it clears every instant. I only require a few missing links to have an entirely connected case.”',\n",
       " '“The treasure is gone!”',\n",
       " '“They have robbed him of the treasure! There is the hole through which we lowered it. I helped him to do it! I was the last person who saw him! I left him here last night, and I heard him lock the door as I came downstairs.”',\n",
       " '“What time was that?”',\n",
       " '“It was ten o’clock. And now he is dead, and the police will be called in, and I shall be suspected of having had a hand in it. Oh, yes, I am sure I shall. But you don’t think so, gentlemen? Surely you don’t think that it was I? Is it likely that I would have brought you here if it were I? Oh, dear! oh, dear! I know that I shall go mad!”',\n",
       " '“You have no reason for fear, Mr. Sholto,”',\n",
       " '“Take my advice, and drive down to the station to report this matter to the police. Offer to assist them in every way. We shall wait here until your return.”',\n",
       " '“Now, Watson,”',\n",
       " '“we have half an hour to ourselves. Let us make good use of it. My case is, as I have told you, almost complete; but we must not err on the side of over-confidence. Simple as the case seems now, there may be something deeper underlying it.”',\n",
       " '“Simple!”',\n",
       " '“Surely,”',\n",
       " '“Just sit in the corner there, that your footprints may not complicate matters. Now to work! In the first place, how did these folk come, and how did they go? The door has not been opened since last night. How of the window?”',\n",
       " '“Window is snibbed on the inner side. Framework is solid. No hinges at the side. Let us open it. No water-pipe near. Roof quite out of reach. Yet a man has mounted by the window. It rained a little last night. Here is the print of a foot in mould upon the sill. And here is a circular muddy mark, and here again upon the floor, and here again by the table. See here, Watson! This is really a very pretty demonstration.”',\n",
       " '“This is not a footmark,”',\n",
       " '“It is something much more valuable to us. It is the impression of a wooden stump. You see here on the sill is the boot-mark, a heavy boot with the broad metal heel, and beside it is the mark of the timber-toe.”',\n",
       " '“It is the wooden-legged man.”',\n",
       " '“Quite so. But there has been some one else,—a very able and efficient ally. Could you scale that wall, doctor?”',\n",
       " '“It is absolutely impossible,”',\n",
       " '“Without aid it is so. But suppose you had a friend up here who lowered you this good stout rope which I see in the corner, securing one end of it to this great hook in the wall. Then, I think, if you were an active man, You might swarm up, wooden leg and all. You would depart, of course, in the same fashion, and your ally would draw up the rope, untie it from the hook, shut the window, snib it on the inside, and get away in the way that he originally came. As a minor point it may be noted,”',\n",
       " '“that our wooden-legged friend, though a fair climber, was not a professional sailor. His hands were far from horny. My lens discloses more than one blood-mark, especially towards the end of the rope, from which I gather that he slipped down with such velocity that he took the skin off his hand.”',\n",
       " '“This is all very well,”',\n",
       " '“but the thing becomes more unintelligible than ever. How about this mysterious ally? How came he into the room?”',\n",
       " '“Yes, the ally!”',\n",
       " '“There are features of interest about this ally. He lifts the case from the regions of the commonplace. I fancy that this ally breaks fresh ground in the annals of crime in this country,—though parallel cases suggest themselves from India, and, if my memory serves me, from Senegambia.”',\n",
       " '“How came he, then?”',\n",
       " '“The door is locked, the window is inaccessible. Was it through the chimney?”',\n",
       " '“The grate is much too small,”',\n",
       " '“I had already considered that possibility.”',\n",
       " '“How then?”',\n",
       " '“You will not apply my precept,”',\n",
       " '“How often have I said to you that when you have eliminated the impossible whatever remains, _however improbable_, must be the truth? We know that he did not come through the door, the window, or the chimney. We also know that he could not have been concealed in the room, as there is no concealment possible. Whence, then, did he come?”',\n",
       " '“He came through the hole in the roof,”',\n",
       " '“Of course he did. He must have done so. If you will have the kindness to hold the lamp for me, we shall now extend our researches to the room above,—the secret room in which the treasure was found.”',\n",
       " '“Here you are, you see,”',\n",
       " '“This is a trap-door which leads out on to the roof. I can press it back, and here is the roof itself, sloping at a gentle angle. This, then, is the way by which Number One entered. Let us see if we can find any other traces of his individuality.”',\n",
       " '“Holmes,”',\n",
       " '“a child has done the horrid thing.”',\n",
       " '“I was staggered for the moment,”',\n",
       " '“but the thing is quite natural. My memory failed me, or I should have been able to foretell it. There is nothing more to be learned here. Let us go down.”',\n",
       " '“What is your theory, then, as to those footmarks?”',\n",
       " '“My dear Watson, try a little analysis yourself,”',\n",
       " '“You know my methods. Apply them, and it will be instructive to compare results.”',\n",
       " '“I cannot conceive anything which will cover the facts,”',\n",
       " '“It will be clear enough to you soon,”',\n",
       " '“I think that there is nothing else of importance here, but I will look.”',\n",
       " '“We are certainly in luck,”',\n",
       " '“We ought to have very little trouble now. Number One has had the misfortune to tread in the creosote. You can see the outline of the edge of his small foot here at the side of this evil-smelling mess. The carboy has been cracked, You see, and the stuff has leaked out.”',\n",
       " '“What then?”',\n",
       " '“Why, we have got him, that’s all,”',\n",
       " '“I know a dog that would follow that scent to the world’s end. If a pack can track a trailed herring across a shire, how far can a specially-trained hound follow so pungent a smell as this? It sounds like a sum in the rule of three. The answer should give us the—But halloa! here are the accredited representatives of the law.”',\n",
       " '“Before they come,”',\n",
       " '“just put your hand here on this poor fellow’s arm, and here on his leg. What do you feel?”',\n",
       " '“The muscles are as hard as a board,”',\n",
       " '“Quite so. They are in a state of extreme contraction, far exceeding the usual _rigor mortis_. Coupled with this distortion of the face, this Hippocratic smile, or ‘_risus sardonicus_,’ as the old writers called it, what conclusion would it suggest to your mind?”',\n",
       " '“Death from some powerful vegetable alkaloid,”',\n",
       " '“some strychnine-like substance which would produce tetanus.”',\n",
       " '“That was the idea which occurred to me the instant I saw the drawn muscles of the face. On getting into the room I at once looked for the means by which the poison had entered the system. As you saw, I discovered a thorn which had been driven or shot with no great force into the scalp. You observe that the part struck was that which would be turned towards the hole in the ceiling if the man were erect in his chair. Now examine the thorn.”',\n",
       " '“Is that an English thorn?”',\n",
       " '“No, it certainly is not.”',\n",
       " '“With all these data you should be able to draw some just inference. But here are the regulars; so the auxiliary forces may beat a retreat.”',\n",
       " '“Here’s a business!”',\n",
       " '“Here’s a pretty business! But who are all these? Why, the house seems to be as full as a rabbit-warren!”',\n",
       " '“I think you must recollect me, Mr. Athelney Jones,”',\n",
       " '“Why, of course I do!”',\n",
       " '“It’s Mr. Sherlock Holmes, the theorist. Remember you! I’ll never forget how you lectured us all on causes and inferences and effects in the Bishopgate jewel case. It’s true you set us on the right track; but you’ll own now that it was more by good luck than good guidance.”',\n",
       " '“It was a piece of very simple reasoning.”',\n",
       " '“Oh, come, now, come! Never be ashamed to own up. But what is all this? Bad business! Bad business! Stern facts here,—no room for theories. How lucky that I happened to be out at Norwood over another case! I was at the station when the message arrived. What d’you think the man died of?”',\n",
       " '“Oh, this is hardly a case for me to theorise over,”',\n",
       " '“No, no. Still, we can’t deny that you hit the nail on the head sometimes. Dear me! Door locked, I understand. Jewels worth half a million missing. How was the window?”',\n",
       " '“Fastened; but there are steps on the sill.”',\n",
       " '“Well, well, if it was fastened the steps could have nothing to do with the matter. That’s common sense. Man might have died in a fit; but then the jewels are missing. Ha! I have a theory. These flashes come upon me at times.—Just step outside, sergeant, and you, Mr. Sholto. Your friend can remain.—What do you think of this, Holmes? Sholto was, on his own confession, with his brother last night. The brother died in a fit, on which Sholto walked off with the treasure. How’s that?”',\n",
       " '“On which the dead man very considerately got up and locked the door on the inside.”',\n",
       " '“Hum! There’s a flaw there. Let us apply common sense to the matter. This Thaddeus Sholto _was_ with his brother; there _was_ a quarrel; so much we know. The brother is dead and the jewels are gone. So much also we know. No one saw the brother from the time Thaddeus left him. His bed had not been slept in. Thaddeus is evidently in a most disturbed state of mind. His appearance is—well, not attractive. You see that I am weaving my web round Thaddeus. The net begins to close upon him.”',\n",
       " '“You are not quite in possession of the facts yet,”',\n",
       " '“This splinter of wood, which I have every reason to believe to be poisoned, was in the man’s scalp where you still see the mark; this card, inscribed as you see it, was on the table; and beside it lay this rather curious stone-headed instrument. How does all that fit into your theory?”',\n",
       " '“Confirms it in every respect,”',\n",
       " '“House is full of Indian curiosities. Thaddeus brought this up, and if this splinter be poisonous Thaddeus may as well have made murderous use of it as any other man. The card is some hocus-pocus,—a blind, as like as not. The only question is, how did he depart? Ah, of course, here is a hole in the roof.”',\n",
       " '“He can find something,”',\n",
       " '“He has occasional glimmerings of reason. _Il n’y a pas des sots si incommodes que ceux qui ont de l’esprit!_”',\n",
       " '“You see!”',\n",
       " '“Facts are better than mere theories, after all. My view of the case is confirmed. There is a trap-door communicating with the roof, and it is partly open.”',\n",
       " '“It was I who opened it.”',\n",
       " '“Oh, indeed! You did notice it, then?”',\n",
       " '“Well, whoever noticed it, it shows how our gentleman got away. Inspector!”',\n",
       " '“Yes, sir,”',\n",
       " '“Ask Mr. Sholto to step this way.—Mr. Sholto, it is my duty to inform you that anything which you may say will be used against you. I arrest you in the Queen’s name as being concerned in the death of your brother.”',\n",
       " '“There, now! Didn’t I tell you!”',\n",
       " '“Don’t trouble yourself about it, Mr. Sholto,”',\n",
       " '“I think that I can engage to clear you of the charge.”',\n",
       " '“Don’t promise too much, Mr. Theorist,—don’t promise too much!”',\n",
       " '“You may find it a harder matter than you think.”',\n",
       " '“Not only will I clear him, Mr. Jones, but I will make you a free present of the name and description of one of the two people who were in this room last night. His name, I have every reason to believe, is Jonathan Small. He is a poorly-educated man, small, active, with his right leg off, and wearing a wooden stump which is worn away upon the inner side. His left boot has a coarse, square-toed sole, with an iron band round the heel. He is a middle-aged man, much sunburned, and has been a convict. These few indications may be of some assistance to you, coupled with the fact that there is a good deal of skin missing from the palm of his hand. The other man—”',\n",
       " '“Ah! the other man—?”',\n",
       " '“Is a rather curious person,”',\n",
       " '“I hope before very long to be able to introduce you to the pair of them.—A word with you, Watson.”',\n",
       " '“This unexpected occurrence,”',\n",
       " '“has caused us rather to lose sight of the original purpose of our journey.”',\n",
       " '“I have just been thinking so,”',\n",
       " '“It is not right that Miss Morstan should remain in this stricken house.”',\n",
       " '“No. You must escort her home. She lives with Mrs. Cecil Forrester, in Lower Camberwell: so it is not very far. I will wait for you here if you will drive out again. Or perhaps you are too tired?”',\n",
       " '“By no means. I don’t think I could rest until I know more of this fantastic business. I have seen something of the rough side of life, but I give you my word that this quick succession of strange surprises to-night has shaken my nerve completely. I should like, however, to see the matter through with you, now that I have got so far.”',\n",
       " '“Your presence will be of great service to me,”',\n",
       " '“We shall work the case out independently, and leave this fellow Jones to exult over any mare’s-nest which he may choose to construct. When you have dropped Miss Morstan I wish you to go on to No. 3, Pinchin Lane, down near the water’s edge at Lambeth. The third house on the right-hand side is a bird-stuffer’s: Sherman is the name. You will see a weasel holding a young rabbit in the window. Knock old Sherman up, and tell him, with my compliments, that I want Toby at once. You will bring Toby back in the cab with you.”',\n",
       " '“A dog, I suppose.”',\n",
       " '“Yes,—a queer mongrel, with a most amazing power of scent. I would rather have Toby’s help than that of the whole detective force of London.”',\n",
       " '“I shall bring him, then,”',\n",
       " '“It is one now. I ought to be back before three, if I can get a fresh horse.”',\n",
       " '“And I,”',\n",
       " '“shall see what I can learn from Mrs. Bernstone, and from the Indian servant, who, Mr. Thaddeus tell me, sleeps in the next garret. Then I shall study the great Jones’s methods and listen to his not too delicate sarcasms. ‘_Wir sind gewohnt das die Menschen verhöhnen was sie nicht verstehen._’ Goethe is always pithy.”',\n",
       " '“Go on, you drunken vagabone,”',\n",
       " '“If you kick up any more row I’ll open the kennels and let out forty-three dogs upon you.”',\n",
       " '“If you’ll let one out it’s just what I have come for,”',\n",
       " '“Go on!”',\n",
       " '“So help me gracious, I have a wiper in the bag, an’ I’ll drop it on your ’ead if you don’t hook it.”',\n",
       " '“But I want a dog,”',\n",
       " '“I won’t be argued with!”',\n",
       " '“Now stand clear, for when I say ‘three,’ down goes the wiper.”',\n",
       " '“Mr. Sherlock Holmes—”',\n",
       " '“A friend of Mr. Sherlock is always welcome,”',\n",
       " '“Step in, sir. Keep clear of the badger; for he bites. Ah, naughty, naughty, would you take a nip at the gentleman?”',\n",
       " '“Don’t mind that, sir: it’s only a slow-worm. It hain’t got no fangs, so I gives it the run o’ the room, for it keeps the beetles down. You must not mind my bein’ just a little short wi’ you at first, for I’m guyed at by the children, and there’s many a one just comes down this lane to knock me up. What was it that Mr. Sherlock Holmes wanted, sir?”',\n",
       " '“He wanted a dog of yours.”',\n",
       " '“Ah! that would be Toby.”',\n",
       " '“Yes, Toby was the name.”',\n",
       " '“Toby lives at No. 7 on the left here.”',\n",
       " '“Ah, you have him there!”',\n",
       " '“Good dog, then! Atheney Jones has gone. We have had an immense display of energy since you left. He has arrested not only friend Thaddeus, but the gatekeeper, the housekeeper, and the Indian servant. We have the place to ourselves, but for a sergeant upstairs. Leave the dog here, and come up.”',\n",
       " '“Lend me your bull’s-eye, sergeant,”',\n",
       " '“Now tie this bit of card round my neck, so as to hang it in front of me. Thank you. Now I must kick off my boots and stockings.—Just you carry them down with you, Watson. I am going to do a little climbing. And dip my handkerchief into the creasote. That will do. Now come up into the garret with me for a moment.”',\n",
       " '“I wish you particularly to notice these footmarks,”',\n",
       " '“Do you observe anything noteworthy about them?”',\n",
       " '“They belong,”',\n",
       " '“to a child or a small woman.”',\n",
       " '“Apart from their size, though. Is there nothing else?”',\n",
       " '“They appear to be much as other footmarks.”',\n",
       " '“Not at all. Look here! This is the print of a right foot in the dust. Now I make one with my naked foot beside it. What is the chief difference?”',\n",
       " '“Your toes are all cramped together. The other print has each toe distinctly divided.”',\n",
       " '“Quite so. That is the point. Bear that in mind. Now, would you kindly step over to that flap-window and smell the edge of the wood-work? I shall stay here, as I have this handkerchief in my hand.”',\n",
       " '“That is where he put his foot in getting out. If _you_ can trace him, I should think that Toby will have no difficulty. Now run downstairs, loose the dog, and look out for Blondin.”',\n",
       " '“That you, Watson?”',\n",
       " '“Yes.”',\n",
       " '“This is the place. What is that black thing down there?”',\n",
       " '“A water-barrel.”',\n",
       " '“Top on it?”',\n",
       " '“Yes.”',\n",
       " '“No sign of a ladder?”',\n",
       " '“No.”',\n",
       " '“Confound the fellow! It’s a most break-neck place. I ought to be able to come down where he could climb up. The water-pipe feels pretty firm. Here goes, anyhow.”',\n",
       " '“It was easy to follow him,”',\n",
       " '“Tiles were loosened the whole way along, and in his hurry he had dropped this. It confirms my diagnosis, as you doctors express it.”',\n",
       " '“They are hellish things,”',\n",
       " '“Look out that you don’t prick yourself. I’m delighted to have them, for the chances are that they are all he has. There is the less fear of you or me finding one in our skin before long. I would sooner face a Martini bullet, myself. Are you game for a six-mile trudge, Watson?”',\n",
       " '“Certainly,”',\n",
       " '“Your leg will stand it?”',\n",
       " '“Oh, yes.”',\n",
       " '“Here you are, doggy! Good old Toby! Smell it, Toby, smell it!”',\n",
       " '“There’s the print of wooden-leg’s hand,”',\n",
       " '“You see the slight smudge of blood upon the white plaster. What a lucky thing it is that we have had no very heavy rain since yesterday! The scent will lie upon the road in spite of their eight-and-twenty hours’ start.”',\n",
       " '“Do not imagine,”',\n",
       " '“that I depend for my success in this case upon the mere chance of one of these fellows having put his foot in the chemical. I have knowledge now which would enable me to trace them in many different ways. This, however, is the readiest and, since fortune has put it into our hands, I should be culpable if I neglected it. It has, however, prevented the case from becoming the pretty little intellectual problem which it at one time promised to be. There might have been some credit to be gained out of it, but for this too palpable clue.”',\n",
       " '“There is credit, and to spare,”',\n",
       " '“I assure you, Holmes, that I marvel at the means by which you obtain your results in this case, even more than I did in the Jefferson Hope Murder. The thing seems to me to be deeper and more inexplicable. How, for example, could you describe with such confidence the wooden-legged man?”',\n",
       " '“Pshaw, my dear boy! it was simplicity itself. I don’t wish to be theatrical. It is all patent and above-board. Two officers who are in command of a convict-guard learn an important secret as to buried treasure. A map is drawn for them by an Englishman named Jonathan Small. You remember that we saw the name upon the chart in Captain Morstan’s possession. He had signed it in behalf of himself and his associates,—the sign of the four, as he somewhat dramatically called it. Aided by this chart, the officers—or one of them—gets the treasure and brings it to England, leaving, we will suppose, some condition under which he received it unfulfilled. Now, then, why did not Jonathan Small get the treasure himself? The answer is obvious. The chart is dated at a time when Morstan was brought into close association with convicts. Jonathan Small did not get the treasure because he and his associates were themselves convicts and could not get away.”',\n",
       " '“But that is mere speculation,”',\n",
       " '“It is more than that. It is the only hypothesis which covers the facts. Let us see how it fits in with the sequel. Major Sholto remains at peace for some years, happy in the possession of his treasure. Then he receives a letter from India which gives him a great fright. What was that?”',\n",
       " '“A letter to say that the men whom he had wronged had been set free.”',\n",
       " '“Or had escaped. That is much more likely, for he would have known what their term of imprisonment was. It would not have been a surprise to him. What does he do then? He guards himself against a wooden-legged man,—a white man, mark you, for he mistakes a white tradesman for him, and actually fires a pistol at him. Now, only one white man’s name is on the chart. The others are Hindoos or Mohammedans. There is no other white man. Therefore we may say with confidence that the wooden-legged man is identical with Jonathan Small. Does the reasoning strike you as being faulty?”',\n",
       " '“No: it is clear and concise.”',\n",
       " '“Well, now, let us put ourselves in the place of Jonathan Small. Let us look at it from his point of view. He comes to England with the double idea of regaining what he would consider to be his rights and of having his revenge upon the man who had wronged him. He found out where Sholto lived, and very possibly he established communications with some one inside the house. There is this butler, Lal Rao, whom we have not seen. Mrs. Bernstone gives him far from a good character. Small could not find out, however, where the treasure was hid, for no one ever knew, save the major and one faithful servant who had died. Suddenly Small learns that the major is on his death-bed. In a frenzy lest the secret of the treasure die with him, he runs the gauntlet of the guards, makes his way to the dying man’s window, and is only deterred from entering by the presence of his two sons. Mad with hate, however, against the dead man, he enters the room that night, searches his private papers in the hope of discovering some memorandum relating to the treasure, and finally leaves a momento of his visit in the short inscription upon the card. He had doubtless planned beforehand that should he slay the major he would leave some such record upon the body as a sign that it was not a common murder, but, from the point of view of the four associates, something in the nature of an act of justice. Whimsical and bizarre conceits of this kind are common enough in the annals of crime, and usually afford valuable indications as to the criminal. Do you follow all this?”',\n",
       " '“Very clearly.”',\n",
       " '“Now, what could Jonathan Small do? He could only continue to keep a secret watch upon the efforts made to find the treasure. Possibly he leaves England and only comes back at intervals. Then comes the discovery of the garret, and he is instantly informed of it. We again trace the presence of some confederate in the household. Jonathan, with his wooden leg, is utterly unable to reach the lofty room of Bartholomew Sholto. He takes with him, however, a rather curious associate, who gets over this difficulty, but dips his naked foot into creasote, whence comes Toby, and a six-mile limp for a half-pay officer with a damaged tendo Achillis.”',\n",
       " '“But it was the associate, and not Jonathan, who committed the crime.”',\n",
       " '“Quite so. And rather to Jonathan’s disgust, to judge by the way he stamped about when he got into the room. He bore no grudge against Bartholomew Sholto, and would have preferred if he could have been simply bound and gagged. He did not wish to put his head in a halter. There was no help for it, however: the savage instincts of his companion had broken out, and the poison had done its work: so Jonathan Small left his record, lowered the treasure-box to the ground, and followed it himself. That was the train of events as far as I can decipher them. Of course as to his personal appearance he must be middle-aged, and must be sunburned after serving his time in such an oven as the Andamans. His height is readily calculated from the length of his stride, and we know that he was bearded. His hairiness was the one point which impressed itself upon Thaddeus Sholto when he saw him at the window. I don’t know that there is anything else.”',\n",
       " '“The associate?”',\n",
       " '“Ah, well, there is no great mystery in that. But you will know all about it soon enough. How sweet the morning air is! See how that one little cloud floats like a pink feather from some gigantic flamingo. Now the red rim of the sun pushes itself over the London cloud-bank. It shines on a good many folk, but on none, I dare bet, who are on a stranger errand than you and I. How small we feel with our petty ambitions and strivings in the presence of the great elemental forces of nature! Are you well up in your Jean Paul?”',\n",
       " '“Fairly so. I worked back to him through Carlyle.”',\n",
       " '“That was like following the brook to the parent lake. He makes one curious but profound remark. It is that the chief proof of man’s real greatness lies in his perception of his own smallness. It argues, you see, a power of comparison and of appreciation which is in itself a proof of nobility. There is much food for thought in Richter. You have not a pistol, have you?”',\n",
       " '“I have my stick.”',\n",
       " '“It is just possible that we may need something of the sort if we get to their lair. Jonathan I shall leave to you, but if the other turns nasty I shall shoot him dead.”',\n",
       " '“What the deuce is the matter with the dog?”',\n",
       " '“They surely would not take a cab, or go off in a balloon.”',\n",
       " '“Perhaps they stood here for some time,”',\n",
       " '“Ah! it’s all right. He’s off again,”',\n",
       " '“What now?”',\n",
       " '“Toby has lost his character for infallibility.”',\n",
       " '“He acted according to his lights,”',\n",
       " '“If you consider how much creasote is carted about London in one day, it is no great wonder that our trail should have been crossed. It is much used now, especially for the seasoning of wood. Poor Toby is not to blame.”',\n",
       " '“We must get on the main scent again, I suppose.”',\n",
       " '“Yes. And, fortunately, we have no distance to go. Evidently what puzzled the dog at the corner of Knight’s Place was that there were two different trails running in opposite directions. We took the wrong one. It only remains to follow the other.”',\n",
       " '“We must take care that he does not now bring us to the place where the creasote-barrel came from,”',\n",
       " '“I had thought of that. But you notice that he keeps on the pavement, whereas the barrel passed down the roadway. No, we are on the true scent now.”',\n",
       " '“We are out of luck,”',\n",
       " '“They have taken to a boat here.”',\n",
       " '“Mordecai Smith”',\n",
       " '“Boats to hire by the hour or day.”',\n",
       " '“This looks bad,”',\n",
       " '“These fellows are sharper than I expected. They seem to have covered their tracks. There has, I fear, been preconcerted management here.”',\n",
       " '“You come back and be washed, Jack,”',\n",
       " '“Come back, you young imp; for if your father comes home and finds you like that, he’ll let us hear of it.”',\n",
       " '“Dear little chap!”',\n",
       " '“What a rosy-cheeked young rascal! Now, Jack, is there anything you would like?”',\n",
       " '“I’d like a shillin’,”',\n",
       " '“Nothing you would like better?”',\n",
       " '“I’d like two shillin’ better,”',\n",
       " '“Here you are, then! Catch!—A fine child, Mrs. Smith!”',\n",
       " '“Lor’ bless you, sir, he is that, and forward. He gets a’most too much for me to manage, ’specially when my man is away days at a time.”',\n",
       " '“Away, is he?”',\n",
       " '“I am sorry for that, for I wanted to speak to Mr. Smith.”',\n",
       " '“He’s been away since yesterday mornin’, sir, and, truth to tell, I am beginnin’ to feel frightened about him. But if it was about a boat, sir, maybe I could serve as well.”',\n",
       " '“I wanted to hire his steam launch.”',\n",
       " '“Why, bless you, sir, it is in the steam launch that he has gone. That’s what puzzles me; for I know there ain’t more coals in her than would take her to about Woolwich and back. If he’d been away in the barge I’d ha’ thought nothin’; for many a time a job has taken him as far as Gravesend, and then if there was much doin’ there he might ha’ stayed over. But what good is a steam launch without coals?”',\n",
       " '“He might have bought some at a wharf down the river.”',\n",
       " '“He might, sir, but it weren’t his way. Many a time I’ve heard him call out at the prices they charge for a few odd bags. Besides, I don’t like that wooden-legged man, wi’ his ugly face and outlandish talk. What did he want always knockin’ about here for?”',\n",
       " '“A wooden-legged man?”',\n",
       " '“Yes, sir, a brown, monkey-faced chap that’s called more’n once for my old man. It was him that roused him up yesternight, and, what’s more, my man knew he was comin’, for he had steam up in the launch. I tell you straight, sir, I don’t feel easy in my mind about it.”',\n",
       " '“But, my dear Mrs. Smith,”',\n",
       " '“You are frightening yourself about nothing. How could you possibly tell that it was the wooden-legged man who came in the night? I don’t quite understand how you can be so sure.”',\n",
       " '“His voice, sir. I knew his voice, which is kind o’ thick and foggy. He tapped at the winder,—about three it would be. ‘Show a leg, matey,’ says he: ‘time to turn out guard.’ My old man woke up Jim,—that’s my eldest,—and away they went, without so much as a word to me. I could hear the wooden leg clackin’ on the stones.”',\n",
       " '“And was this wooden-legged man alone?”',\n",
       " '“Couldn’t say, I am sure, sir. I didn’t hear no one else.”',\n",
       " '“I am sorry, Mrs. Smith, for I wanted a steam launch, and I have heard good reports of the—Let me see, what is her name?”',\n",
       " '“The _Aurora_, sir.”',\n",
       " '“Ah! She’s not that old green launch with a yellow line, very broad in the beam?”',\n",
       " '“No, indeed. She’s as trim a little thing as any on the river. She’s been fresh painted, black with two red streaks.”',\n",
       " '“Thanks. I hope that you will hear soon from Mr. Smith. I am going down the river; and if I should see anything of the _Aurora_ I shall let him know that you are uneasy. A black funnel, you say?”',\n",
       " '“No, sir. Black with a white band.”',\n",
       " '“Ah, of course. It was the sides which were black. Good-morning, Mrs. Smith.—There is a boatman here with a wherry, Watson. We shall take it and cross the river.\\n\\n“The main thing with people of that sort,”',\n",
       " '“is never to let them think that their information can be of the slightest importance to you. If you do, they will instantly shut up like an oyster. If you listen to them under protest, as it were, you are very likely to get what you want.”',\n",
       " '“Our course now seems pretty clear,”',\n",
       " '“What would you do, then?”',\n",
       " '“I would engage a launch and go down the river on the track of the _Aurora_.”',\n",
       " '“My dear fellow, it would be a colossal task. She may have touched at any wharf on either side of the stream between here and Greenwich. Below the bridge there is a perfect labyrinth of landing-places for miles. It would take you days and days to exhaust them, if you set about it alone.”',\n",
       " '“Employ the police, then.”',\n",
       " '“No. I shall probably call Athelney Jones in at the last moment. He is not a bad fellow, and I should not like to do anything which would injure him professionally. But I have a fancy for working it out myself, now that we have gone so far.”',\n",
       " '“Could we advertise, then, asking for information from wharfingers?”',\n",
       " '“Worse and worse! Our men would know that the chase was hot at their heels, and they would be off out of the country. As it is, they are likely enough to leave, but as long as they think they are perfectly safe they will be in no hurry. Jones’s energy will be of use to us there, for his view of the case is sure to push itself into the daily press, and the runaways will think that every one is off on the wrong scent.”',\n",
       " '“What are we to do, then?”',\n",
       " '“Take this hansom, drive home, have some breakfast, and get an hour’s sleep. It is quite on the cards that we may be afoot to-night again. Stop at a telegraph-office, cabby! We will keep Toby, for he may be of use to us yet.”',\n",
       " '“Whom do you think that is to?”',\n",
       " '“I am sure I don’t know.”',\n",
       " '“You remember the Baker Street division of the detective police force whom I employed in the Jefferson Hope case?”',\n",
       " '“Well,”',\n",
       " '“This is just the case where they might be invaluable. If they fail, I have other resources; but I shall try them first. That wire was to my dirty little lieutenant, Wiggins, and I expect that he and his gang will be with us before we have finished our breakfast.”',\n",
       " '“Here it is,”',\n",
       " '“The energetic Jones and the ubiquitous reporter have fixed it up between them. But you have had enough of the case. Better have your ham and eggs first.”',\n",
       " '“Mysterious Business at Upper Norwood.”',\n",
       " '“About twelve o’clock last night,”',\n",
       " '“Mr. Bartholomew Sholto, of Pondicherry Lodge, Upper Norwood, was found dead in his room under circumstances which point to foul play. As far as we can learn, no actual traces of violence were found upon Mr. Sholto’s person, but a valuable collection of Indian gems which the deceased gentleman had inherited from his father has been carried off. The discovery was first made by Mr. Sherlock Holmes and Dr. Watson, who had called at the house with Mr. Thaddeus Sholto, brother of the deceased. By a singular piece of good fortune, Mr. Athelney Jones, the well-known member of the detective police force, happened to be at the Norwood Police Station, and was on the ground within half an hour of the first alarm. His trained and experienced faculties were at once directed towards the detection of the criminals, with the gratifying result that the brother, Thaddeus Sholto, has already been arrested, together with the housekeeper, Mrs. Bernstone, an Indian butler named Lal Rao, and a porter, or gatekeeper, named McMurdo. It is quite certain that the thief or thieves were well acquainted with the house, for Mr. Jones’s well-known technical knowledge and his powers of minute observation have enabled him to prove conclusively that the miscreants could not have entered by the door or by the window, but must have made their way across the roof of the building, and so through a trap-door into a room which communicated with that in which the body was found. This fact, which has been very clearly made out, proves conclusively that it was no mere haphazard burglary. The prompt and energetic action of the officers of the law shows the great advantage of the presence on such occasions of a single vigorous and masterful mind. We cannot but think that it supplies an argument to those who would wish to see our detectives more decentralised, and so brought into closer and more effective touch with the cases which it is their duty to investigate.”',\n",
       " '“Isn’t it gorgeous!”',\n",
       " '“What do you think of it?”',\n",
       " '“I think that we have had a close shave ourselves of being arrested for the crime.”',\n",
       " '“So do I. I wouldn’t answer for our safety now, if he should happen to have another of his attacks of energy.”',\n",
       " '“By heaven, Holmes,”',\n",
       " '“I believe that they are really after us.”',\n",
       " '“No, it’s not quite so bad as that. It is the unofficial force,—the Baker Street irregulars.”',\n",
       " '“Got your message, sir,”',\n",
       " '“and brought ’em on sharp. Three bob and a tanner for tickets.”',\n",
       " '“Here you are,”',\n",
       " '“In future they can report to you, Wiggins, and you to me. I cannot have the house invaded in this way. However, it is just as well that you should all hear the instructions. I want to find the whereabouts of a steam launch called the _Aurora_, owner Mordecai Smith, black with two red streaks, funnel black with a white band. She is down the river somewhere. I want one boy to be at Mordecai Smith’s landing-stage opposite Millbank to say if the boat comes back. You must divide it out among yourselves, and do both banks thoroughly. Let me know the moment you have news. Is that all clear?”',\n",
       " '“Yes, guv’nor,”',\n",
       " '“The old scale of pay, and a guinea to the boy who finds the boat. Here’s a day in advance. Now off you go!”',\n",
       " '“If the launch is above water they will find her,”',\n",
       " '“They can go everywhere, see everything, overhear every one. I expect to hear before evening that they have spotted her. In the meanwhile, we can do nothing but await results. We cannot pick up the broken trail until we find either the _Aurora_ or Mr. Mordecai Smith.”',\n",
       " '“Toby could eat these scraps, I dare say. Are you going to bed, Holmes?”',\n",
       " '“No; I am not tired. I have a curious constitution. I never remember feeling tired by work, though idleness exhausts me completely. I am going to smoke and to think over this queer business to which my fair client has introduced us. If ever man had an easy task, this of ours ought to be. Wooden-legged men are not so common, but the other man must, I should think, be absolutely unique.”',\n",
       " '“That other man again!”',\n",
       " '“I have no wish to make a mystery of him,—to you, anyway. But you must have formed your own opinion. Now, do consider the data. Diminutive footmarks, toes never fettered by boots, naked feet, stone-headed wooden mace, great agility, small poisoned darts. What do you make of all this?”',\n",
       " '“A savage!”',\n",
       " '“Perhaps one of those Indians who were the associates of Jonathan Small.”',\n",
       " '“Hardly that,”',\n",
       " '“When first I saw signs of strange weapons I was inclined to think so; but the remarkable character of the footmarks caused me to reconsider my views. Some of the inhabitants of the Indian Peninsula are small men, but none could have left such marks as that. The Hindoo proper has long and thin feet. The sandal-wearing Mohammedan has the great toe well separated from the others, because the thong is commonly passed between. These little darts, too, could only be shot in one way. They are from a blow-pipe. Now, then, where are we to find our savage?”',\n",
       " '“South American,”',\n",
       " '“This is the first volume of a gazetteer which is now being published. It may be looked upon as the very latest authority. What have we here? ‘Andaman Islands, situated 340 miles to the north of Sumatra, in the Bay of Bengal.’ Hum! hum! What’s all this? Moist climate, coral reefs, sharks, Port Blair, convict-barracks, Rutland Island, cottonwoods—Ah, here we are. ‘The aborigines of the Andaman Islands may perhaps claim the distinction of being the smallest race upon this earth, though some anthropologists prefer the Bushmen of Africa, the Digger Indians of America, and the Terra del Fuegians. The average height is rather below four feet, although many full-grown adults may be found who are very much smaller than this. They are a fierce, morose, and intractable people, though capable of forming most devoted friendships when their confidence has once been gained.’ Mark that, Watson. Now, then, listen to this. ‘They are naturally hideous, having large, misshapen heads, small, fierce eyes, and distorted features. Their feet and hands, however, are remarkably small. So intractable and fierce are they that all the efforts of the British official have failed to win them over in any degree. They have always been a terror to shipwrecked crews, braining the survivors with their stone-headed clubs, or shooting them with their poisoned arrows. These massacres are invariably concluded by a cannibal feast.’ Nice, amiable people, Watson! If this fellow had been left to his own unaided devices this affair might have taken an even more ghastly turn. I fancy that, even as it is, Jonathan Small would give a good deal not to have employed him.”',\n",
       " '“But how came he to have so singular a companion?”',\n",
       " '“Ah, that is more than I can tell. Since, however, we had already determined that Small had come from the Andamans, it is not so very wonderful that this islander should be with him. No doubt we shall know all about it in time. Look here, Watson; you look regularly done. Lie down there on the sofa, and see if I can put you to sleep.”',\n",
       " '“You have slept soundly,”',\n",
       " '“I feared that our talk would wake you.”',\n",
       " '“I heard nothing,”',\n",
       " '“Have you had fresh news, then?”',\n",
       " '“Unfortunately, no. I confess that I am surprised and disappointed. I expected something definite by this time. Wiggins has just been up to report. He says that no trace can be found of the launch. It is a provoking check, for every hour is of importance.”',\n",
       " '“Can I do anything? I am perfectly fresh now, and quite ready for another night’s outing.”',\n",
       " '“No, we can do nothing. We can only wait. If we go ourselves, the message might come in our absence, and delay be caused. You can do what you will, but I must remain on guard.”',\n",
       " '“Then I shall run over to Camberwell and call upon Mrs. Cecil Forrester. She asked me to, yesterday.”',\n",
       " '“On Mrs. Cecil Forrester?”',\n",
       " '“Well, of course Miss Morstan too. They were anxious to hear what happened.”',\n",
       " '“I would not tell them too much,”',\n",
       " '“Women are never to be entirely trusted,—not the best of them.”',\n",
       " '“I shall be back in an hour or two,”',\n",
       " '“All right! Good luck! But, I say, if you are crossing the river you may as well return Toby, for I don’t think it is at all likely that we shall have any use for him now.”',\n",
       " '“It is a romance!”',\n",
       " '“An injured lady, half a million in treasure, a black cannibal, and a wooden-legged ruffian. They take the place of the conventional dragon or wicked earl.”',\n",
       " '“And two knight-errants to the rescue,”',\n",
       " '“Why, Mary, your fortune depends upon the issue of this search. I don’t think that you are nearly excited enough. Just imagine what it must be to be so rich, and to have the world at your feet!”',\n",
       " '“It is for Mr. Thaddeus Sholto that I am anxious,”',\n",
       " '“Nothing else is of any consequence; but I think that he has behaved most kindly and honourably throughout. It is our duty to clear him of this dreadful and unfounded charge.”',\n",
       " '“I suppose that Mr. Sherlock Holmes has gone out,”',\n",
       " '“No, sir. He has gone to his room, sir. Do you know, sir,”',\n",
       " '“I am afraid for his health?”',\n",
       " '“Why so, Mrs. Hudson?”',\n",
       " '“Well, he’s that strange, sir. After you was gone he walked and he walked, up and down, and up and down, until I was weary of the sound of his footstep. Then I heard him talking to himself and muttering, and every time the bell rang out he came on the stairhead, with ‘What is that, Mrs. Hudson?’ And now he has slammed off to his room, but I can hear him walking away the same as ever. I hope he’s not going to be ill, sir. I ventured to say something to him about cooling medicine, but he turned on me, sir, with such a look that I don’t know how ever I got out of the room.”',\n",
       " '“I don’t think that you have any cause to be uneasy, Mrs. Hudson,”',\n",
       " '“I have seen him like this before. He has some small matter upon his mind which makes him restless.”',\n",
       " '“You are knocking yourself up, old man,”',\n",
       " '“I heard you marching about in the night.”',\n",
       " '“No, I could not sleep,”',\n",
       " '“This infernal problem is consuming me. It is too much to be balked by so petty an obstacle, when all else had been overcome. I know the men, the launch, everything; and yet I can get no news. I have set other agencies at work, and used every means at my disposal. The whole river has been searched on either side, but there is no news, nor has Mrs. Smith heard of her husband. I shall come to the conclusion soon that they have scuttled the craft. But there are objections to that.”',\n",
       " '“Or that Mrs. Smith has put us on a wrong scent.”',\n",
       " '“No, I think that may be dismissed. I had inquiries made, and there is a launch of that description.”',\n",
       " '“Could it have gone up the river?”',\n",
       " '“I have considered that possibility too, and there is a search-party who will work up as far as Richmond. If no news comes to-day, I shall start off myself to-morrow, and go for the men rather than the boat. But surely, surely, we shall hear something.”',\n",
       " '“I am off down the river, Watson,”',\n",
       " '“I have been turning it over in my mind, and I can see only one way out of it. It is worth trying, at all events.”',\n",
       " '“Surely I can come with you, then?”',\n",
       " '“No; you can be much more useful if you will remain here as my representative. I am loath to go, for it is quite on the cards that some message may come during the day, though Wiggins was despondent about it last night. I want you to open all notes and telegrams, and to act on your own judgment if any news should come. Can I rely upon you?”',\n",
       " '“Most certainly.”',\n",
       " '“I am afraid that you will not be able to wire to me, for I can hardly tell yet where I may find myself. If I am in luck, however, I may not be gone so very long. I shall have news of some sort or other before I get back.”',\n",
       " '“With reference to the Upper Norwood tragedy,”',\n",
       " '“we have reason to believe that the matter promises to be even more complex and mysterious than was originally supposed. Fresh evidence has shown that it is quite impossible that Mr. Thaddeus Sholto could have been in any way concerned in the matter. He and the housekeeper, Mrs. Bernstone, were both released yesterday evening. It is believed, however, that the police have a clue as to the real culprits, and that it is being prosecuted by Mr. Athelney Jones, of Scotland Yard, with all his well-known energy and sagacity. Further arrests may be expected at any moment.”',\n",
       " '“That is satisfactory so far as it goes,”',\n",
       " '“Friend Sholto is safe, at any rate. I wonder what the fresh clue may be; though it seems to be a stereotyped form whenever the police have made a blunder.”',\n",
       " '“Lost.—Whereas Mordecai Smith, boatman, and his son, Jim, left Smith’s Wharf at or about three o’clock last Tuesday morning in the steam launch _Aurora_, black with two red stripes, funnel black with a white band, the sum of five pounds will be paid to any one who can give information to Mrs. Smith, at Smith’s Wharf, or at 221_b_ Baker Street, as to the whereabouts of the said Mordecai Smith and the launch _Aurora_.”',\n",
       " '“Good-day, sir; good-day,”',\n",
       " '“Mr. Sherlock Holmes is out, I understand.”',\n",
       " '“Yes, and I cannot be sure when he will be back. But perhaps you would care to wait. Take that chair and try one of these cigars.”',\n",
       " '“Thank you; I don’t mind if I do,”',\n",
       " '“And a whiskey-and-soda?”',\n",
       " '“Well, half a glass. It is very hot for the time of year; and I have had a good deal to worry and try me. You know my theory about this Norwood case?”',\n",
       " '“I remember that you expressed one.”',\n",
       " '“Well, I have been obliged to reconsider it. I had my net drawn tightly round Mr. Sholto, sir, when pop he went through a hole in the middle of it. He was able to prove an alibi which could not be shaken. From the time that he left his brother’s room he was never out of sight of some one or other. So it could not be he who climbed over roofs and through trap-doors. It’s a very dark case, and my professional credit is at stake. I should be very glad of a little assistance.”',\n",
       " '“We all need help sometimes,”',\n",
       " '“Your friend Mr. Sherlock Holmes is a wonderful man, sir,”',\n",
       " '“He’s a man who is not to be beat. I have known that young man go into a good many cases, but I never saw the case yet that he could not throw a light upon. He is irregular in his methods, and a little quick perhaps in jumping at theories, but, on the whole, I think he would have made a most promising officer, and I don’t care who knows it. I have had a wire from him this morning, by which I understand that he has got some clue to this Sholto business. Here is the message.”',\n",
       " '“Go to Baker Street at once,”',\n",
       " '“If I have not returned, wait for me. I am close on the track of the Sholto gang. You can come with us to-night if you want to be in at the finish.”',\n",
       " '“This sounds well. He has evidently picked up the scent again,”',\n",
       " '“Ah, then he has been at fault too,”',\n",
       " '“Even the best of us are thrown off sometimes. Of course this may prove to be a false alarm; but it is my duty as an officer of the law to allow no chance to slip. But there is some one at the door. Perhaps this is he.”',\n",
       " '“What is it, my man?”',\n",
       " '“Is Mr. Sherlock Holmes here?”',\n",
       " '“No; but I am acting for him. You can tell me any message you have for him.”',\n",
       " '“It was to him himself I was to tell it,”',\n",
       " '“But I tell you that I am acting for him. Was it about Mordecai Smith’s boat?”',\n",
       " '“Yes. I knows well where it is. An’ I knows where the men he is after are. An’ I knows where the treasure is. I knows all about it.”',\n",
       " '“Then tell me, and I shall let him know.”',\n",
       " '“It was to him I was to tell it,”',\n",
       " '“Well, you must wait for him.”',\n",
       " '“No, no; I ain’t goin’ to lose a whole day to please no one. If Mr. Holmes ain’t here, then Mr. Holmes must find it all out for himself. I don’t care about the look of either of you, and I won’t tell a word.”',\n",
       " '“Wait a bit, my friend,”',\n",
       " '“You have important information, and you must not walk off. We shall keep you, whether you like or not, until our friend returns.”',\n",
       " '“Pretty sort o’ treatment this!”',\n",
       " '“I come here to see a gentleman, and you two, who I never saw in my life, seize me and treat me in this fashion!”',\n",
       " '“You will be none the worse,”',\n",
       " '“We shall recompense you for the loss of your time. Sit over here on the sofa, and you will not have long to wait.”',\n",
       " '“I think that you might offer me a cigar too,”',\n",
       " '“Holmes!”',\n",
       " '“You here! But where is the old man?”',\n",
       " '“Here is the old man,”',\n",
       " '“Here he is,—wig, whiskers, eyebrows, and all. I thought my disguise was pretty good, but I hardly expected that it would stand that test.”',\n",
       " '“Ah, You rogue!”',\n",
       " '“You would have made an actor, and a rare one. You had the proper workhouse cough, and those weak legs of yours are worth ten pounds a week. I thought I knew the glint of your eye, though. You didn’t get away from us so easily, You see.”',\n",
       " '“I have been working in that get-up all day,”',\n",
       " '“You see, a good many of the criminal classes begin to know me,—especially since our friend here took to publishing some of my cases: so I can only go on the war-path under some simple disguise like this. You got my wire?”',\n",
       " '“Yes; that was what brought me here.”',\n",
       " '“How has your case prospered?”',\n",
       " '“It has all come to nothing. I have had to release two of my prisoners, and there is no evidence against the other two.”',\n",
       " '“Never mind. We shall give you two others in the place of them. But you must put yourself under my orders. You are welcome to all the official credit, but you must act on the line that I point out. Is that agreed?”',\n",
       " '“Entirely, if you will help me to the men.”',\n",
       " '“Well, then, in the first place I shall want a fast police-boat—a steam launch—to be at the Westminster Stairs at seven o’clock.”',\n",
       " '“That is easily managed. There is always one about there; but I can step across the road and telephone to make sure.”',\n",
       " '“Then I shall want two stanch men, in case of resistance.”',\n",
       " '“There will be two or three in the boat. What else?”',\n",
       " '“When we secure the men we shall get the treasure. I think that it would be a pleasure to my friend here to take the box round to the young lady to whom half of it rightfully belongs. Let her be the first to open it.—Eh, Watson?”',\n",
       " '“It would be a great pleasure to me.”',\n",
       " '“Rather an irregular proceeding,”',\n",
       " '“However, the whole thing is irregular, and I suppose we must wink at it. The treasure must afterwards be handed over to the authorities until after the official investigation.”',\n",
       " '“Certainly. That is easily managed. One other point. I should much like to have a few details about this matter from the lips of Jonathan Small himself. You know I like to work the detail of my cases out. There is no objection to my having an unofficial interview with him, either here in my rooms or elsewhere, as long as he is efficiently guarded?”',\n",
       " '“Well, you are master of the situation. I have had no proof yet of the existence of this Jonathan Small. However, if you can catch him I don’t see how I can refuse you an interview with him.”',\n",
       " '“That is understood, then?”',\n",
       " '“Perfectly. Is there anything else?”',\n",
       " '“Only that I insist upon your dining with us. It will be ready in half an hour. I have oysters and a brace of grouse, with something a little choice in white wines.—Watson, you have never yet recognised my merits as a housekeeper.”',\n",
       " '“One bumper,”',\n",
       " '“to the success of our little expedition. And now it is high time we were off. Have you a pistol, Watson?”',\n",
       " '“I have my old service-revolver in my desk.”',\n",
       " '“You had best take it, then. It is well to be prepared. I see that the cab is at the door. I ordered it for half-past six.”',\n",
       " '“Is there anything to mark it as a police-boat?”',\n",
       " '“Yes,—that green lamp at the side.”',\n",
       " '“Then take it off.”',\n",
       " '“Where to?”',\n",
       " '“To the Tower. Tell them to stop opposite Jacobson’s Yard.”',\n",
       " '“We ought to be able to catch anything on the river,”',\n",
       " '“Well, hardly that. But there are not many launches to beat us.”',\n",
       " '“We shall have to catch the _Aurora_, and she has a name for being a clipper. I will tell you how the land lies, Watson. You recollect how annoyed I was at being balked by so small a thing?”',\n",
       " '“Yes.”',\n",
       " '“Well, I gave my mind a thorough rest by plunging into a chemical analysis. One of our greatest statesmen has said that a change of work is the best rest. So it is. When I had succeeded in dissolving the hydrocarbon which I was at work at, I came back to our problem of the Sholtos, and thought the whole matter out again. My boys had been up the river and down the river without result. The launch was not at any landing-stage or wharf, nor had it returned. Yet it could hardly have been scuttled to hide their traces,—though that always remained as a possible hypothesis if all else failed. I knew this man Small had a certain degree of low cunning, but I did not think him capable of anything in the nature of delicate finesse. That is usually a product of higher education. I then reflected that since he had certainly been in London some time—as we had evidence that he maintained a continual watch over Pondicherry Lodge—he could hardly leave at a moment’s notice, but would need some little time, if it were only a day, to arrange his affairs. That was the balance of probability, at any rate.”',\n",
       " '“It seems to me to be a little weak,”',\n",
       " '“It is more probable that he had arranged his affairs before ever he set out upon his expedition.”',\n",
       " '“No, I hardly think so. This lair of his would be too valuable a retreat in case of need for him to give it up until he was sure that he could do without it. But a second consideration struck me. Jonathan Small must have felt that the peculiar appearance of his companion, however much he may have top-coated him, would give rise to gossip, and possibly be associated with this Norwood tragedy. He was quite sharp enough to see that. They had started from their head-quarters under cover of darkness, and he would wish to get back before it was broad light. Now, it was past three o’clock, according to Mrs. Smith, when they got the boat. It would be quite bright, and people would be about in an hour or so. Therefore, I argued, they did not go very far. They paid Smith well to hold his tongue, reserved his launch for the final escape, and hurried to their lodgings with the treasure-box. In a couple of nights, when they had time to see what view the papers took, and whether there was any suspicion, they would make their way under cover of darkness to some ship at Gravesend or in the Downs, where no doubt they had already arranged for passages to America or the Colonies.”',\n",
       " '“But the launch? They could not have taken that to their lodgings.”',\n",
       " '“Quite so. I argued that the launch must be no great way off, in spite of its invisibility. I then put myself in the place of Small, and looked at it as a man of his capacity would. He would probably consider that to send back the launch or to keep it at a wharf would make pursuit easy if the police did happen to get on his track. How, then, could he conceal the launch and yet have her at hand when wanted? I wondered what I should do myself if I were in his shoes. I could only think of one way of doing it. I might land the launch over to some boat-builder or repairer, with directions to make a trifling change in her. She would then be removed to his shed or yard, and so be effectually concealed, while at the same time I could have her at a few hours’ notice.”',\n",
       " '“That seems simple enough.”',\n",
       " '“It is just these very simple things which are extremely liable to be overlooked. However, I determined to act on the idea. I started at once in this harmless seaman’s rig and inquired at all the yards down the river. I drew blank at fifteen, but at the sixteenth—Jacobson’s—I learned that the _Aurora_ had been handed over to them two days ago by a wooden-legged man, with some trivial directions as to her rudder. ‘There ain’t naught amiss with her rudder,’ said the foreman. ‘There she lies, with the red streaks.’ At that moment who should come down but Mordecai Smith, the missing owner? He was rather the worse for liquor. I should not, of course, have known him, but he bellowed out his name and the name of his launch. ‘I want her to-night at eight o’clock,’ said he,—‘eight o’clock sharp, mind, for I have two gentlemen who won’t be kept waiting.’ They had evidently paid him well, for he was very flush of money, chucking shillings about to the men. I followed him some distance, but he subsided into an ale-house: so I went back to the yard, and, happening to pick up one of my boys on the way, I stationed him as a sentry over the launch. He is to stand at water’s edge and wave his handkerchief to us when they start. We shall be lying off in the stream, and it will be a strange thing if we do not take men, treasure, and all.”',\n",
       " '“You have planned it all very neatly, whether they are the right men or not,”',\n",
       " '“but if the affair were in my hands I should have had a body of police in Jacobson’s Yard, and arrested them when they came down.”',\n",
       " '“Which would have been never. This man Small is a pretty shrewd fellow. He would send a scout on ahead, and if anything made him suspicious lie snug for another week.”',\n",
       " '“But you might have stuck to Mordecai Smith, and so been led to their hiding-place,”',\n",
       " '“In that case I should have wasted my day. I think that it is a hundred to one against Smith knowing where they live. As long as he has liquor and good pay, why should he ask questions? They send him messages what to do. No, I thought over every possible course, and this is the best.”',\n",
       " '“That is Jacobson’s Yard,”',\n",
       " '“Cruise gently up and down here under cover of this string of lighters.”',\n",
       " '“I see my sentry at his post,”',\n",
       " '“but no sign of a handkerchief.”',\n",
       " '“Suppose we go down-stream a short way and lie in wait for them,”',\n",
       " '“We have no right to take anything for granted,”',\n",
       " '“It is certainly ten to one that they go down-stream, but we cannot be certain. From this point we can see the entrance of the yard, and they can hardly see us. It will be a clear night and plenty of light. We must stay where we are. See how the folk swarm over yonder in the gaslight.”',\n",
       " '“They are coming from work in the yard.”',\n",
       " '“Dirty-looking rascals, but I suppose every one has some little immortal spark concealed about him. You would not think it, to look at them. There is no _a priori_ probability about it. A strange enigma is man!”',\n",
       " '“Some one calls him a soul concealed in an animal,”',\n",
       " '“Winwood Reade is good upon the subject,”',\n",
       " '“He remarks that, while the individual man is an insoluble puzzle, in the aggregate he becomes a mathematical certainty. You can, for example, never foretell what any one man will do, but you can say with precision what an average number will be up to. Individuals vary, but percentages remain constant. So says the statistician. But do I see a handkerchief? Surely there is a white flutter over yonder.”',\n",
       " '“Yes, it is your boy,”',\n",
       " '“I can see him plainly.”',\n",
       " '“And there is the _Aurora_,”',\n",
       " '“and going like the devil! Full speed ahead, engineer. Make after that launch with the yellow light. By heaven, I shall never forgive myself if she proves to have the heels of us!”',\n",
       " '“She is very fast,”',\n",
       " '“I doubt if we shall catch her.”',\n",
       " '“We _must_ catch her!”',\n",
       " '“Heap it on, stokers! Make her do all she can! If we burn the boat we must have them!”',\n",
       " '“Pile it on, men, pile it on!”',\n",
       " '“Get every pound of steam you can.”',\n",
       " '“I think we gain a little,”',\n",
       " '“I am sure of it,”',\n",
       " '“We shall be up with her in a very few minutes.”',\n",
       " '“Fire if he raises his hand,”',\n",
       " '“See here,”',\n",
       " '“We were hardly quick enough with our pistols.”',\n",
       " '“Well, Jonathan Small,”',\n",
       " '“I am sorry that it has come to this.”',\n",
       " '“And so am I, sir,”',\n",
       " '“I don’t believe that I can swing over the job. I give you my word on the book that I never raised hand against Mr. Sholto. It was that little hell-hound Tonga who shot one of his cursed darts into him. I had no part in it, sir. I was as grieved as if it had been my blood-relation. I welted the little devil with the slack end of the rope for it, but it was done, and I could not undo it again.”',\n",
       " '“Have a cigar,”',\n",
       " '“and you had best take a pull out of my flask, for you are very wet. How could you expect so small and weak a man as this black fellow to overpower Mr. Sholto and hold him while you were climbing the rope?”',\n",
       " '“You seem to know as much about it as if you were there, sir. The truth is that I hoped to find the room clear. I knew the habits of the house pretty well, and it was the time when Mr. Sholto usually went down to his supper. I shall make no secret of the business. The best defence that I can make is just the simple truth. Now, if it had been the old major I would have swung for him with a light heart. I would have thought no more of knifing him than of smoking this cigar. But it’s cursed hard that I should be lagged over this young Sholto, with whom I had no quarrel whatever.”',\n",
       " '“You are under the charge of Mr. Athelney Jones, of Scotland Yard. He is going to bring you up to my rooms, and I shall ask you for a true account of the matter. You must make a clean breast of it, for if you do I hope that I may be of use to you. I think I can prove that the poison acts so quickly that the man was dead before ever you reached the room.”',\n",
       " '“That he was, sir. I never got such a turn in my life as when I saw him grinning at me with his head on his shoulder as I climbed through the window. It fairly shook me, sir. I’d have half killed Tonga for it if he had not scrambled off. That was how he came to leave his club, and some of his darts too, as he tells me, which I dare say helped to put you on our track; though how you kept on it is more than I can tell. I don’t feel no malice against you for it. But it does seem a queer thing,”',\n",
       " '“that I who have a fair claim to nigh upon half a million of money should spend the first half of my life building a breakwater in the Andamans, and am like to spend the other half digging drains at Dartmoor. It was an evil day for me when first I clapped eyes upon the merchant Achmet and had to do with the Agra treasure, which never brought anything but a curse yet upon the man who owned it. To him it brought murder, to Major Sholto it brought fear and guilt, to me it has meant slavery for life.”',\n",
       " '“Quite a family party,”',\n",
       " '“I think I shall have a pull at that flask, Holmes. Well, I think we may all congratulate each other. Pity we didn’t take the other alive; but there was no choice. I say, Holmes, you must confess that you cut it rather fine. It was all we could do to overhaul her.”',\n",
       " '“All is well that ends well,”',\n",
       " '“But I certainly did not know that the _Aurora_ was such a clipper.”',\n",
       " '“Smith says she is one of the fastest launches on the river, and that if he had had another man to help him with the engines we should never have caught her. He swears he knew nothing of this Norwood business.”',\n",
       " '“Neither he did,”',\n",
       " '“not a word. I chose his launch because I heard that she was a flier. We told him nothing, but we paid him well, and he was to get something handsome if we reached our vessel, the _Esmeralda_, at Gravesend, outward bound for the Brazils.”',\n",
       " '“Well, if he has done no wrong we shall see that no wrong comes to him. If we are pretty quick in catching our men, we are not so quick in condemning them.”',\n",
       " '“We will be at Vauxhall Bridge presently,”',\n",
       " '“and shall land you, Dr. Watson, with the treasure-box. I need hardly tell you that I am taking a very grave responsibility upon myself in doing this. It is most irregular; but of course an agreement is an agreement. I must, however, as a matter of duty, send an inspector with you, since you have so valuable a charge. You will drive, no doubt?”',\n",
       " '“Yes, I shall drive.”',\n",
       " '“It is a pity there is no key, that we may make an inventory first. You will have to break it open. Where is the key, my man?”',\n",
       " '“At the bottom of the river,”',\n",
       " '“Hum! There was no use your giving this unnecessary trouble. We have had work enough already through you. However, doctor, I need not warn you to be careful. Bring the box back with you to the Baker Street rooms. You will find us there, on our way to the station.”',\n",
       " '“I heard a cab drive up,”',\n",
       " '“I thought that Mrs. Forrester had come back very early, but I never dreamed that it might be you. What news have you brought me?”',\n",
       " '“I have brought something better than news,”',\n",
       " '“I have brought you something which is worth all the news in the world. I have brought you a fortune.”',\n",
       " '“Is that the treasure, then?”',\n",
       " '“Yes, this is the great Agra treasure. Half of it is yours and half is Thaddeus Sholto’s. You will have a couple of hundred thousand each. Think of that! An annuity of ten thousand pounds. There will be few richer young ladies in England. Is it not glorious?”',\n",
       " '“If I have it,”',\n",
       " '“I owe it to you.”',\n",
       " '“No, no,”',\n",
       " '“not to me, but to my friend Sherlock Holmes. With all the will in the world, I could never have followed up a clue which has taxed even his analytical genius. As it was, we very nearly lost it at the last moment.”',\n",
       " '“Pray sit down and tell me all about it, Dr. Watson,”',\n",
       " '“It is nothing,”',\n",
       " '“I am all right again. It was a shock to me to hear that I had placed my friends in such horrible peril.”',\n",
       " '“That is all over,”',\n",
       " '“It was nothing. I will tell you no more gloomy details. Let us turn to something brighter. There is the treasure. What could be brighter than that? I got leave to bring it with me, thinking that it would interest you to be the first to see it.”',\n",
       " '“It would be of the greatest interest to me,”',\n",
       " '“What a pretty box!”',\n",
       " '“This is Indian work, I suppose?”',\n",
       " '“Yes; it is Benares metal-work.”',\n",
       " '“And so heavy!”',\n",
       " '“The box alone must be of some value. Where is the key?”',\n",
       " '“Small threw it into the Thames,”',\n",
       " '“I must borrow Mrs. Forrester’s poker.”',\n",
       " '“The treasure is lost,”',\n",
       " '“Thank God!”',\n",
       " '“Why do you say that?”',\n",
       " '“Because you are within my reach again,”',\n",
       " '“Because I love you, Mary, as truly as ever a man loved a woman. Because this treasure, these riches, sealed my lips. Now that they are gone I can tell you how I love you. That is why I said, ‘Thank God.’”',\n",
       " '“Then I say, ‘Thank God,’ too,”',\n",
       " '“There goes the reward!”',\n",
       " '“Where there is no money there is no pay. This night’s work would have been worth a tenner each to Sam Brown and me if the treasure had been there.”',\n",
       " '“Mr. Thaddeus Sholto is a rich man,”',\n",
       " '“He will see that you are rewarded, treasure or no.”',\n",
       " '“It’s a bad job,”',\n",
       " '“and so Mr. Athelney Jones will think.”',\n",
       " '“This is your doing, Small,”',\n",
       " '“Yes, I have put it away where you shall never lay hand upon it,”',\n",
       " '“It is my treasure; and if I can’t have the loot I’ll take darned good care that no one else does. I tell you that no living man has any right to it, unless it is three men who are in the Andaman convict-barracks and myself. I know now that I cannot have the use of it, and I know that they cannot. I have acted all through for them as much as for myself. It’s been the sign of four with us always. Well I know that they would have had me do just what I have done, and throw the treasure into the Thames rather than let it go to kith or kin of Sholto or of Morstan. It was not to make them rich that we did for Achmet. You’ll find the treasure where the key is, and where little Tonga is. When I saw that your launch must catch us, I put the loot away in a safe place. There are no rupees for you this journey.”',\n",
       " '“You are deceiving us, Small,”',\n",
       " '“If you had wished to throw the treasure into the Thames it would have been easier for you to have thrown box and all.”',\n",
       " '“Easier for me to throw, and easier for you to recover,”',\n",
       " '“The man that was clever enough to hunt me down is clever enough to pick an iron box from the bottom of a river. Now that they are scattered over five miles or so, it may be a harder job. It went to my heart to do it, though. I was half mad when you came up with us. However, there’s no good grieving over it. I’ve had ups in my life, and I’ve had downs, but I’ve learned not to cry over spilled milk.”',\n",
       " '“This is a very serious matter, Small,”',\n",
       " '“If you had helped justice, instead of thwarting it in this way, you would have had a better chance at your trial.”',\n",
       " '“Justice!”',\n",
       " '“A pretty justice! Whose loot is this, if it is not ours? Where is the justice that I should give it up to those who have never earned it? Look how I have earned it! Twenty long years in that fever-ridden swamp, all day at work under the mangrove-tree, all night chained up in the filthy convict-huts, bitten by mosquitoes, racked with ague, bullied by every cursed black-faced policeman who loved to take it out of a white man. That was how I earned the Agra treasure; and you talk to me of justice because I cannot bear to feel that I have paid this price only that another may enjoy it! I would rather swing a score of times, or have one of Tonga’s darts in my hide, than live in a convict’s cell and feel that another man is at his ease in a palace with the money that should be mine.”',\n",
       " '“You forget that we know nothing of all this,”',\n",
       " '“We have not heard your story, and we cannot tell how far justice may originally have been on your side.”',\n",
       " '“Well, sir, you have been very fair-spoken to me, though I can see that I have you to thank that I have these bracelets upon my wrists. Still, I bear no grudge for that. It is all fair and above-board. If you want to hear my story I have no wish to hold it back. What I say to you is God’s truth, every word of it. Thank you; you can put the glass beside me here, and I’ll put my lips to it if I am dry.\\n\\n“I am a Worcestershire man myself,—born near Pershore. I dare say you would find a heap of Smalls living there now if you were to look. I have often thought of taking a look round there, but the truth is that I was never much of a credit to the family, and I doubt if they would be so very glad to see me. They were all steady, chapel-going folk, small farmers, well-known and respected over the country-side, while I was always a bit of a rover. At last, however, when I was about eighteen, I gave them no more trouble, for I got into a mess over a girl, and could only get out of it again by taking the Queen’s shilling and joining the 3rd Buffs, which was just starting for India.\\n\\n“I wasn’t destined to do much soldiering, however. I had just got past the goose-step, and learned to handle my musket, when I was fool enough to go swimming in the Ganges. Luckily for me, my company sergeant, John Holder, was in the water at the same time, and he was one of the finest swimmers in the service. A crocodile took me, just as I was half-way across, and nipped off my right leg as clean as a surgeon could have done it, just above the knee. What with the shock and the loss of blood, I fainted, and should have drowned if Holder had not caught hold of me and paddled for the bank. I was five months in hospital over it, and when at last I was able to limp out of it with this timber toe strapped to my stump I found myself invalided out of the army and unfitted for any active occupation.\\n\\n“I was, as you can imagine, pretty down on my luck at this time, for I was a useless cripple though not yet in my twentieth year. However, my misfortune soon proved to be a blessing in disguise. A man named Abel White, who had come out there as an indigo-planter, wanted an overseer to look after his coolies and keep them up to their work. He happened to be a friend of our colonel’s, who had taken an interest in me since the accident. To make a long story short, the colonel recommended me strongly for the post and, as the work was mostly to be done on horseback, my leg was no great obstacle, for I had enough knee left to keep good grip on the saddle. What I had to do was to ride over the plantation, to keep an eye on the men as they worked, and to report the idlers. The pay was fair, I had comfortable quarters, and altogether I was content to spend the remainder of my life in indigo-planting. Mr. Abel White was a kind man, and he would often drop into my little shanty and smoke a pipe with me, for white folk out there feel their hearts warm to each other as they never do here at home.\\n\\n“Well, I was never in luck’s way long. Suddenly, without a note of warning, the great mutiny broke upon us. One month India lay as still and peaceful, to all appearance, as Surrey or Kent; the next there were two hundred thousand black devils let loose, and the country was a perfect hell. Of course you know all about it, gentlemen,—a deal more than I do, very like, since reading is not in my line. I only know what I saw with my own eyes. Our plantation was at a place called Muttra, near the border of the Northwest Provinces. Night after night the whole sky was alight with the burning bungalows, and day after day we had small companies of Europeans passing through our estate with their wives and children, on their way to Agra, where were the nearest troops. Mr. Abel White was an obstinate man. He had it in his head that the affair had been exaggerated, and that it would blow over as suddenly as it had sprung up. There he sat on his veranda, drinking whiskey-pegs and smoking cheroots, while the country was in a blaze about him. Of course we stuck by him, I and Dawson, who, with his wife, used to do the book-work and the managing. Well, one fine day the crash came. I had been away on a distant plantation, and was riding slowly home in the evening, when my eye fell upon something all huddled together at the bottom of a steep nullah. I rode down to see what it was, and the cold struck through my heart when I found it was Dawson’s wife, all cut into ribbons, and half eaten by jackals and native dogs. A little further up the road Dawson himself was lying on his face, quite dead, with an empty revolver in his hand and four Sepoys lying across each other in front of him. I reined up my horse, wondering which way I should turn, but at that moment I saw thick smoke curling up from Abel White’s bungalow and the flames beginning to burst through the roof. I knew then that I could do my employer no good, but would only throw my own life away if I meddled in the matter. From where I stood I could see hundreds of the black fiends, with their red coats still on their backs, dancing and howling round the burning house. Some of them pointed at me, and a couple of bullets sang past my head; so I broke away across the paddy-fields, and found myself late at night safe within the walls at Agra.\\n\\n“As it proved, however, there was no great safety there, either. The whole country was up like a swarm of bees. Wherever the English could collect in little bands they held just the ground that their guns commanded. Everywhere else they were helpless fugitives. It was a fight of the millions against the hundreds; and the cruellest part of it was that these men that we fought against, foot, horse, and gunners, were our own picked troops, whom we had taught and trained, handling our own weapons, and blowing our own bugle-calls. At Agra there were the 3rd Bengal Fusiliers, some Sikhs, two troops of horse, and a battery of artillery. A volunteer corps of clerks and merchants had been formed, and this I joined, wooden leg and all. We went out to meet the rebels at Shahgunge early in July, and we beat them back for a time, but our powder gave out, and we had to fall back upon the city.\\n\\n“Nothing but the worst news came to us from every side,—which is not to be wondered at, for if you look at the map you will see that we were right in the heart of it. Lucknow is rather better than a hundred miles to the east, and Cawnpore about as far to the south. From every point on the compass there was nothing but torture and murder and outrage.\\n\\n“The city of Agra is a great place, swarming with fanatics and fierce devil-worshippers of all sorts. Our handful of men were lost among the narrow, winding streets. Our leader moved across the river, therefore, and took up his position in the old fort at Agra. I don’t know if any of you gentlemen have ever read or heard anything of that old fort. It is a very queer place,—the queerest that ever I was in, and I have been in some rum corners, too. First of all, it is enormous in size. I should think that the enclosure must be acres and acres. There is a modern part, which took all our garrison, women, children, stores, and everything else, with plenty of room over. But the modern part is nothing like the size of the old quarter, where nobody goes, and which is given over to the scorpions and the centipedes. It is all full of great deserted halls, and winding passages, and long corridors twisting in and out, so that it is easy enough for folk to get lost in it. For this reason it was seldom that any one went into it, though now and again a party with torches might go exploring.\\n\\n“The river washes along the front of the old fort, and so protects it, but on the sides and behind there are many doors, and these had to be guarded, of course, in the old quarter as well as in that which was actually held by our troops. We were short-handed, with hardly men enough to man the angles of the building and to serve the guns. It was impossible for us, therefore, to station a strong guard at every one of the innumerable gates. What we did was to organise a central guard-house in the middle of the fort, and to leave each gate under the charge of one white man and two or three natives. I was selected to take charge during certain hours of the night of a small isolated door upon the southwest side of the building. Two Sikh troopers were placed under my command, and I was instructed if anything went wrong to fire my musket, when I might rely upon help coming at once from the central guard. As the guard was a good two hundred paces away, however, and as the space between was cut up into a labyrinth of passages and corridors, I had great doubts as to whether they could arrive in time to be of any use in case of an actual attack.\\n\\n“Well, I was pretty proud at having this small command given me, since I was a raw recruit, and a game-legged one at that. For two nights I kept the watch with my Punjaubees. They were tall, fierce-looking chaps, Mahomet Singh and Abdullah Khan by name, both old fighting-men who had borne arms against us at Chilian-wallah. They could talk English pretty well, but I could get little out of them. They preferred to stand together and jabber all night in their queer Sikh lingo. For myself, I used to stand outside the gateway, looking down on the broad, winding river and on the twinkling lights of the great city. The beating of drums, the rattle of tomtoms, and the yells and howls of the rebels, drunk with opium and with bang, were enough to remind us all night of our dangerous neighbours across the stream. Every two hours the officer of the night used to come round to all the posts, to make sure that all was well.\\n\\n“The third night of my watch was dark and dirty, with a small, driving rain. It was dreary work standing in the gateway hour after hour in such weather. I tried again and again to make my Sikhs talk, but without much success. At two in the morning the rounds passed, and broke for a moment the weariness of the night. Finding that my companions would not be led into conversation, I took out my pipe, and laid down my musket to strike the match. In an instant the two Sikhs were upon me. One of them snatched my firelock up and levelled it at my head, while the other held a great knife to my throat and swore between his teeth that he would plunge it into me if I moved a step.\\n\\n“My first thought was that these fellows were in league with the rebels, and that this was the beginning of an assault. If our door were in the hands of the Sepoys the place must fall, and the women and children be treated as they were in Cawnpore. Maybe you gentlemen think that I am just making out a case for myself, but I give you my word that when I thought of that, though I felt the point of the knife at my throat, I opened my mouth with the intention of giving a scream, if it was my last one, which might alarm the main guard. The man who held me seemed to know my thoughts; for, even as I braced myself to it, he whispered, ‘Don’t make a noise. The fort is safe enough. There are no rebel dogs on this side of the river.’ There was the ring of truth in what he said, and I knew that if I raised my voice I was a dead man. I could read it in the fellow’s brown eyes. I waited, therefore, in silence, to see what it was that they wanted from me.\\n\\n“‘Listen to me, Sahib,’ said the taller and fiercer of the pair, the one whom they called Abdullah Khan. ‘You must either be with us now or you must be silenced forever. The thing is too great a one for us to hesitate. Either you are heart and soul with us on your oath on the cross of the Christians, or your body this night shall be thrown into the ditch and we shall pass over to our brothers in the rebel army. There is no middle way. Which is it to be, death or life? We can only give you three minutes to decide, for the time is passing, and all must be done before the rounds come again.’\\n\\n“‘How can I decide?’ said I. ‘You have not told me what you want of me. But I tell you now that if it is anything against the safety of the fort I will have no truck with it, so you can drive home your knife and welcome.’\\n\\n“‘It is nothing against the fort,’ said he. ‘We only ask you to do that which your countrymen come to this land for. We ask you to be rich. If you will be one of us this night, we will swear to you upon the naked knife, and by the threefold oath which no Sikh was ever known to break, that you shall have your fair share of the loot. A quarter of the treasure shall be yours. We can say no fairer.’\\n\\n“‘But what is the treasure, then?’ I asked. ‘I am as ready to be rich as you can be, if you will but show me how it can be done.’\\n\\n“‘You will swear, then,’ said he, ‘by the bones of your father, by the honour of your mother, by the cross of your faith, to raise no hand and speak no word against us, either now or afterwards?’\\n\\n“‘I will swear it,’ I answered, ‘provided that the fort is not endangered.’\\n\\n“‘Then my comrade and I will swear that you shall have a quarter of the treasure which shall be equally divided among the four of us.’\\n\\n“‘There are but three,’ said I.\\n\\n“‘No; Dost Akbar must have his share. We can tell the tale to you while we await them. Do you stand at the gate, Mahomet Singh, and give notice of their coming. The thing stands thus, Sahib, and I tell it to you because I know that an oath is binding upon a Feringhee, and that we may trust you. Had you been a lying Hindoo, though you had sworn by all the gods in their false temples, your blood would have been upon the knife, and your body in the water. But the Sikh knows the Englishman, and the Englishman knows the Sikh. Hearken, then, to what I have to say.\\n\\n“‘There is a rajah in the northern provinces who has much wealth, though his lands are small. Much has come to him from his father, and more still he has set by himself, for he is of a low nature and hoards his gold rather than spend it. When the troubles broke out he would be friends both with the lion and the tiger,—with the Sepoy and with the Company’s Raj. Soon, however, it seemed to him that the white men’s day was come, for through all the land he could hear of nothing but of their death and their overthrow. Yet, being a careful man, he made such plans that, come what might, half at least of his treasure should be left to him. That which was in gold and silver he kept by him in the vaults of his palace, but the most precious stones and the choicest pearls that he had he put in an iron box, and sent it by a trusty servant who, under the guise of a merchant, should take it to the fort at Agra, there to lie until the land is at peace. Thus, if the rebels won he would have his money, but if the Company conquered his jewels would be saved to him. Having thus divided his hoard, he threw himself into the cause of the Sepoys, since they were strong upon his borders. By doing this, mark you, Sahib, his property becomes the due of those who have been true to their salt.\\n\\n“‘This pretended merchant, who travels under the name of Achmet, is now in the city of Agra, and desires to gain his way into the fort. He has with him as travelling-companion my foster-brother Dost Akbar, who knows his secret. Dost Akbar has promised this night to lead him to a side-postern of the fort, and has chosen this one for his purpose. Here he will come presently, and here he will find Mahomet Singh and myself awaiting him. The place is lonely, and none shall know of his coming. The world shall know of the merchant Achmet no more, but the great treasure of the rajah shall be divided among us. What say you to it, Sahib?’\\n\\n“In Worcestershire the life of a man seems a great and a sacred thing; but it is very different when there is fire and blood all round you and you have been used to meeting death at every turn. Whether Achmet the merchant lived or died was a thing as light as air to me, but at the talk about the treasure my heart turned to it, and I thought of what I might do in the old country with it, and how my folk would stare when they saw their ne’er-do-well coming back with his pockets full of gold moidores. I had, therefore, already made up my mind. Abdullah Khan, however, thinking that I hesitated, pressed the matter more closely.\\n\\n“‘Consider, Sahib,’ said he, ‘that if this man is taken by the commandant he will be hung or shot, and his jewels taken by the government, so that no man will be a rupee the better for them. Now, since we do the taking of him, why should we not do the rest as well? The jewels will be as well with us as in the Company’s coffers. There will be enough to make every one of us rich men and great chiefs. No one can know about the matter, for here we are cut off from all men. What could be better for the purpose? Say again, then, Sahib, whether you are with us, or if we must look upon you as an enemy.’\\n\\n“‘I am with you heart and soul,’ said I.\\n\\n“‘It is well,’ he answered, handing me back my firelock. ‘You see that we trust you, for your word, like ours, is not to be broken. We have now only to wait for my brother and the merchant.’\\n\\n“‘Does your brother know, then, of what you will do?’ I asked.\\n\\n“‘The plan is his. He has devised it. We will go to the gate and share the watch with Mahomet Singh.’\\n\\n“The rain was still falling steadily, for it was just the beginning of the wet season. Brown, heavy clouds were drifting across the sky, and it was hard to see more than a stone-cast. A deep moat lay in front of our door, but the water was in places nearly dried up, and it could easily be crossed. It was strange to me to be standing there with those two wild Punjaubees waiting for the man who was coming to his death.\\n\\n“Suddenly my eye caught the glint of a shaded lantern at the other side of the moat. It vanished among the mound-heaps, and then appeared again coming slowly in our direction.\\n\\n“‘Here they are!’ I exclaimed.\\n\\n“‘You will challenge him, Sahib, as usual,’ whispered Abdullah. ‘Give him no cause for fear. Send us in with him, and we shall do the rest while you stay here on guard. Have the lantern ready to uncover, that we may be sure that it is indeed the man.’\\n\\n“The light had flickered onwards, now stopping and now advancing, until I could see two dark figures upon the other side of the moat. I let them scramble down the sloping bank, splash through the mire, and climb half-way up to the gate, before I challenged them.\\n\\n“‘Who goes there?’ said I, in a subdued voice.\\n\\n“‘Friends,’ came the answer. I uncovered my lantern and threw a flood of light upon them. The first was an enormous Sikh, with a black beard which swept nearly down to his cummerbund. Outside of a show I have never seen so tall a man. The other was a little, fat, round fellow, with a great yellow turban, and a bundle in his hand, done up in a shawl. He seemed to be all in a quiver with fear, for his hands twitched as if he had the ague, and his head kept turning to left and right with two bright little twinkling eyes, like a mouse when he ventures out from his hole. It gave me the chills to think of killing him, but I thought of the treasure, and my heart set as hard as a flint within me. When he saw my white face he gave a little chirrup of joy and came running up towards me.\\n\\n“‘Your protection, Sahib,’ he panted,—‘your protection for the unhappy merchant Achmet. I have travelled across Rajpootana that I might seek the shelter of the fort at Agra. I have been robbed and beaten and abused because I have been the friend of the Company. It is a blessed night this when I am once more in safety,—I and my poor possessions.’\\n\\n“‘What have you in the bundle?’ I asked.\\n\\n“‘An iron box,’ he answered, ‘which contains one or two little family matters which are of no value to others, but which I should be sorry to lose. Yet I am not a beggar; and I shall reward you, young Sahib, and your governor also, if he will give me the shelter I ask.’\\n\\n“I could not trust myself to speak longer with the man. The more I looked at his fat, frightened face, the harder did it seem that we should slay him in cold blood. It was best to get it over.\\n\\n“‘Take him to the main guard,’ said I. The two Sikhs closed in upon him on each side, and the giant walked behind, while they marched in through the dark gateway. Never was a man so compassed round with death. I remained at the gateway with the lantern.\\n\\n“I could hear the measured tramp of their footsteps sounding through the lonely corridors. Suddenly it ceased, and I heard voices, and a scuffle, with the sound of blows. A moment later there came, to my horror, a rush of footsteps coming in my direction, with the loud breathing of a running man. I turned my lantern down the long, straight passage, and there was the fat man, running like the wind, with a smear of blood across his face, and close at his heels, bounding like a tiger, the great black-bearded Sikh, with a knife flashing in his hand. I have never seen a man run so fast as that little merchant. He was gaining on the Sikh, and I could see that if he once passed me and got to the open air he would save himself yet. My heart softened to him, but again the thought of his treasure turned me hard and bitter. I cast my firelock between his legs as he raced past, and he rolled twice over like a shot rabbit. Ere he could stagger to his feet the Sikh was upon him, and buried his knife twice in his side. The man never uttered moan nor moved muscle, but lay were he had fallen. I think myself that he may have broken his neck with the fall. You see, gentlemen, that I am keeping my promise. I am telling you every work of the business just exactly as it happened, whether it is in my favour or not.”',\n",
       " '“It was all very bad, no doubt,”',\n",
       " '“I should like to know how many fellows in my shoes would have refused a share of this loot when they knew that they would have their throats cut for their pains. Besides, it was my life or his when once he was in the fort. If he had got out, the whole business would come to light, and I should have been court-martialled and shot as likely as not; for people were not very lenient at a time like that.”',\n",
       " '“Go on with your story,”',\n",
       " '“Well, we carried him in, Abdullah, Akbar, and I. A fine weight he was, too, for all that he was so short. Mahomet Singh was left to guard the door. We took him to a place which the Sikhs had already prepared. It was some distance off, where a winding passage leads to a great empty hall, the brick walls of which were all crumbling to pieces. The earth floor had sunk in at one place, making a natural grave, so we left Achmet the merchant there, having first covered him over with loose bricks. This done, we all went back to the treasure.\\n\\n“It lay where he had dropped it when he was first attacked. The box was the same which now lies open upon your table. A key was hung by a silken cord to that carved handle upon the top. We opened it, and the light of the lantern gleamed upon a collection of gems such as I have read of and thought about when I was a little lad at Pershore. It was blinding to look upon them. When we had feasted our eyes we took them all out and made a list of them. There were one hundred and forty-three diamonds of the first water, including one which has been called, I believe, ‘the Great Mogul’ and is said to be the second largest stone in existence. Then there were ninety-seven very fine emeralds, and one hundred and seventy rubies, some of which, however, were small. There were forty carbuncles, two hundred and ten sapphires, sixty-one agates, and a great quantity of beryls, onyxes, cats’-eyes, turquoises, and other stones, the very names of which I did not know at the time, though I have become more familiar with them since. Besides this, there were nearly three hundred very fine pearls, twelve of which were set in a gold coronet. By the way, these last had been taken out of the chest and were not there when I recovered it.\\n\\n“After we had counted our treasures we put them back into the chest and carried them to the gateway to show them to Mahomet Singh. Then we solemnly renewed our oath to stand by each other and be true to our secret. We agreed to conceal our loot in a safe place until the country should be at peace again, and then to divide it equally among ourselves. There was no use dividing it at present, for if gems of such value were found upon us it would cause suspicion, and there was no privacy in the fort nor any place where we could keep them. We carried the box, therefore, into the same hall where we had buried the body, and there, under certain bricks in the best-preserved wall, we made a hollow and put our treasure. We made careful note of the place, and next day I drew four plans, one for each of us, and put the sign of the four of us at the bottom, for we had sworn that we should each always act for all, so that none might take advantage. That is an oath that I can put my hand to my heart and swear that I have never broken.\\n\\n“Well, there’s no use my telling you gentlemen what came of the Indian mutiny. After Wilson took Delhi and Sir Colin relieved Lucknow the back of the business was broken. Fresh troops came pouring in, and Nana Sahib made himself scarce over the frontier. A flying column under Colonel Greathed came round to Agra and cleared the Pandies away from it. Peace seemed to be settling upon the country, and we four were beginning to hope that the time was at hand when we might safely go off with our shares of the plunder. In a moment, however, our hopes were shattered by our being arrested as the murderers of Achmet.\\n\\n“It came about in this way. When the rajah put his jewels into the hands of Achmet he did it because he knew that he was a trusty man. They are suspicious folk in the East, however: so what does this rajah do but take a second even more trusty servant and set him to play the spy upon the first? This second man was ordered never to let Achmet out of his sight, and he followed him like his shadow. He went after him that night and saw him pass through the doorway. Of course he thought he had taken refuge in the fort, and applied for admission there himself next day, but could find no trace of Achmet. This seemed to him so strange that he spoke about it to a sergeant of guides, who brought it to the ears of the commandant. A thorough search was quickly made, and the body was discovered. Thus at the very moment that we thought that all was safe we were all four seized and brought to trial on a charge of murder,—three of us because we had held the gate that night, and the fourth because he was known to have been in the company of the murdered man. Not a word about the jewels came out at the trial, for the rajah had been deposed and driven out of India: so no one had any particular interest in them. The murder, however, was clearly made out, and it was certain that we must all have been concerned in it. The three Sikhs got penal servitude for life, and I was condemned to death, though my sentence was afterwards commuted into the same as the others.\\n\\n“It was rather a queer position that we found ourselves in then. There we were all four tied by the leg and with precious little chance of ever getting out again, while we each held a secret which might have put each of us in a palace if we could only have made use of it. It was enough to make a man eat his heart out to have to stand the kick and the cuff of every petty jack-in-office, to have rice to eat and water to drink, when that gorgeous fortune was ready for him outside, just waiting to be picked up. It might have driven me mad; but I was always a pretty stubborn one, so I just held on and bided my time.\\n\\n“At last it seemed to me to have come. I was changed from Agra to Madras, and from there to Blair Island in the Andamans. There are very few white convicts at this settlement, and, as I had behaved well from the first, I soon found myself a sort of privileged person. I was given a hut in Hope Town, which is a small place on the slopes of Mount Harriet, and I was left pretty much to myself. It is a dreary, fever-stricken place, and all beyond our little clearings was infested with wild cannibal natives, who were ready enough to blow a poisoned dart at us if they saw a chance. There was digging, and ditching, and yam-planting, and a dozen other things to be done, so we were busy enough all day; though in the evening we had a little time to ourselves. Among other things, I learned to dispense drugs for the surgeon, and picked up a smattering of his knowledge. All the time I was on the lookout for a chance of escape; but it is hundreds of miles from any other land, and there is little or no wind in those seas: so it was a terribly difficult job to get away.\\n\\n“The surgeon, Dr. Somerton, was a fast, sporting young chap, and the other young officers would meet in his rooms of an evening and play cards. The surgery, where I used to make up my drugs, was next to his sitting-room, with a small window between us. Often, if I felt lonesome, I used to turn out the lamp in the surgery, and then, standing there, I could hear their talk and watch their play. I am fond of a hand at cards myself, and it was almost as good as having one to watch the others. There was Major Sholto, Captain Morstan, and Lieutenant Bromley Brown, who were in command of the native troops, and there was the surgeon himself, and two or three prison-officials, crafty old hands who played a nice sly safe game. A very snug little party they used to make.\\n\\n“Well, there was one thing which very soon struck me, and that was that the soldiers used always to lose and the civilians to win. Mind, I don’t say that there was anything unfair, but so it was. These prison-chaps had done little else than play cards ever since they had been at the Andamans, and they knew each other’s game to a point, while the others just played to pass the time and threw their cards down anyhow. Night after night the soldiers got up poorer men, and the poorer they got the more keen they were to play. Major Sholto was the hardest hit. He used to pay in notes and gold at first, but soon it came to notes of hand and for big sums. He sometimes would win for a few deals, just to give him heart, and then the luck would set in against him worse than ever. All day he would wander about as black as thunder, and he took to drinking a deal more than was good for him.\\n\\n“One night he lost even more heavily than usual. I was sitting in my hut when he and Captain Morstan came stumbling along on the way to their quarters. They were bosom friends, those two, and never far apart. The major was raving about his losses.\\n\\n“‘It’s all up, Morstan,’ he was saying, as they passed my hut. ‘I shall have to send in my papers. I am a ruined man.’\\n\\n“‘Nonsense, old chap!’ said the other, slapping him upon the shoulder. ‘I’ve had a nasty facer myself, but—’ That was all I could hear, but it was enough to set me thinking.\\n\\n“A couple of days later Major Sholto was strolling on the beach: so I took the chance of speaking to him.\\n\\n“‘I wish to have your advice, major,’ said I.\\n\\n“‘Well, Small, what is it?’ he asked, taking his cheroot from his lips.\\n\\n“‘I wanted to ask you, sir,’ said I, ‘who is the proper person to whom hidden treasure should be handed over. I know where half a million worth lies, and, as I cannot use it myself, I thought perhaps the best thing that I could do would be to hand it over to the proper authorities, and then perhaps they would get my sentence shortened for me.’\\n\\n“‘Half a million, Small?’ he gasped, looking hard at me to see if I was in earnest.\\n\\n“‘Quite that, sir,—in jewels and pearls. It lies there ready for any one. And the queer thing about it is that the real owner is outlawed and cannot hold property, so that it belongs to the first comer.’\\n\\n“‘To government, Small,’ he stammered,—‘to government.’ But he said it in a halting fashion, and I knew in my heart that I had got him.\\n\\n“‘You think, then, sir, that I should give the information to the Governor-General?’ said I, quietly.\\n\\n“‘Well, well, you must not do anything rash, or that you might repent. Let me hear all about it, Small. Give me the facts.’\\n\\n“I told him the whole story, with small changes so that he could not identify the places. When I had finished he stood stock still and full of thought. I could see by the twitch of his lip that there was a struggle going on within him.\\n\\n“‘This is a very important matter, Small,’ he said, at last. ‘You must not say a word to any one about it, and I shall see you again soon.’\\n\\n“Two nights later he and his friend Captain Morstan came to my hut in the dead of the night with a lantern.\\n\\n“‘I want you just to let Captain Morstan hear that story from your own lips, Small,’ said he.\\n\\n“I repeated it as I had told it before.\\n\\n“‘It rings true, eh?’ said he. ‘It’s good enough to act upon?’\\n\\n“Captain Morstan nodded.\\n\\n“‘Look here, Small,’ said the major. ‘We have been talking it over, my friend here and I, and we have come to the conclusion that this secret of yours is hardly a government matter, after all, but is a private concern of your own, which of course you have the power of disposing of as you think best. Now, the question is, what price would you ask for it? We might be inclined to take it up, and at least look into it, if we could agree as to terms.’ He tried to speak in a cool, careless way, but his eyes were shining with excitement and greed.\\n\\n“‘Why, as to that, gentlemen,’ I answered, trying also to be cool, but feeling as excited as he did, ‘there is only one bargain which a man in my position can make. I shall want you to help me to my freedom, and to help my three companions to theirs. We shall then take you into partnership, and give you a fifth share to divide between you.’\\n\\n“‘Hum!’ said he. ‘A fifth share! That is not very tempting.’\\n\\n“‘It would come to fifty thousand apiece,’ said I.\\n\\n“‘But how can we gain your freedom? You know very well that you ask an impossibility.’\\n\\n“‘Nothing of the sort,’ I answered. ‘I have thought it all out to the last detail. The only bar to our escape is that we can get no boat fit for the voyage, and no provisions to last us for so long a time. There are plenty of little yachts and yawls at Calcutta or Madras which would serve our turn well. Do you bring one over. We shall engage to get aboard her by night, and if you will drop us on any part of the Indian coast you will have done your part of the bargain.’\\n\\n“‘If there were only one,’ he said.\\n\\n“‘None or all,’ I answered. ‘We have sworn it. The four of us must always act together.’\\n\\n“‘You see, Morstan,’ said he, ‘Small is a man of his word. He does not flinch from his friend. I think we may very well trust him.’\\n\\n“‘It’s a dirty business,’ the other answered. ‘Yet, as you say, the money would save our commissions handsomely.’\\n\\n“‘Well, Small,’ said the major, ‘we must, I suppose, try and meet you. We must first, of course, test the truth of your story. Tell me where the box is hid, and I shall get leave of absence and go back to India in the monthly relief-boat to inquire into the affair.’\\n\\n“‘Not so fast,’ said I, growing colder as he got hot. ‘I must have the consent of my three comrades. I tell you that it is four or none with us.’\\n\\n“‘Nonsense!’ he broke in. ‘What have three black fellows to do with our agreement?’\\n\\n“‘Black or blue,’ said I, ‘they are in with me, and we all go together.’\\n\\n“Well, the matter ended by a second meeting, at which Mahomet Singh, Abdullah Khan, and Dost Akbar were all present. We talked the matter over again, and at last we came to an arrangement. We were to provide both the officers with charts of the part of the Agra fort and mark the place in the wall where the treasure was hid. Major Sholto was to go to India to test our story. If he found the box he was to leave it there, to send out a small yacht provisioned for a voyage, which was to lie off Rutland Island, and to which we were to make our way, and finally to return to his duties. Captain Morstan was then to apply for leave of absence, to meet us at Agra, and there we were to have a final division of the treasure, he taking the major’s share as well as his own. All this we sealed by the most solemn oaths that the mind could think or the lips utter. I sat up all night with paper and ink, and by the morning I had the two charts all ready, signed with the sign of four,—that is, of Abdullah, Akbar, Mahomet, and myself.\\n\\n“Well, gentlemen, I weary you with my long story, and I know that my friend Mr. Jones is impatient to get me safely stowed in chokey. I’ll make it as short as I can. The villain Sholto went off to India, but he never came back again. Captain Morstan showed me his name among a list of passengers in one of the mail-boats very shortly afterwards. His uncle had died, leaving him a fortune, and he had left the army, yet he could stoop to treat five men as he had treated us. Morstan went over to Agra shortly afterwards, and found, as we expected, that the treasure was indeed gone. The scoundrel had stolen it all, without carrying out one of the conditions on which we had sold him the secret. From that day I lived only for vengeance. I thought of it by day and I nursed it by night. It became an overpowering, absorbing passion with me. I cared nothing for the law,—nothing for the gallows. To escape, to track down Sholto, to have my hand upon his throat,—that was my one thought. Even the Agra treasure had come to be a smaller thing in my mind than the slaying of Sholto.\\n\\n“Well, I have set my mind on many things in this life, and never one which I did not carry out. But it was weary years before my time came. I have told you that I had picked up something of medicine. One day when Dr. Somerton was down with a fever a little Andaman Islander was picked up by a convict-gang in the woods. He was sick to death, and had gone to a lonely place to die. I took him in hand, though he was as venomous as a young snake, and after a couple of months I got him all right and able to walk. He took a kind of fancy to me then, and would hardly go back to his woods, but was always hanging about my hut. I learned a little of his lingo from him, and this made him all the fonder of me.\\n\\n“Tonga—for that was his name—was a fine boatman, and owned a big, roomy canoe of his own. When I found that he was devoted to me and would do anything to serve me, I saw my chance of escape. I talked it over with him. He was to bring his boat round on a certain night to an old wharf which was never guarded, and there he was to pick me up. I gave him directions to have several gourds of water and a lot of yams, cocoa-nuts, and sweet potatoes.\\n\\n“He was stanch and true, was little Tonga. No man ever had a more faithful mate. At the night named he had his boat at the wharf. As it chanced, however, there was one of the convict-guard down there,—a vile Pathan who had never missed a chance of insulting and injuring me. I had always vowed vengeance, and now I had my chance. It was as if fate had placed him in my way that I might pay my debt before I left the island. He stood on the bank with his back to me, and his carbine on his shoulder. I looked about for a stone to beat out his brains with, but none could I see. Then a queer thought came into my head and showed me where I could lay my hand on a weapon. I sat down in the darkness and unstrapped my wooden leg. With three long hops I was on him. He put his carbine to his shoulder, but I struck him full, and knocked the whole front of his skull in. You can see the split in the wood now where I hit him. We both went down together, for I could not keep my balance, but when I got up I found him still lying quiet enough. I made for the boat, and in an hour we were well out at sea. Tonga had brought all his earthly possessions with him, his arms and his gods. Among other things, he had a long bamboo spear, and some Andaman cocoa-nut matting, with which I made a sort of sail. For ten days we were beating about, trusting to luck, and on the eleventh we were picked up by a trader which was going from Singapore to Jiddah with a cargo of Malay pilgrims. They were a rum crowd, and Tonga and I soon managed to settle down among them. They had one very good quality: they let you alone and asked no questions.\\n\\n“Well, if I were to tell you all the adventures that my little chum and I went through, you would not thank me, for I would have you here until the sun was shining. Here and there we drifted about the world, something always turning up to keep us from London. All the time, however, I never lost sight of my purpose. I would dream of Sholto at night. A hundred times I have killed him in my sleep. At last, however, some three or four years ago, we found ourselves in England. I had no great difficulty in finding where Sholto lived, and I set to work to discover whether he had realised the treasure, or if he still had it. I made friends with someone who could help me,—I name no names, for I don’t want to get any one else in a hole,—and I soon found that he still had the jewels. Then I tried to get at him in many ways; but he was pretty sly, and had always two prize-fighters, besides his sons and his khitmutgar, on guard over him.\\n\\n“One day, however, I got word that he was dying. I hurried at once to the garden, mad that he should slip out of my clutches like that, and, looking through the window, I saw him lying in his bed, with his sons on each side of him. I’d have come through and taken my chance with the three of them, only even as I looked at him his jaw dropped, and I knew that he was gone. I got into his room that same night, though, and I searched his papers to see if there was any record of where he had hidden our jewels. There was not a line, however: so I came away, bitter and savage as a man could be. Before I left I bethought me that if I ever met my Sikh friends again it would be a satisfaction to know that I had left some mark of our hatred; so I scrawled down the sign of the four of us, as it had been on the chart, and I pinned it on his bosom. It was too much that he should be taken to the grave without some token from the men whom he had robbed and befooled.\\n\\n“We earned a living at this time by my exhibiting poor Tonga at fairs and other such places as the black cannibal. He would eat raw meat and dance his war-dance: so we always had a hatful of pennies after a day’s work. I still heard all the news from Pondicherry Lodge, and for some years there was no news to hear, except that they were hunting for the treasure. At last, however, came what we had waited for so long. The treasure had been found. It was up at the top of the house, in Mr. Bartholomew Sholto’s chemical laboratory. I came at once and had a look at the place, but I could not see how with my wooden leg I was to make my way up to it. I learned, however, about a trap-door in the roof, and also about Mr. Sholto’s supper-hour. It seemed to me that I could manage the thing easily through Tonga. I brought him out with me with a long rope wound round his waist. He could climb like a cat, and he soon made his way through the roof, but, as ill luck would have it, Bartholomew Sholto was still in the room, to his cost. Tonga thought he had done something very clever in killing him, for when I came up by the rope I found him strutting about as proud as a peacock. Very much surprised was he when I made at him with the rope’s end and cursed him for a little blood-thirsty imp. I took the treasure-box and let it down, and then slid down myself, having first left the sign of the four upon the table, to show that the jewels had come back at last to those who had most right to them. Tonga then pulled up the rope, closed the window, and made off the way that he had come.\\n\\n“I don’t know that I have anything else to tell you. I had heard a waterman speak of the speed of Smith’s launch the _Aurora_, so I thought she would be a handy craft for our escape. I engaged with old Smith, and was to give him a big sum if he got us safe to our ship. He knew, no doubt, that there was some screw loose, but he was not in our secrets. All this is the truth, and if I tell it to you, gentlemen, it is not to amuse you,—for you have not done me a very good turn,—but it is because I believe the best defence I can make is just to hold back nothing, but let all the world know how badly I have myself been served by Major Sholto, and how innocent I am of the death of his son.”',\n",
       " '“A very remarkable account,”',\n",
       " '“A fitting wind-up to an extremely interesting case. There is nothing at all new to me in the latter part of your narrative, except that you brought your own rope. That I did not know. By the way, I had hoped that Tonga had lost all his darts; yet he managed to shoot one at us in the boat.”',\n",
       " '“He had lost them all, sir, except the one which was in his blow-pipe at the time.”',\n",
       " '“Ah, of course,”',\n",
       " '“I had not thought of that.”',\n",
       " '“Is there any other point which you would like to ask about?”',\n",
       " '“I think not, thank you,”',\n",
       " '“Well, Holmes,”',\n",
       " '“You are a man to be humoured, and we all know that you are a connoisseur of crime, but duty is duty, and I have gone rather far in doing what you and your friend asked me. I shall feel more at ease when we have our story-teller here safe under lock and key. The cab still waits, and there are two inspectors downstairs. I am much obliged to you both for your assistance. Of course you will be wanted at the trial. Good-night to you.”',\n",
       " '“Good-night, gentlemen both,”',\n",
       " '“You first, Small,”',\n",
       " '“I’ll take particular care that you don’t club me with your wooden leg, whatever you may have done to the gentleman at the Andaman Isles.”',\n",
       " '“Well, and there is the end of our little drama,”',\n",
       " '“I fear that it may be the last investigation in which I shall have the chance of studying your methods. Miss Morstan has done me the honour to accept me as a husband in prospective.”',\n",
       " '“I feared as much,”',\n",
       " '“I really cannot congratulate you.”',\n",
       " '“Have you any reason to be dissatisfied with my choice?”',\n",
       " '“Not at all. I think she is one of the most charming young ladies I ever met, and might have been most useful in such work as we have been doing. She had a decided genius that way: witness the way in which she preserved that Agra plan from all the other papers of her father. But love is an emotional thing, and whatever is emotional is opposed to that true cold reason which I place above all things. I should never marry myself, lest I bias my judgment.”',\n",
       " '“I trust,”',\n",
       " '“that my judgment may survive the ordeal. But you look weary.”',\n",
       " '“Yes, the reaction is already upon me. I shall be as limp as a rag for a week.”',\n",
       " '“Strange,”',\n",
       " '“how terms of what in another man I should call laziness alternate with your fits of splendid energy and vigour.”',\n",
       " '“Yes,”',\n",
       " '“there are in me the makings of a very fine loafer and also of a pretty spry sort of fellow. I often think of those lines of old Goethe,—\\n\\nSchade dass die Natur nur _einen_ Mensch aus Dir schuf, Denn zum würdigen Mann war und zum Schelmen der Stoff.\\n\\n\\n“By the way, _à propos_ of this Norwood business, you see that they had, as I surmised, a confederate in the house, who could be none other than Lal Rao, the butler: so Jones actually has the undivided honour of having caught one fish in his great haul.”',\n",
       " '“The division seems rather unfair,”',\n",
       " '“You have done all the work in this business. I get a wife out of it, Jones gets the credit, pray what remains for you?”',\n",
       " '“For me,”',\n",
       " '“there still remains the cocaine-bottle.”']"
      ]
     },
     "execution_count": 84,
     "metadata": {},
     "output_type": "execute_result"
    }
   ],
   "source": [
    "re.findall(\"“[^”]*”\", sot4)"
   ]
  },
  {
   "cell_type": "markdown",
   "id": "dd385601",
   "metadata": {},
   "source": [
    "As you can see, `re.findall` returns a `list` in which every match is provided as an item.\n",
    "\n",
    "That looks good, but it isn't stored anywhere, so let's grab that output and put it into a variable!"
   ]
  },
  {
   "cell_type": "code",
   "execution_count": 85,
   "id": "7216a999",
   "metadata": {},
   "outputs": [],
   "source": [
    "sot4_quotations = re.findall(\"“[^”]*”\", sot4)"
   ]
  },
  {
   "cell_type": "code",
   "execution_count": 86,
   "id": "436f35aa",
   "metadata": {},
   "outputs": [
    {
     "data": {
      "text/plain": [
       "['“I feared as much,”',\n",
       " '“I really cannot congratulate you.”',\n",
       " '“Have you any reason to be dissatisfied with my choice?”',\n",
       " '“Not at all. I think she is one of the most charming young ladies I ever met, and might have been most useful in such work as we have been doing. She had a decided genius that way: witness the way in which she preserved that Agra plan from all the other papers of her father. But love is an emotional thing, and whatever is emotional is opposed to that true cold reason which I place above all things. I should never marry myself, lest I bias my judgment.”',\n",
       " '“I trust,”',\n",
       " '“that my judgment may survive the ordeal. But you look weary.”',\n",
       " '“Yes, the reaction is already upon me. I shall be as limp as a rag for a week.”',\n",
       " '“Strange,”',\n",
       " '“how terms of what in another man I should call laziness alternate with your fits of splendid energy and vigour.”',\n",
       " '“Yes,”',\n",
       " '“there are in me the makings of a very fine loafer and also of a pretty spry sort of fellow. I often think of those lines of old Goethe,—\\n\\nSchade dass die Natur nur _einen_ Mensch aus Dir schuf, Denn zum würdigen Mann war und zum Schelmen der Stoff.\\n\\n\\n“By the way, _à propos_ of this Norwood business, you see that they had, as I surmised, a confederate in the house, who could be none other than Lal Rao, the butler: so Jones actually has the undivided honour of having caught one fish in his great haul.”',\n",
       " '“The division seems rather unfair,”',\n",
       " '“You have done all the work in this business. I get a wife out of it, Jones gets the credit, pray what remains for you?”',\n",
       " '“For me,”',\n",
       " '“there still remains the cocaine-bottle.”']"
      ]
     },
     "execution_count": 86,
     "metadata": {},
     "output_type": "execute_result"
    }
   ],
   "source": [
    "sot4_quotations[-15:]"
   ]
  },
  {
   "cell_type": "markdown",
   "id": "54a7bcad",
   "metadata": {},
   "source": [
    "## 👸🤴 Digression, Part II: Creating a Literary Mashup\n",
    "\n",
    "### Note: Like the Part I of this Digression, this will not be on the midterm or the exam.\n",
    "\n",
    "Now, let's say you want to do something really fun with these quotations you just extracted... like, say, stick them into *Pride and Prejudice* so that all of Austen's dialogue is replaced with Conan Doyle's!\n",
    "\n",
    "Here's how I'm going to do it:\n",
    "* Load up P&P\n",
    "* Replace all the dialogue in P&P with the phrase \"QUOTE_HERE\" so that I know where to stick my replacement quotations.\n",
    "* Then iterate through my list of SOT4 quotations, popping them into P&P one by one"
   ]
  },
  {
   "cell_type": "code",
   "execution_count": 87,
   "id": "6edc305c",
   "metadata": {},
   "outputs": [
    {
     "name": "stdout",
     "output_type": "stream",
     "text": [
      "\n",
      "      “My dear Mr. Bennet,” said his lady to him one day, “have you\n",
      "      heard that Netherfield Park is let at last?”\n",
      "\n",
      "      Mr. Bennet replied that he had not.\n",
      "\n",
      "      “But it is,” returned she; “for Mrs. Long has just been here, and\n",
      "      she told me all about it.”\n",
      "\n",
      "      Mr. Bennet made no answer.\n",
      "\n"
     ]
    }
   ],
   "source": [
    "# This loads P&P, a copy of which I have conveniently placed in the same folder as this notebook.\n",
    "\n",
    "pandp = open(\"pride_prejudice.txt\", encoding=\"utf-8\").read()\n",
    "\n",
    "print(pandp[470:773])"
   ]
  },
  {
   "cell_type": "code",
   "execution_count": 88,
   "id": "a5aedeab",
   "metadata": {},
   "outputs": [],
   "source": [
    "# This replaces all dialogue in P&P with the phrase \"QUOTE_HERE\", \n",
    "# creating targets I can then replace one-by-one with the SOT4 quotations\n",
    "\n",
    "pride_of_the_four = re.sub(\"“[^”]*”\", \"QUOTE_HERE\", pandp)"
   ]
  },
  {
   "cell_type": "code",
   "execution_count": 89,
   "id": "6d5d92ae",
   "metadata": {},
   "outputs": [
    {
     "name": "stdout",
     "output_type": "stream",
     "text": [
      "\n",
      "      QUOTE_HERE said his lady to him one day, QUOTE_HERE\n",
      "\n",
      "      Mr. Bennet replied that he had not.\n",
      "\n",
      "      QUOTE_HERE returned she; QUOTE_HERE\n",
      "\n",
      "      Mr. Bennet made no answer.\n",
      "\n",
      "\n"
     ]
    }
   ],
   "source": [
    "print(pride_of_the_four[470:650])"
   ]
  },
  {
   "cell_type": "code",
   "execution_count": 90,
   "id": "cb8c7788",
   "metadata": {},
   "outputs": [],
   "source": [
    "## Now I will iterate through the list of SOT4 quotations, using each one to replace one \"QUOTE_HERE\" in pride_of_the_four\n",
    "\n",
    "for quotation in sot4_quotations:\n",
    "    pride_of_the_four = re.sub(\"QUOTE.HERE\", quotation, pride_of_the_four, 1) # the \"1\" at the end of this line specifies to only make one replacement for each item in sot4_quotations"
   ]
  },
  {
   "cell_type": "code",
   "execution_count": 91,
   "id": "caa35ddb",
   "metadata": {},
   "outputs": [
    {
     "name": "stdout",
     "output_type": "stream",
     "text": [
      "\n",
      "      “Which is it to-day?” said his lady to him one day, “morphine or cocaine?”\n",
      "\n",
      "      Mr. Bennet replied that he had not.\n",
      "\n",
      "      “It is cocaine,” returned she; “a seven-per-cent. solution. Would you care to try it?”\n",
      "\n",
      "      Mr. Bennet made no answer.\n",
      "\n",
      "      “No, indeed,” cried his wife\n",
      "      impatiently.\n",
      "\n"
     ]
    }
   ],
   "source": [
    "# This is the amusing result...\n",
    "\n",
    "print(pride_of_the_four[470:778])"
   ]
  },
  {
   "cell_type": "code",
   "execution_count": 92,
   "id": "a025118c",
   "metadata": {},
   "outputs": [
    {
     "data": {
      "text/plain": [
       "587672"
      ]
     },
     "execution_count": 92,
     "metadata": {},
     "output_type": "execute_result"
    }
   ],
   "source": [
    "# Below we will learn how to write files. But here's a little preview! This line saves our amazing new mashup novel as \"pride-of-the-four.txt\"\n",
    "\n",
    "open(\"pride-of-the-four.txt\", mode=\"w\", encoding=\"utf-8\").write(pride_of_the_four)"
   ]
  },
  {
   "cell_type": "markdown",
   "id": "af3f908a",
   "metadata": {},
   "source": [
    "# 2. Iterating through Files in a Folder\n",
    "\n",
    "Okay, we now know how to remove punctuation, which is essential to our TTR task: we are now getting accurate token and type counts.\n",
    "\n",
    "We only need to be able to do three more things:\n",
    "* Learn how to automatically create a standardized sample size\n",
    "* Automate the loading of files so that we can can give Python a folder full of text files and let it do its thing, with no additional help from us\n",
    "* Have Python spit out some nice spreadsheet files for us: one with non-standardized values and one with standardized values.\n",
    "\n",
    "First, let's handle the folder-loading task.\n",
    "\n",
    "## The `Path` function\n",
    "\n",
    "### Sometimes in life, we need to read and write multiple text files...\n",
    "\n",
    "For this, we need to pull in another Python Library: `pathlib`, from which we are going to extract the function `Path`. We can coax it down the fireman's pole with this command:"
   ]
  },
  {
   "cell_type": "code",
   "execution_count": 93,
   "id": "6d2eefd2",
   "metadata": {},
   "outputs": [],
   "source": [
    "from pathlib import Path"
   ]
  },
  {
   "cell_type": "markdown",
   "id": "0fe5dc35",
   "metadata": {},
   "source": [
    "`Path` will help us look through a folder and find the... **pathways** that Python needs to find files we want it to look and calculate TTR values for. \n",
    "\n",
    "First, `Path` needs to know where we've stored our plain text files. We will let it know by passing it a string variable that contains the name of the folder we want it to look in. In this case (check your JupyterHubs!) we've put all the individual chapters of *The Sign of the Four* in a folder called `sot4chaps`."
   ]
  },
  {
   "cell_type": "code",
   "execution_count": 94,
   "id": "79ae855b",
   "metadata": {},
   "outputs": [],
   "source": [
    "folder_path = \"sot4chaps\" # This variable can be named anything as long as is matches the variable name in the Path() command below"
   ]
  },
  {
   "cell_type": "markdown",
   "id": "7b98f08e",
   "metadata": {},
   "source": [
    "The below command asks `Path` to look in a folder called `sot4chaps` (which it expects to find **in the same folder as the Jupyter Notebook we are currently using — which it is!**), and to print out the paths of **absolutely everything in that folder** (the `\"*\"` as the argument to the `.glob()` method is what instructs it to look for everything)."
   ]
  },
  {
   "cell_type": "code",
   "execution_count": 95,
   "id": "e8e40343",
   "metadata": {},
   "outputs": [
    {
     "name": "stdout",
     "output_type": "stream",
     "text": [
      "sot4chaps/firemanspole.gif\n",
      "sot4chaps/01 The Science of Deduction.txt\n",
      "sot4chaps/09 A Break in the Chain.txt\n",
      "sot4chaps/07 The Episode of the Barrel.txt\n",
      "sot4chaps/04 The Story of the Bald-Headed Man.txt\n",
      "sot4chaps/02 The Statement of the Case.txt\n",
      "sot4chaps/05 The Tragedy of Pondicherry Lodge.txt\n",
      "sot4chaps/06 Sherlock Holmes Gives a Demonstration.txt\n",
      "sot4chaps/08 The Baker Street Irregulars.txt\n",
      "sot4chaps/03 In Quest of a Solution.txt\n",
      "sot4chaps/11 The Great Agra Treasure.txt\n",
      "sot4chaps/10 The End of the Islander.txt\n",
      "sot4chaps/12 The Strange Story of Jonathan Small.txt\n"
     ]
    }
   ],
   "source": [
    "for file_path in Path(folder_path).glob(\"*\"):\n",
    "    print(file_path)"
   ]
  },
  {
   "cell_type": "markdown",
   "id": "66ddc46a",
   "metadata": {},
   "source": [
    "### Hmm, there's a slight problem with this list\n",
    "\n",
    "Each of those things is a **file path**: a path or route that Python will need to follow — relative to the place from which it's receiving its commands; namely, this Jupyter Notebook — to get to the files we want it to analyze.\n",
    "\n",
    "As you can see, I have deviously inserted the dreaded `firemanspole.gif` into that folder. We do not want to calculate the TTR of `firemanspole.gif`!! Luckily we can tell `Path` to only look for particular kinds of files. In this case, we only want it to look at plain text files, which all end `.txt`. So we can replace the `*` in the above command (\"I want paths of everything in that folder\") with `*.txt` (\"I only want paths to the plain text files\").\n",
    "\n",
    "(NOTE: The `*` in the `Path().glob()` method means something different from the `*` in Regex. Such is life in the world of computer programming, where one must learn to speak multiple dialects to communicate...)\n",
    "\n",
    "### Let's try and just get our text files"
   ]
  },
  {
   "cell_type": "code",
   "execution_count": 96,
   "id": "7fc1a2ad",
   "metadata": {},
   "outputs": [
    {
     "name": "stdout",
     "output_type": "stream",
     "text": [
      "sot4chaps/01 The Science of Deduction.txt\n",
      "sot4chaps/09 A Break in the Chain.txt\n",
      "sot4chaps/07 The Episode of the Barrel.txt\n",
      "sot4chaps/04 The Story of the Bald-Headed Man.txt\n",
      "sot4chaps/02 The Statement of the Case.txt\n",
      "sot4chaps/05 The Tragedy of Pondicherry Lodge.txt\n",
      "sot4chaps/06 Sherlock Holmes Gives a Demonstration.txt\n",
      "sot4chaps/08 The Baker Street Irregulars.txt\n",
      "sot4chaps/03 In Quest of a Solution.txt\n",
      "sot4chaps/11 The Great Agra Treasure.txt\n",
      "sot4chaps/10 The End of the Islander.txt\n",
      "sot4chaps/12 The Strange Story of Jonathan Small.txt\n"
     ]
    }
   ],
   "source": [
    "for file_path in Path(folder_path).glob('*.txt'):\n",
    "    print(file_path)"
   ]
  },
  {
   "cell_type": "markdown",
   "id": "78644b73",
   "metadata": {},
   "source": [
    "As you'll notice, the above list of files is not sorted, which is both aesthetically annoying and will also make it more difficult to interpret our results. (We can always sort things later using Microsoft Excel, etc., but we may as well do as much as we can right here in Python.)\n",
    "\n",
    "Thankfully, we can wrap the Python function `sorted()` around the `Path()` function, and it will open the files in an alphabetically sorted manner.\n",
    "\n",
    "### OK, but isn't this out of order?"
   ]
  },
  {
   "cell_type": "code",
   "execution_count": 97,
   "id": "491fe90f",
   "metadata": {},
   "outputs": [
    {
     "name": "stdout",
     "output_type": "stream",
     "text": [
      "sot4chaps/01 The Science of Deduction.txt\n",
      "sot4chaps/02 The Statement of the Case.txt\n",
      "sot4chaps/03 In Quest of a Solution.txt\n",
      "sot4chaps/04 The Story of the Bald-Headed Man.txt\n",
      "sot4chaps/05 The Tragedy of Pondicherry Lodge.txt\n",
      "sot4chaps/06 Sherlock Holmes Gives a Demonstration.txt\n",
      "sot4chaps/07 The Episode of the Barrel.txt\n",
      "sot4chaps/08 The Baker Street Irregulars.txt\n",
      "sot4chaps/09 A Break in the Chain.txt\n",
      "sot4chaps/10 The End of the Islander.txt\n",
      "sot4chaps/11 The Great Agra Treasure.txt\n",
      "sot4chaps/12 The Strange Story of Jonathan Small.txt\n"
     ]
    }
   ],
   "source": [
    "for file_path in sorted(Path(folder_path).glob('*.txt')):\n",
    "    print(file_path)"
   ]
  },
  {
   "cell_type": "markdown",
   "id": "db7fce68",
   "metadata": {},
   "source": [
    "Now, rather than just spewing out the file paths with the `print()` function... Let's actually **load** each of these files, and print out the first 100 characters of each, shall we?\n",
    "\n",
    "### Ah, there we go. Just to be sure if these are the right files..."
   ]
  },
  {
   "cell_type": "code",
   "execution_count": 98,
   "id": "3464cbaf",
   "metadata": {},
   "outputs": [
    {
     "name": "stdout",
     "output_type": "stream",
     "text": [
      "Chapter I The Science of Deduction\n",
      "\n",
      "\n",
      "Sherlock Holmes took his bottle from the corner of the mantel-p\n",
      "Chapter II The Statement of the Case\n",
      "\n",
      "\n",
      "Miss Morstan entered the room with a firm step and an outward\n",
      "Chapter III In Quest of a Solution\n",
      "\n",
      "\n",
      "It was half-past five before Holmes returned. He was bright, ea\n",
      "Chapter IV The Story of the Bald-Headed Man\n",
      "\n",
      "\n",
      "We followed the Indian down a sordid and common passag\n",
      "Chapter V The Tragedy of Pondicherry Lodge\n",
      "\n",
      "\n",
      "It was nearly eleven o’clock when we reached this final\n",
      "Chapter VI Sherlock Holmes Gives a Demonstration\n",
      "\n",
      "\n",
      "“Now, Watson,” said Holmes, rubbing his hands, “w\n",
      "Chapter VII The Episode of the Barrel\n",
      "\n",
      "\n",
      "The police had brought a cab with them, and in this I escort\n",
      "Chapter VIII The Baker Street Irregulars\n",
      "\n",
      "\n",
      "“What now?” I asked. “Toby has lost his character for inf\n",
      "Chapter IX A Break in the Chain\n",
      "\n",
      "\n",
      "It was late in the afternoon before I woke, strengthened and refre\n",
      "Chapter X The End of the Islander\n",
      "\n",
      "\n",
      "Our meal was a merry one. Holmes could talk exceedingly well whe\n",
      "Chapter XI The Great Agra Treasure\n",
      "\n",
      "\n",
      "Our captive sat in the cabin opposite to the iron box which he \n",
      "\n",
      "Chapter XII The Strange Story of Jonathan Small\n",
      "\n",
      "\n",
      "A very patient man was that inspector in the cab,\n"
     ]
    }
   ],
   "source": [
    "for file_path in sorted(Path(folder_path).glob('*.txt')):\n",
    "    text = open(file_path, encoding='utf-8').read()\n",
    "    print(text[:100])"
   ]
  },
  {
   "cell_type": "markdown",
   "id": "3696ce37",
   "metadata": {},
   "source": [
    "### Alright, now let's put it all together and calculate the TTRs for each chapter!"
   ]
  },
  {
   "cell_type": "code",
   "execution_count": 99,
   "id": "dbaa054d",
   "metadata": {},
   "outputs": [
    {
     "name": "stdout",
     "output_type": "stream",
     "text": [
      "'01 The Science of Deduction' has 1042 types, 2986 tokens, and a TTR of 34.89618218352311\n",
      "'02 The Statement of the Case' has 714 types, 1867 tokens, and a TTR of 38.24317086234601\n",
      "'03 In Quest of a Solution' has 730 types, 1769 tokens, and a TTR of 41.26625211984172\n",
      "'04 The Story of the Bald-Headed Man' has 1153 types, 3884 tokens, and a TTR of 29.685890834191554\n",
      "'05 The Tragedy of Pondicherry Lodge' has 849 types, 2669 tokens, and a TTR of 31.809666541775943\n",
      "'06 Sherlock Holmes Gives a Demonstration' has 964 types, 3191 tokens, and a TTR of 30.209965528047633\n",
      "'07 The Episode of the Barrel' has 1325 types, 4277 tokens, and a TTR of 30.979658639233108\n",
      "'08 The Baker Street Irregulars' has 1085 types, 3412 tokens, and a TTR of 31.79953106682298\n",
      "'09 A Break in the Chain' has 1009 types, 3686 tokens, and a TTR of 27.373846988605532\n",
      "'10 The End of the Islander' has 1034 types, 3399 tokens, and a TTR of 30.42071197411003\n",
      "'11 The Great Agra Treasure' has 722 types, 2219 tokens, and a TTR of 32.53717890941866\n",
      "'12 The Strange Story of Jonathan Small' has 1965 types, 10445 tokens, and a TTR of 18.81282910483485\n"
     ]
    }
   ],
   "source": [
    "import re\n",
    "from pathlib import Path\n",
    "\n",
    "folder_path = \"sot4chaps\"\n",
    "\n",
    "for file_path in sorted(Path(folder_path).glob('*.txt')):\n",
    "    \n",
    "    text = open(file_path, encoding='utf-8').read()\n",
    "    text = re.sub(\"[^a-zA-Z0-9]\", \" \", text)\n",
    "    \n",
    "    text_words = text.split()\n",
    "    tokens = len(text_words)\n",
    "    \n",
    "    unique_words = []\n",
    "    \n",
    "    for word in text_words:\n",
    "        word = word.lower()\n",
    "        if word not in unique_words:\n",
    "            unique_words.append(word)\n",
    "            \n",
    "    types = len(unique_words)\n",
    "    \n",
    "    ttr = (types / tokens) * 100\n",
    "    \n",
    "    print(f\"'{file_path.stem}' has {types} types, {tokens} tokens, and a TTR of {ttr}\")"
   ]
  },
  {
   "cell_type": "markdown",
   "id": "33bd8971",
   "metadata": {},
   "source": [
    "# 3. Automatically Determining Sample Size and Producing Standardized Results\n",
    "\n",
    "So we're done, right??\n",
    "\n",
    "### **NO!**\n",
    "\n",
    "Why not? What do we still need to be able to do?\n",
    "\n",
    "That's right: calculate *standardized* TTRs!\n",
    "\n",
    "To be specific, we still need to figure out\n",
    "* How to automatically determine our sample size (i.e., the total length of the shortest text)\n",
    "* And then how to calculate TTRs for that sample."
   ]
  },
  {
   "cell_type": "markdown",
   "id": "e113b2cf",
   "metadata": {},
   "source": [
    "## Calculating the Total Length of the Shortest Item in a List\n",
    "\n",
    "Before we do this with full-length texts, let's try with a small-scale experiment.\n",
    "\n",
    "Let's say create a list with a bunch of strings in it. How could we automatically determine the total length of the shortest of these strings?"
   ]
  },
  {
   "cell_type": "code",
   "execution_count": 100,
   "id": "2147b9da",
   "metadata": {},
   "outputs": [
    {
     "name": "stdout",
     "output_type": "stream",
     "text": [
      "Length of smallest string:  4\n"
     ]
    }
   ],
   "source": [
    "bunch_o_strings = [\"Adam\", \"Marta\", \"Rosie\", \"Jazz\", \"Adamillo\", \"Anna\", \"Stephen\", \"Richard\", \"Ernest\"]\n",
    "length_of_shortest_string = 0\n",
    "\n",
    "length_of_strings = []\n",
    "for string in bunch_o_strings:\n",
    "    string_length = len(string)\n",
    "    if string_length < length_of_shortest_string or length_of_shortest_string == 0:\n",
    "        length_of_shortest_string = string_length\n",
    "    \n",
    "print(\"Length of smallest string: \", length_of_shortest_string)"
   ]
  },
  {
   "cell_type": "markdown",
   "id": "426d2e6b",
   "metadata": {},
   "source": [
    "## Creating Standardized Sample Sizes\n",
    "\n",
    "### First, let's try \"standardizing\" our toy example. What does the comment line do?"
   ]
  },
  {
   "cell_type": "code",
   "execution_count": 101,
   "id": "e2c7e6b1",
   "metadata": {},
   "outputs": [
    {
     "name": "stdout",
     "output_type": "stream",
     "text": [
      "Adam\n",
      "Mart\n",
      "Rosi\n",
      "Jazz\n",
      "Adam\n",
      "Anna\n",
      "Step\n",
      "Rich\n",
      "Erne\n"
     ]
    }
   ],
   "source": [
    "for string in bunch_o_strings:\n",
    "    string_standardized = string[:length_of_shortest_string] # What's happening here?\n",
    "    print(string_standardized)"
   ]
  },
  {
   "cell_type": "markdown",
   "id": "bb8afffe",
   "metadata": {},
   "source": [
    "That's right: our old friend **slicing** comes to our rescure here. Remember that the syntax for slicing is `[start:stop:step]`. If we only want the first four character of a string, we write `string[:4]`. Since we won't know our sample size until we load all the files in a folder, we don't want to hard-code a number in there. So we can use a variable name instead.\n",
    "\n",
    "Now, we're going to be standardizing a sample of `lists` (texts broken up into words) rather than `strings`... but as we know, slicing lists and strings works exactly the same way. If we want the first for items of a list, we would also use `list[:4]`..."
   ]
  },
  {
   "cell_type": "markdown",
   "id": "ebf2d1d4",
   "metadata": {},
   "source": [
    "## We now have ALMOST all the skills we need to quickly and accurately calculate TTRs for any number of plain text files stored together in a folder\n",
    "\n",
    "We already know how to:\n",
    "* Automatically load files in a folder, one-by-one, as strings\n",
    "* Remove punctuation, split them into words, and calculate their total number of words (tokens)\n",
    "* Record the number of unique words (types) with a for loop that also lowercases all words\n",
    "* Automatically standardize the sample size, looking only at the first x words in each text, where x is the total length of the shortest text\n",
    "\n",
    "The only things we still don't know how to do are:\n",
    "* Output the results of our analysis of the total texts (non-standardized results)\n",
    "* Output the standardized results"
   ]
  },
  {
   "cell_type": "markdown",
   "id": "8e20a3ff",
   "metadata": {},
   "source": [
    "Below I've written out the code that does all the things we've learned so far. It doesn't store the results anywhere yet, but it does calculate them and print them out.\n",
    "\n",
    "This first cell records information for overall, non-standardized values and also determines our sample size (the total length of the shortest text). \n",
    "\n",
    "### Let's try and figure out how we can use what we learned above to calculate the TTR\n",
    "### Who can tell me what these new lines are doing? Talk to the person next to you"
   ]
  },
  {
   "cell_type": "code",
   "execution_count": null,
   "id": "7474fb41",
   "metadata": {
    "scrolled": true
   },
   "outputs": [],
   "source": [
    "import re\n",
    "from pathlib import Path\n",
    "\n",
    "folder_path = \"sot4chaps\"\n",
    "\n",
    "sample_size = 0  # Note this line and figure out what it's doing!\n",
    "\n",
    "for file_path in sorted(Path(folder_path).glob('*.txt')):\n",
    "    \n",
    "    text = open(file_path, encoding='utf-8').read()\n",
    "    text = re.sub(\"[^a-zA-Z0-9]\", \" \", text)\n",
    "    \n",
    "    text_words = text.split()\n",
    "    tokens = len(text_words)\n",
    "    \n",
    "    if sample_size == 0 or tokens < sample_size: # The line I noted above connects to this one and the next\n",
    "        sample_size = tokens\n",
    "    \n",
    "    unique_words = []\n",
    "    \n",
    "    for word in text_words:\n",
    "        word = word.lower()\n",
    "        if word not in unique_words:\n",
    "            unique_words.append(word)\n",
    "            \n",
    "    types = len(unique_words)\n",
    "    \n",
    "    ttr = (types / tokens) * 100\n",
    "    \n",
    "    print(f\"'{file_path.stem}' has {types} types, {tokens} tokens, and a TTR of {ttr}\")\n",
    "    print(f\"So far, the shortest text is {sample_size} words in length.\\n\")"
   ]
  },
  {
   "cell_type": "markdown",
   "id": "89f873eb",
   "metadata": {},
   "source": [
    "The cell below uses the sample size determined in the previous step (1769 words; stored in the `sample_size` variable) to calculate the standardized TTR for the first 1769 words of each text."
   ]
  },
  {
   "cell_type": "code",
   "execution_count": null,
   "id": "6fccb85d",
   "metadata": {},
   "outputs": [],
   "source": [
    "for file_path in sorted(Path(folder_path).glob('*.txt')):\n",
    "    text = open(file_path, encoding='utf-8').read()\n",
    "    text = re.sub(\"[^a-zA-Z0-9]\", \" \", text)\n",
    "    \n",
    "    text_words = text.split()\n",
    "    text_words_standardized = text_words[:sample_size] # This is the key new line in this block of code. Figure out what it does! Where did we define the variable sample_size?\n",
    "    tokens_standardized = len(text_words_standardized)\n",
    "\n",
    "    unique_words_standardized = []\n",
    "    \n",
    "    for word in text_words_standardized:\n",
    "        word = word.lower()\n",
    "        if word not in unique_words_standardized:\n",
    "            unique_words_standardized.append(word)\n",
    "            \n",
    "    types_standardized = len(unique_words_standardized)\n",
    "    \n",
    "    ttr_standardized = (types_standardized / tokens_standardized) * 100\n",
    "    \n",
    "    print(f\"'{file_path.stem}' has {types_standardized} types in the standardized sample of {tokens_standardized} tokens, and a TTR of {ttr_standardized}.\\n\")"
   ]
  },
  {
   "cell_type": "markdown",
   "id": "16015122",
   "metadata": {},
   "source": [
    "# 4. Writing CSV files\n",
    "\n",
    "Okay — that's a lot to read through and think about. But let's just get this beast of a TTR task finished by taking the final step: doing all this but also storing the results in a file.\n",
    "\n",
    "We'll do this with the `open()` function, the `open.write()` method, and the CSV file format.\n",
    "\n",
    "## What is a CSV?\n",
    "\n",
    "A CSV is a very simple file format for spreadsheets. The name stands for \"Comma Separated Values\" — and that's really all it is: a plain text file in which values (whatever would go into a cell in a spreadsheet) are separated by commas! The end of a row in a CSV file is signalled by the newline character `\\n`. Text cells should be wrapped in quotation marks (`\"\"`) just like strings in Python. Other than that, no tricks!\n",
    "\n",
    "A pretty table like the following:\n",
    "\n",
    "| Types | Tokens                                                                                  |\n",
    "|:-------------:|:---------------------------------------------------------------------------------------------------:|\n",
    "| 12         | 24                                                                             |\n",
    "| 33         | 100                                              |\n",
    "| 75 | 500\n",
    "\n",
    "Would be expressed in a CSV file as:\n",
    "\n",
    "```\n",
    "\"Types\",\"Tokens\"\n",
    "12,24\n",
    "33,100\n",
    "75,500\n",
    "```\n",
    "\n",
    "... and a spreadhseet program like Excel would see that and know exactly what to do with it.\n",
    "\n",
    "(By the way, when Quercus gives your final grades at the end of the year to be uploaded to the eMarks system... it will be in the form of a CSV file!)"
   ]
  },
  {
   "cell_type": "markdown",
   "id": "9f1f9edc",
   "metadata": {},
   "source": [
    "## Writing files with `open.write()`\n",
    "\n",
    "We already know how to **load** a file into Python and stick it into a variable. We do it like this, with the `open()` function and the `.read()` method.\n",
    "\n",
    "### First, let's save the sign of four to a variable"
   ]
  },
  {
   "cell_type": "code",
   "execution_count": null,
   "id": "2b2b9f3e",
   "metadata": {},
   "outputs": [],
   "source": [
    "sot4 = open(\"sign-of-four.txt\", encoding=\"utf-8\").read()"
   ]
  },
  {
   "cell_type": "markdown",
   "id": "71652732",
   "metadata": {},
   "source": [
    "Now, this might not be the most intutive thing in the world... but actually **writing** or **creating** a file in Python happens pretty much the same way. \n",
    "* First, you **`open()`** a file. Because it's not a file that already exists — it's one you're creating out of nothing — you need to set the *argument* `mode` to `\"w\"` (write) rather than the default `\"r\"` (read).\n",
    "* Then you use the `.write()` method to write something into that file.\n",
    "\n",
    "### Next, let's write to a new text file"
   ]
  },
  {
   "cell_type": "code",
   "execution_count": 102,
   "id": "da292500",
   "metadata": {},
   "outputs": [
    {
     "data": {
      "text/plain": [
       "43"
      ]
     },
     "execution_count": 102,
     "metadata": {},
     "output_type": "execute_result"
    }
   ],
   "source": [
    "open(\"my-new-file.txt\", mode=\"w\", encoding=\"utf-8\").write(\"Hey, look at this, I made a file in Python!\")"
   ]
  },
  {
   "cell_type": "markdown",
   "id": "4b090610",
   "metadata": {},
   "source": [
    "We can read this back in to make sure it actually worked..."
   ]
  },
  {
   "cell_type": "code",
   "execution_count": 103,
   "id": "a509a54b",
   "metadata": {},
   "outputs": [
    {
     "data": {
      "text/plain": [
       "'Hey, look at this, I made a file in Python!'"
      ]
     },
     "execution_count": 103,
     "metadata": {},
     "output_type": "execute_result"
    }
   ],
   "source": [
    "open(\"my-new-file.txt\", mode=\"r\", encoding=\"utf-8\").read()"
   ]
  },
  {
   "cell_type": "markdown",
   "id": "a01c73d0",
   "metadata": {},
   "source": [
    "That's all you need if you want to create your new file in one shot. But we want to build ours up slowly, text by text, as we iterate through our folder of text files. \n",
    "\n",
    "For that, we'll use the following format.\n",
    "\n",
    "1. First, we `open()` a file and assign that \"file object\" to a variable called `file`.\n",
    "2. We then write whatever we want into that `file` varable, applying the `.write()` method. We can do this as many times as we like.\n",
    "3. Then we \"close\" our file using the `.close()` method.\n",
    "\n",
    "### All together now..."
   ]
  },
  {
   "cell_type": "code",
   "execution_count": 104,
   "id": "ee1fc233",
   "metadata": {},
   "outputs": [],
   "source": [
    "file = open(\"another-new-file.txt\", mode=\"w\", encoding=\"utf-8\")\n",
    "\n",
    "file.write(\"Here's some text\\n\")\n",
    "file.write(\"Here's some more!\\n\")\n",
    "file.write(\"And that's all I want to write for now!\")\n",
    "\n",
    "file.close()"
   ]
  },
  {
   "cell_type": "code",
   "execution_count": 105,
   "id": "8e19d9dd",
   "metadata": {},
   "outputs": [
    {
     "name": "stdout",
     "output_type": "stream",
     "text": [
      "Here's some text\n",
      "Here's some more!\n",
      "And that's all I want to write for now!\n"
     ]
    }
   ],
   "source": [
    "print(open(\"another-new-file.txt\", mode=\"r\", encoding=\"utf-8\").read())"
   ]
  },
  {
   "cell_type": "markdown",
   "id": "7cbc67e8",
   "metadata": {},
   "source": [
    "Thankfully, this all works exactly the same way for a CSV file. Except... we put in commas between values and wrap text in `\"\"`s"
   ]
  },
  {
   "cell_type": "code",
   "execution_count": null,
   "id": "19669346",
   "metadata": {},
   "outputs": [],
   "source": [
    "file = open(\"babys-first-spreadsheet.csv\", mode=\"w\", encoding=\"utf-8\")\n",
    "\n",
    "file.write('\"Types\",\"Tokens\"\\n') # Note that if you want to write double quotes, you have to wrap them in single quotes, or Python will get confused.\n",
    "file.write(\"12,24\\n\")\n",
    "file.write(\"33,100\\n\")\n",
    "file.write(\"75,500\")\n",
    "\n",
    "file.close()"
   ]
  },
  {
   "cell_type": "markdown",
   "id": "9acd76fa",
   "metadata": {},
   "source": [
    "Now that we know how to write CSV files, we are well and truly finished with the TTR task (well... as much as anything is every finished! I can imagine a few ways to improve it, still. Can you??)\n",
    "\n",
    "Here is the whole process, in a single cell. The major part of your Lab this week is to comment this big block of code, line by line.\n",
    "\n",
    "### And here's the final TTR code!"
   ]
  },
  {
   "cell_type": "code",
   "execution_count": null,
   "id": "c9c9b926",
   "metadata": {},
   "outputs": [],
   "source": [
    "import re\n",
    "from pathlib import Path\n",
    "\n",
    "folder_path = \"sot4chaps\"\n",
    "\n",
    "sample_size = 0\n",
    "\n",
    "file = open(\"ttr-overall.csv\", mode=\"w\", encoding=\"utf-8\")\n",
    "\n",
    "file.write('\"Text\",\"Types\",\"Tokens\",\"TTR\"\\n')\n",
    "\n",
    "for file_path in sorted(Path(folder_path).glob('*.txt')):\n",
    "    \n",
    "    text = open(file_path, encoding='utf-8').read()\n",
    "    text = re.sub(\"[^a-zA-Z0-9]\", \" \", text)\n",
    "    \n",
    "    text_words = text.split()\n",
    "    tokens = len(text_words)\n",
    "    \n",
    "    if sample_size == 0 or tokens < sample_size:\n",
    "        sample_size = tokens\n",
    "    \n",
    "    unique_words = []\n",
    "    \n",
    "    for word in text_words:\n",
    "        word = word.lower()\n",
    "        if word not in unique_words:\n",
    "            unique_words.append(word)\n",
    "            \n",
    "    types = len(unique_words)\n",
    "    \n",
    "    ttr = (types / tokens) * 100\n",
    "    \n",
    "    file.write(f'\"{file_path.stem}\",{types},{tokens},{ttr}\\n')\n",
    "\n",
    "file.close()\n",
    "\n",
    "\n",
    "\n",
    "file = open(\"ttr-standardized.csv\", mode=\"w\", encoding=\"utf-8\")\n",
    "\n",
    "file.write('\"Text\",\"Types\",\"Tokens\",\"TTR\"\\n')\n",
    "\n",
    "for file_path in sorted(Path(folder_path).glob('*.txt')):\n",
    "    text = open(file_path, encoding='utf-8').read()\n",
    "    text = re.sub(\"[^a-zA-Z0-9]\", \" \", text)\n",
    "    \n",
    "    text_words = text.split()\n",
    "    text_words_standardized = text_words[:sample_size]\n",
    "    tokens_standardized = len(text_words_standardized)\n",
    "\n",
    "    unique_words_standardized = []\n",
    "    \n",
    "    for word in text_words_standardized:\n",
    "        word = word.lower()\n",
    "        if word not in unique_words_standardized:\n",
    "            unique_words_standardized.append(word)\n",
    "            \n",
    "    types_standardized = len(unique_words_standardized)\n",
    "    \n",
    "    ttr_standardized = (types_standardized / tokens_standardized) * 100\n",
    "    \n",
    "    file.write(f'\"{file_path.stem}\",{types_standardized},{tokens_standardized},{ttr_standardized}\\n')\n",
    "\n",
    "file.close()"
   ]
  }
 ],
 "metadata": {
  "kernelspec": {
   "display_name": "Python 3 (ipykernel)",
   "language": "python",
   "name": "python3"
  },
  "language_info": {
   "codemirror_mode": {
    "name": "ipython",
    "version": 3
   },
   "file_extension": ".py",
   "mimetype": "text/x-python",
   "name": "python",
   "nbconvert_exporter": "python",
   "pygments_lexer": "ipython3",
   "version": "3.9.16"
  }
 },
 "nbformat": 4,
 "nbformat_minor": 5
}
