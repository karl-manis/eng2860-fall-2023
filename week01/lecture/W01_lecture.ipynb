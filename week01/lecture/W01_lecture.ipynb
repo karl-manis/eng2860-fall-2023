{
 "cells": [
  {
   "cell_type": "markdown",
   "id": "6499ba20",
   "metadata": {},
   "source": [
    "# Week 1: What Is Data Science? What is \"Literature and Data\"? How About Jupyter Notebooks, Markdown, Python Code, and Jupyter Hub?\n",
    "\n",
    "## Lecture Overview\n",
    "\n",
    "### Part 1: Who Is the Most \"Objective\" Character in *The Sign of the Four*?\n",
    "\n",
    "In the first part of the lecture, delivered by Karl Hanis (using PowerPoint slides available on Quercus), we discuss the above question, imagining how we might reach an answer using \"analogue\" and \"digital\" tools. Our discussion revolves around three assigned texts:\n",
    "* Arthur Conan Doyle, *The Sign of the Four*\n",
    "* Kathryn Schulz, “What is Distant Reading?”\n",
    "* Catherine D'Ignazio and Lauren Klein, “Why Data Science Needs Feminism”\n",
    "\n",
    "### Part 2: A Gentle Introduction to JupyterHub, Jupyter Notebooks, Markdown, and Python Code\n",
    "\n",
    "The second part (below) offers a very gentle introduction to:\n",
    "\n",
    "* **Jupyter Notebooks**. Most lectures will be delivered in the same format/medium in which you will be doing your own work. Unlike slides, they contain \"live code\" that you can run. There are two main types of \"cells\" in Jupyter Notebooks: \"markdown\" cells and \"code\" cells. (AH) \n",
    "* **Markdown**. The difference between Markdown and code cells in Jupyter Notebooks. Introduce some basics like headers, italics, bolding, lists, links. \n",
    "* **Code**. What is Python? What is the point of knowing Python? We'll do some very simple operations like addition, subtraction, multiplication, and division. We'll introduce two data types: integers and strings. We'll demonstrate polymorphism, showing that some of the same operators can be text and to numbers, though not all, and not in the same way. \n",
    "* **JupyterHub**: Where is our course work? Where does it live? is it \"in the cloud\"? Why are we accessing it in a browser rather than as a dedicated \"app\" or \"program\"?\n",
    "\n",
    "### Part 3: A Look at the Syllabus; All About Tutorials, Labs, Homework, and MarkUs\n",
    "* Overview of syllabus (KH)\n",
    "* Tutorials, Labs, and Homework (DC)\n",
    "* MarkUs: How to access and and submit your weekly labs (there is no homework this week; we'll discuss it next time) (DC)\n",
    "\n",
    "### Helpful Links \n",
    "\n",
    "Most weeks, we will be including links to Melanie Walsh's terrific textbook, [Introduction to Cultural Analytics & Python](https://melaniewalsh.github.io/Intro-Cultural-Analytics/welcome.html). It's not suuuuper helpful this week, since JupyterHub is a U of T thing and Walsh expects her readers to be accessing notebooks in a slightly different way. But you might still want to have a look at [the introductory page to the material on Python](https://melaniewalsh.github.io/Intro-Cultural-Analytics/02-Python/00-Python.html)\n",
    "\n",
    "We will be referring to Adam Pritchard's [Markdown Cheatsheet](https://github.com/adam-p/markdown-here/wiki/Markdown-Cheatsheet)\n",
    "\n",
    "---"
   ]
  },
  {
   "cell_type": "markdown",
   "id": "c99b29e4",
   "metadata": {},
   "source": [
    "# 2. A Gentle Introduction to Jupyter Notebooks, Markdown, Python Code, and JupyterHub"
   ]
  },
  {
   "cell_type": "markdown",
   "id": "a9b329a1",
   "metadata": {},
   "source": [
    "## 2a. What is a Jupyter Notebook?\n",
    "\n",
    "Well... **this** is a Jupyter Notebook.\n",
    "\n",
    "Think of it as like a Microsoft Word file or a Google Doc that can do some things that neither of those can.\n",
    "* Like a Word file or a Google Doc, you can write text into a Jupyter notebook, and format it with things like *italics*, **bolding**, etc. \n",
    "* Unlike a Word file or a Google Doc, you can **DO PROGRAMMING** in a Jupyter Notebook. Which is why we're using them!\n",
    "\n",
    "Just as essays and novels are broken into *paragraphs*, The basic unit of a Jupyter Notebook is a *\"cell\"* (not to be confused with a jail cell). \n",
    "\n",
    "You can create a new cell by clicking the plus `+` sign in the toolbar or by pressing `Option` + `Return` (Mac) / `Alt` `Return` (Windows).\n",
    "\n",
    "\n",
    "These can be of two types (that we will use, anyway): **Markdown cells** and **Code cells**. You can switch between types by accessing the \"Cell\" --> \"Cell Type\" menu, as below:\n",
    "\n",
    "![Screenshot of the Jupyter Notebook Cell menu](cellmenu.png \"Jupyter Notebook cell menu\")\n",
    "\n"
   ]
  },
  {
   "cell_type": "markdown",
   "id": "11a5746a",
   "metadata": {},
   "source": [
    "## 2b. Markdown and Markdown Cells\n",
    "\n",
    "Markdown is a \"language\" that allows you to format text: to bold it, italicize it, turn it into a link, make it look like a header, organize it into a list, etc. Here are some common ones:\n",
    "\n",
    "`Make text *italicized*`: Make text *italized* \n",
    "\n",
    "`Make text **bold**`: Make text **bold**\n",
    "\n",
    "`Make text a link to [my favourite website](https://www.dashielcarrera.com)`: Make text a link to [my favourite website](http://www.dashielcarrera.com)\n",
    "\n",
    "``Make text `code` ``: Make text `code`\n",
    "\n",
    "See lots more fun Markdown stuff at Adam Pritchard's [Markdown Cheatsheet](https://github.com/adam-p/markdown-here/wiki/Markdown-Cheatsheet)"
   ]
  },
  {
   "cell_type": "markdown",
   "id": "3d1416d1",
   "metadata": {},
   "source": [
    "## I've reserved the space below for playing around with markdown: \n",
    "\n",
    "Play play play\n"
   ]
  },
  {
   "cell_type": "markdown",
   "id": "883070e7",
   "metadata": {},
   "source": [
    "## \"Running\" Cells\n",
    "\n",
    "Cells in Jupyter notebooks have two \"states\": the \"coding\" state and the \"output\" state. \n",
    "\n",
    "In a Markdown cell, the \"coding\" state is where you put in all your fancy backticks and asteriks and hashes — and the \"output\" state is where all of that coding gets **intepreted** and brought to life.\n",
    "\n",
    "To \"run\" a Markdown cell, you can either click the play button ▶️ on the toolbar above or by type `Shift` + `Return`.\n",
    "\n",
    "Once a Markdown cell has been \"run,\" if you want to return to the \"coding\" state to edit your Markdown code, you can just double click on the cell in question."
   ]
  },
  {
   "cell_type": "markdown",
   "id": "edf29007",
   "metadata": {},
   "source": [
    "# Selecting Cells\n",
    "\n",
    "This is probably as good a time as any to note that cells can \"selected\" in one of two ways. If you see a *green* outline around the cell you're currently in, that means you're **in the cell**, editing it. If you then click in the left margin of that cell, the outline will turn *blue*, and you've now **selected the cell**, and can do meta-cell things, like turning it from a Markdown to a Code cell."
   ]
  },
  {
   "cell_type": "markdown",
   "id": "257b33d2",
   "metadata": {},
   "source": [
    "## 2c. What is a Code Cell? What is Python?\n",
    "\n",
    "Python is another \"language\": a general-purpose programming language.\n",
    "\n",
    "There are lots of programming languages out there, but we decided on Python because it's widely used, it's the one you're most likely to use in the workplace, it's known to be relatively easy to learn, ... and it's also the most aesthetically pleasing one, for English Lit people anyway.\n",
    "\n",
    "Code cells in a Jupyter Notebook expect Python code. Indeed, in this configuration, it's the only kind of code that will be understood and interpreted. The way we have your Jupyter Notebooks set up, they \"only speak Python,\" so to speak. \n",
    "\n",
    "Over the course of this year, we'll be learning to \"speak Python.\" But let's start with the basics: the \"hello,\" \"goodbye,\" \"one beer, please,\" of the language...\n",
    "\n",
    "For instance, the below is perfectly valid code. The Python interpreter will understand it, consider it, and give you an answer:"
   ]
  },
  {
   "cell_type": "code",
   "execution_count": 18,
   "id": "f55303a7",
   "metadata": {
    "scrolled": true
   },
   "outputs": [
    {
     "data": {
      "text/plain": [
       "52"
      ]
     },
     "execution_count": 18,
     "metadata": {},
     "output_type": "execute_result"
    }
   ],
   "source": [
    "2 + 50\n"
   ]
  },
  {
   "cell_type": "markdown",
   "id": "756ea6ab",
   "metadata": {},
   "source": [
    "Note that with Code Cells, the \"coding state\" isn't *replaced* with an \"output state,\" as with Markdown cells. With coding cells, you see both the code (in a grey box, with the word `In` and a number next to it) and the results (no box, with `Out` and a matching number). You **run** a Code Cell the same was as a Markdown cell, by hitting the play button on by pressing `Shift`-`Return`.\n",
    "\n",
    "Anyway, so, Python understands all the basic mathematical operations: addition (with a `+`), subtraction (`-`), multiplication (`*`), and dividion (`/`)."
   ]
  },
  {
   "cell_type": "code",
   "execution_count": 37,
   "id": "26b60909",
   "metadata": {},
   "outputs": [
    {
     "data": {
      "text/plain": [
       "-8"
      ]
     },
     "execution_count": 37,
     "metadata": {},
     "output_type": "execute_result"
    }
   ],
   "source": [
    "2 - 10"
   ]
  },
  {
   "cell_type": "code",
   "execution_count": 38,
   "id": "0f23f03b",
   "metadata": {},
   "outputs": [
    {
     "data": {
      "text/plain": [
       "6"
      ]
     },
     "execution_count": 38,
     "metadata": {},
     "output_type": "execute_result"
    }
   ],
   "source": [
    "2 * 3"
   ]
  },
  {
   "cell_type": "code",
   "execution_count": 39,
   "id": "88735724",
   "metadata": {},
   "outputs": [
    {
     "data": {
      "text/plain": [
       "0.6666666666666666"
      ]
     },
     "execution_count": 39,
     "metadata": {},
     "output_type": "execute_result"
    }
   ],
   "source": [
    "2 / 3"
   ]
  },
  {
   "cell_type": "markdown",
   "id": "b8628e38",
   "metadata": {},
   "source": [
    "Note that it will also understand this rather simpler command"
   ]
  },
  {
   "cell_type": "code",
   "execution_count": 40,
   "id": "1413ab44",
   "metadata": {},
   "outputs": [
    {
     "data": {
      "text/plain": [
       "2"
      ]
     },
     "execution_count": 40,
     "metadata": {},
     "output_type": "execute_result"
    }
   ],
   "source": [
    "2"
   ]
  },
  {
   "cell_type": "markdown",
   "id": "32034415",
   "metadata": {},
   "source": [
    "Now, as English students, you're probably all more interested in *words* than *numbers*, right? Well, thankfully, Python is also capable of understanding and doing things with words. On the condition, that is, that we put these words `\"into quotation marks\"`, so that Python understands they're words, not some other kind of code."
   ]
  },
  {
   "cell_type": "code",
   "execution_count": 41,
   "id": "7c45695d",
   "metadata": {},
   "outputs": [
    {
     "ename": "NameError",
     "evalue": "name 'two' is not defined",
     "output_type": "error",
     "traceback": [
      "\u001b[0;31m---------------------------------------------------------------------------\u001b[0m",
      "\u001b[0;31mNameError\u001b[0m                                 Traceback (most recent call last)",
      "\u001b[0;32m/var/folders/q4/fgv9gm6x4_xdqqr6k38q07fm0000gq/T/ipykernel_52226/2046099594.py\u001b[0m in \u001b[0;36m<module>\u001b[0;34m\u001b[0m\n\u001b[0;32m----> 1\u001b[0;31m \u001b[0mtwo\u001b[0m\u001b[0;34m\u001b[0m\u001b[0;34m\u001b[0m\u001b[0m\n\u001b[0m",
      "\u001b[0;31mNameError\u001b[0m: name 'two' is not defined"
     ]
    }
   ],
   "source": [
    "two"
   ]
  },
  {
   "cell_type": "code",
   "execution_count": 25,
   "id": "4aea3fec",
   "metadata": {},
   "outputs": [
    {
     "data": {
      "text/plain": [
       "'two'"
      ]
     },
     "execution_count": 25,
     "metadata": {},
     "output_type": "execute_result"
    }
   ],
   "source": [
    "\"two\""
   ]
  },
  {
   "cell_type": "markdown",
   "id": "fe662655",
   "metadata": {},
   "source": [
    "Amusingly, due to something called \"polymorphism,\" many of the mathematical operations we've just met also produce results when applied to `\"words\"` — though what they do to words is different from what they do to numbers... more like metaphorical addition than actual addition. \n",
    "\n",
    "Let's work throught the following examples and try to figure out what they tell us about Python, how it thinks, and how it deal with numbers and words..."
   ]
  },
  {
   "cell_type": "code",
   "execution_count": 48,
   "id": "438e5b4b",
   "metadata": {},
   "outputs": [
    {
     "data": {
      "text/plain": [
       "'twothree'"
      ]
     },
     "execution_count": 48,
     "metadata": {},
     "output_type": "execute_result"
    }
   ],
   "source": [
    "\"two\" + \"three\""
   ]
  },
  {
   "cell_type": "code",
   "execution_count": 55,
   "id": "d8abcdcb",
   "metadata": {},
   "outputs": [
    {
     "ename": "TypeError",
     "evalue": "unsupported operand type(s) for -: 'str' and 'str'",
     "output_type": "error",
     "traceback": [
      "\u001b[0;31m---------------------------------------------------------------------------\u001b[0m",
      "\u001b[0;31mTypeError\u001b[0m                                 Traceback (most recent call last)",
      "\u001b[0;32m/var/folders/q4/fgv9gm6x4_xdqqr6k38q07fm0000gq/T/ipykernel_52226/3286342565.py\u001b[0m in \u001b[0;36m<module>\u001b[0;34m\u001b[0m\n\u001b[0;32m----> 1\u001b[0;31m \u001b[0;34m\"two\"\u001b[0m \u001b[0;34m-\u001b[0m \u001b[0;34m\"three\"\u001b[0m\u001b[0;34m\u001b[0m\u001b[0;34m\u001b[0m\u001b[0m\n\u001b[0m",
      "\u001b[0;31mTypeError\u001b[0m: unsupported operand type(s) for -: 'str' and 'str'"
     ]
    }
   ],
   "source": [
    "\"two\" - \"three\""
   ]
  },
  {
   "cell_type": "markdown",
   "id": "e5cd5c76",
   "metadata": {},
   "source": [
    "Now, why does the first one not work, but the second one does?"
   ]
  },
  {
   "cell_type": "code",
   "execution_count": 56,
   "id": "b34e97b7",
   "metadata": {},
   "outputs": [
    {
     "ename": "TypeError",
     "evalue": "can't multiply sequence by non-int of type 'str'",
     "output_type": "error",
     "traceback": [
      "\u001b[0;31m---------------------------------------------------------------------------\u001b[0m",
      "\u001b[0;31mTypeError\u001b[0m                                 Traceback (most recent call last)",
      "\u001b[0;32m/var/folders/q4/fgv9gm6x4_xdqqr6k38q07fm0000gq/T/ipykernel_52226/4181693723.py\u001b[0m in \u001b[0;36m<module>\u001b[0;34m\u001b[0m\n\u001b[0;32m----> 1\u001b[0;31m \u001b[0;34m\"two\"\u001b[0m \u001b[0;34m*\u001b[0m \u001b[0;34m\"three\"\u001b[0m\u001b[0;34m\u001b[0m\u001b[0;34m\u001b[0m\u001b[0m\n\u001b[0m",
      "\u001b[0;31mTypeError\u001b[0m: can't multiply sequence by non-int of type 'str'"
     ]
    }
   ],
   "source": [
    "\"two\" * \"three\""
   ]
  },
  {
   "cell_type": "code",
   "execution_count": 57,
   "id": "2620b944",
   "metadata": {},
   "outputs": [
    {
     "data": {
      "text/plain": [
       "'twotwotwo'"
      ]
     },
     "execution_count": 57,
     "metadata": {},
     "output_type": "execute_result"
    }
   ],
   "source": [
    "\"two\" * 3"
   ]
  },
  {
   "cell_type": "code",
   "execution_count": 59,
   "id": "11c1d8af",
   "metadata": {},
   "outputs": [
    {
     "data": {
      "text/plain": [
       "'My name is DashMy name is DashMy name is Dash'"
      ]
     },
     "execution_count": 59,
     "metadata": {},
     "output_type": "execute_result"
    }
   ],
   "source": [
    "\"My name is Dash\" * 3"
   ]
  },
  {
   "cell_type": "markdown",
   "id": "2924b6e2",
   "metadata": {},
   "source": [
    "# 2d. What is JupyterHub?"
   ]
  },
  {
   "cell_type": "markdown",
   "id": "bda770ba",
   "metadata": {},
   "source": [
    "The **University of Toronto JupyterHub** is a website that hosts and runs Jupyter notebooks.\n",
    "\n",
    "Top five things to know:\n",
    "\n",
    "1. URL: <https://jupyter.utoronto.ca>. To login you'll need your University email, and then UTORid and password.\n",
    "2. Since files are stored and run \"in the cloud\", you can **access your work from any computer with an Internet connection**, and **without installing any software**!\n",
    "3. Every week, we'll post links on the course syllabus that **automatically open notebook files on JupyterHub** to complete your work on JupyterHub.\n",
    "4. But, you'll still need to **download each notebook to submit to MarkUs**."
   ]
  }
 ],
 "metadata": {
  "kernelspec": {
   "display_name": "Python 3 (ipykernel)",
   "language": "python",
   "name": "python3"
  },
  "language_info": {
   "codemirror_mode": {
    "name": "ipython",
    "version": 3
   },
   "file_extension": ".py",
   "mimetype": "text/x-python",
   "name": "python",
   "nbconvert_exporter": "python",
   "pygments_lexer": "ipython3",
   "version": "3.9.16"
  },
  "vscode": {
   "interpreter": {
    "hash": "901b79e026e03396fd1ffa7133844e9ea80e258ce34c66e1aabb5896bcb18463"
   }
  }
 },
 "nbformat": 4,
 "nbformat_minor": 5
}
