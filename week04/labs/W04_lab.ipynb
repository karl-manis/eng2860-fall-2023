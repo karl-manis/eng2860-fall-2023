{
 "cells": [
  {
   "cell_type": "markdown",
   "id": "9238239d",
   "metadata": {},
   "source": [
    "# Week 4 Lab\n",
    "\n",
    "\n",
    "## Instructions\n",
    "\n",
    "For each task, write your code in the first cell below the comment. To check that it works as intended, run the second cell. You can run the tests as many times as you like.\n",
    "\n",
    "\n",
    "## Due date\n",
    "\n",
    "**NOTE: labs will be due at 8:00pm for the remainder of the course.**\n",
    "\n",
    "Due date this week: **Oct 4, 8pm**."
   ]
  },
  {
   "cell_type": "markdown",
   "id": "7786b4bb",
   "metadata": {},
   "source": [
    "## Assignment\n",
    "\n",
    "### Task 1: Using `for` loops\n",
    "The starter code below will make a list of words from *Pride and Prejudice*, called `pp_words`. Use a `for` loop to go through each word in the list and make some change to it. Store the transformed list in `pp_weird_words`.\n",
    "\n",
    "For example, you could convert each word to uppercase or lowercase, or use the `s.replace()` method to convert `\"a\"`s to `\"hello\"`. Just one change is sufficient as long as you use a `for` loop."
   ]
  },
  {
   "cell_type": "code",
   "execution_count": null,
   "id": "e7291376",
   "metadata": {},
   "outputs": [],
   "source": [
    "# Starter code\n",
    "\n",
    "pp_words = open(\"pride_prejudice.txt\", encoding='utf-8').read().split()"
   ]
  },
  {
   "cell_type": "code",
   "execution_count": null,
   "id": "ed7564bd",
   "metadata": {},
   "outputs": [],
   "source": [
    "# Write your code here\n"
   ]
  },
  {
   "cell_type": "code",
   "execution_count": null,
   "id": "e4598600",
   "metadata": {},
   "outputs": [],
   "source": [
    "# Run this to confirm your code made a change\n",
    "\n",
    "print(pp_words[0:50])\n",
    "print(pp_weird_words[0:50])"
   ]
  },
  {
   "cell_type": "markdown",
   "id": "7cee6b92",
   "metadata": {},
   "source": [
    "### Task 2: Using conditionals\n",
    "\n",
    "Use another `for` loop — this time containing at least one `if` statement — that iterates through `pp_weird_words` and makes them even weirder! Store the words in a list named `pp_weirder_words`.\n",
    "\n",
    "For instance, you could remove the empty strings from your list, convert the word \"and\" to \"&\", change the characters' names, change every occurrence of the word \"universal\" to \"contingent,\" etc."
   ]
  },
  {
   "cell_type": "code",
   "execution_count": null,
   "id": "a9a21e85",
   "metadata": {},
   "outputs": [],
   "source": [
    "# Write your code here"
   ]
  },
  {
   "cell_type": "code",
   "execution_count": null,
   "id": "4e0108aa",
   "metadata": {},
   "outputs": [],
   "source": [
    "# Run this to confirm your code made a change\n",
    "\n",
    "print(pp_words[0:50])\n",
    "print(pp_weird_words[0:50])\n",
    "print(pp_weirder_words[0:50])"
   ]
  },
  {
   "cell_type": "markdown",
   "id": "dd678d3d",
   "metadata": {},
   "source": [
    "### Task 3: Written Response\n",
    "\n",
    "On November 4th, your Short Assignment on TTRs is due. At this point, what are your thoughts about the experiment you will devise? What texts are you thinking of looking at, and what do you think TTRs might reveal about them? How (if at all) will your experiment be informed by the course readings? Will yours be a \"feminist\" project? How?"
   ]
  },
  {
   "cell_type": "markdown",
   "id": "51f19efb",
   "metadata": {},
   "source": [
    " "
   ]
  },
  {
   "cell_type": "markdown",
   "id": "5daa476f",
   "metadata": {},
   "source": [
    "### Optional: Questions about this week's material\n",
    "\n",
    "In the Markdown cell below, please feel free ask any question(s) you have about this week’s lecture material and/or the material in this lab."
   ]
  },
  {
   "cell_type": "markdown",
   "id": "7e3456fc",
   "metadata": {},
   "source": [
    " "
   ]
  },
  {
   "cell_type": "markdown",
   "id": "3511873b",
   "metadata": {},
   "source": [
    "## Marking Rubric\n",
    "\n",
    "Two points are awarded for labs: one point for submitting the completed lab on time, and one point for making at honest effort at completing it.\n",
    "\n",
    "\n",
    "## How to Submit\n",
    "\n",
    "1. Do the assignment by editing this notebook, writing in the designated cells.\n",
    "\n",
    "2. Download the completed notebook using menu item `File —> Download As —> Notebook (.ipynb)`. Save it as `W04_lab.ipynb`.\n",
    "\n",
    "3. Log in here: https://markus-ds.teach.cs.toronto.edu (Tip: Control/Command-click to open it in a new tab so you can still see these instructions.)\n",
    "\n",
    "4. Choose your course (ENG286).\n",
    "\n",
    "5. Click the `lab4: Lab 4` assessment.\n",
    "\n",
    "6. Click the `Submissions` tab. The new page is `Lab 4: Submissions`.\n",
    "\n",
    "7. Click button `Submit File` on the right.\n",
    "\n",
    "8. In the popup window that opens, click button `Browse`/`Choose Files` and select the `W04_lab.ipynb` file that you downloaded.\n",
    "\n",
    "9. MarkUs is picky with filenames! If your notebook file has a different name (e.g., `W04_lab (1).ipynb`), use the dropdown menu to rename it when you submit the file.\n"
   ]
  }
 ],
 "metadata": {
  "kernelspec": {
   "display_name": "Python 3 (ipykernel)",
   "language": "python",
   "name": "python3"
  },
  "language_info": {
   "codemirror_mode": {
    "name": "ipython",
    "version": 3
   },
   "file_extension": ".py",
   "mimetype": "text/x-python",
   "name": "python",
   "nbconvert_exporter": "python",
   "pygments_lexer": "ipython3",
   "version": "3.9.16"
  },
  "vscode": {
   "interpreter": {
    "hash": "901b79e026e03396fd1ffa7133844e9ea80e258ce34c66e1aabb5896bcb18463"
   }
  }
 },
 "nbformat": 4,
 "nbformat_minor": 5
}
