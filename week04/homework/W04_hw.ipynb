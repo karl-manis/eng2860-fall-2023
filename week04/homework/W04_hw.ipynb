{
 "cells": [
  {
   "cell_type": "markdown",
   "id": "5f0b3367",
   "metadata": {},
   "source": [
    "# Week 4 Homework\n",
    "\n",
    "## Instructions\n",
    "For each task, write your code in the cell below the comment. (Unlike in labs, there are no per-task tests provided, though you can write your own small tests as you go.) When all of the code is complete, upload it to Markus. \n",
    "\n",
    "## Due date\n",
    "Homeworks are due each week on Monday at 10pm (**Oct 9, 10pm**)."
   ]
  },
  {
   "cell_type": "markdown",
   "id": "e36a5ca8",
   "metadata": {},
   "source": [
    "## Assignment\n",
    "### Task 1: Get a list of words from a text file\n",
    "In the same folder as this notebook is `taylor-swift-folklore.txt`, which contains all the lyrics to Taylor Swift's *folklore* (2020). To get it ready for our analysis,\n",
    "* Store `taylor-swift-folklore.txt` in a string variable called `swift`"
   ]
  },
  {
   "cell_type": "code",
   "execution_count": null,
   "id": "f183b24e",
   "metadata": {},
   "outputs": [],
   "source": [
    "# Write your code here\n"
   ]
  },
  {
   "cell_type": "markdown",
   "id": "435973a3",
   "metadata": {},
   "source": [
    "* Split `swift` into words and store the result in `swift_words`"
   ]
  },
  {
   "cell_type": "code",
   "execution_count": null,
   "id": "b4fd3ae5",
   "metadata": {},
   "outputs": [],
   "source": [
    "# Write your code here\n"
   ]
  },
  {
   "cell_type": "markdown",
   "id": "e6b853b1",
   "metadata": {},
   "source": [
    "### Task 2: Lowercase the word list\n",
    "\n",
    "Create a new list, `swift_words_cleaned`, and use a `for` loop to iterate through every word in `swift_words` and convert it to lowercase letters. (All non-English characters like digits and punctuation marks should remain unchanged.)"
   ]
  },
  {
   "cell_type": "code",
   "execution_count": 1,
   "id": "9631b521",
   "metadata": {},
   "outputs": [],
   "source": [
    "# Write your code here\n"
   ]
  },
  {
   "cell_type": "markdown",
   "id": "06a790a4",
   "metadata": {},
   "source": [
    "### Task 3: Make a list of all the unique words in the lowercased wordlist\n",
    "Create a new variable called `swift_unique_words`. Loop through the items in `swift_words_cleaned` and for each word that isn't already in `swift_unique_words`, add it to that list."
   ]
  },
  {
   "cell_type": "code",
   "execution_count": 2,
   "id": "b439445c",
   "metadata": {},
   "outputs": [],
   "source": [
    "# Write your code here\n"
   ]
  },
  {
   "cell_type": "markdown",
   "id": "50515ae6",
   "metadata": {},
   "source": [
    "### Task 4: Calculate the type-token ratio\n",
    "Count how many words are in `swift_words_cleaned` and `swift_unique_words`, and store the results in `swift_num_words` and `swift_num_unique_words`. Then divide the unique words by the total words, multiply by 100, and store the result in `swift_ttr`."
   ]
  },
  {
   "cell_type": "code",
   "execution_count": null,
   "id": "68b2db2a",
   "metadata": {},
   "outputs": [],
   "source": [
    "# Write your code here\n"
   ]
  },
  {
   "cell_type": "markdown",
   "id": "11bf0a68",
   "metadata": {},
   "source": [
    "## Marking Rubric\n",
    "This assignment will be autograded in Markus, and your mark fully determined by the \"correctness\" of the code as measured by the autograder. For example, if it says that 60% of the tests passed successfully, your mark on the assignment will be 60%. You will be able to see your mark right away and can resubmit the assignment to improve your mark.\n",
    "\n",
    "## How to Submit\n",
    "1. Download your homework to your local computer and save it as `W04_hw.ipynb`.\n",
    "2. Log in here: https://markus-ds.teach.cs.toronto.edu.\n",
    "3. Submit your homework to `hw4: Homework 4`.\n",
    "\n",
    "## How to Run the Autograder\n",
    "\n",
    "*After* submitting your work, you can run the autograder in MarkUs by doing the following:\n",
    "\n",
    "1. On MarkUs, go to ENG286 course and the assignment page (e.g., `hw4: Homework 4`).\n",
    "2. Go to the \"Automated Testing\" tab and click on the \"Run tests\" button.\n",
    "\n",
    "If all of the rows are green, that's great! Your code is correct, and you will receive 100% on this homework.\n",
    "If some of the rows are red, you can then make changes to your notebook on JupyterHub, and then re-submit and re-run the tests.\n",
    "You can do this as many times as you like up until the homework deadline."
   ]
  }
 ],
 "metadata": {
  "kernelspec": {
   "display_name": "Python 3 (ipykernel)",
   "language": "python",
   "name": "python3"
  },
  "language_info": {
   "codemirror_mode": {
    "name": "ipython",
    "version": 3
   },
   "file_extension": ".py",
   "mimetype": "text/x-python",
   "name": "python",
   "nbconvert_exporter": "python",
   "pygments_lexer": "ipython3",
   "version": "3.9.16"
  },
  "vscode": {
   "interpreter": {
    "hash": "901b79e026e03396fd1ffa7133844e9ea80e258ce34c66e1aabb5896bcb18463"
   }
  }
 },
 "nbformat": 4,
 "nbformat_minor": 5
}
