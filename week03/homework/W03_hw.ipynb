{
 "cells": [
  {
   "cell_type": "markdown",
   "id": "a82c189a",
   "metadata": {},
   "source": [
    "# Week 3 Homework\n",
    "\n",
    "## Instructions\n",
    "For each task, write your code in the cell below the comment. (Unlike in labs, there are no per-task tests provided, though you can write your own small tests as you go.) When all of the code is complete, upload it to MarkUs. \n",
    "\n",
    "## Due date\n",
    "\n",
    "Homeworks are due each week on Monday at 10pm."
   ]
  },
  {
   "cell_type": "markdown",
   "id": "a8982e9e",
   "metadata": {},
   "source": [
    "## Loading a File\n",
    "\n",
    "In order to do the lab and homework you will need to load the text file into python. \n",
    "\n",
    "The following will use the \"sample_character_encoding.txt\" file as an example and it is encoded in the UTF-8 standard. The cold will only run if you have your sample_character_encoding.txt in the same folder as this file.\n",
    "\n",
    "More on the details of the code will be explained in class. For now you can try to understand it, if you don't no worries as this will be discussed soon!\n",
    "\n",
    "In the below command, we'll use the open() function to open the file, and then immediately apply the .read() method to that file. This is because the open() function produces a \"file object\" which only becomes what we want it to be — a str — once we apply this method to it.\n"
   ]
  },
  {
   "cell_type": "code",
   "execution_count": null,
   "id": "6ecdaced",
   "metadata": {},
   "outputs": [],
   "source": [
    "sample_text = open(\"sample_character_encoding.txt\", encoding=\"utf-8\").read()"
   ]
  },
  {
   "cell_type": "markdown",
   "id": "22b38a62",
   "metadata": {},
   "source": [
    "## Assignment\n",
    "### Task 1: Getting some text files ready\n",
    "There are two texts in the same folder as this homework that we'll work with a bit.\n",
    "\n",
    "Store `moby_dick.txt` in a variable called `mobydick`."
   ]
  },
  {
   "cell_type": "code",
   "execution_count": null,
   "id": "8121d231",
   "metadata": {},
   "outputs": [],
   "source": [
    "# Write your code here\n"
   ]
  },
  {
   "cell_type": "markdown",
   "id": "4526af07",
   "metadata": {},
   "source": [
    "Store `MCU_combined.txt` in a variable called `mcu`. (This text file contains transcripts of 18 movies from the Marvel Cinematic Universe.)"
   ]
  },
  {
   "cell_type": "code",
   "execution_count": null,
   "id": "f9e3feb5",
   "metadata": {},
   "outputs": [],
   "source": [
    "# Write your code here\n"
   ]
  },
  {
   "cell_type": "markdown",
   "id": "748dd095",
   "metadata": {},
   "source": [
    "### Task 2: Counting the words in each text\n",
    "First the texts need to be broken down into lists of words. Store these lists in the new variables `mobydick_words` and `mcu_words`."
   ]
  },
  {
   "cell_type": "code",
   "execution_count": null,
   "id": "beaf5fb9",
   "metadata": {},
   "outputs": [],
   "source": [
    "# Write your code here\n"
   ]
  },
  {
   "cell_type": "markdown",
   "id": "732acb18",
   "metadata": {},
   "source": [
    "Then, find the length of each text and store it in `mobydick_wordcount` and `mcu_wordcount`."
   ]
  },
  {
   "cell_type": "code",
   "execution_count": null,
   "id": "e004fe3f",
   "metadata": {},
   "outputs": [],
   "source": [
    "# Write your code here\n"
   ]
  },
  {
   "cell_type": "markdown",
   "id": "9b240659",
   "metadata": {},
   "source": [
    "### Task 3: Getting the two last sentences of each text\n",
    "To work with sentences, we need to split our texts differently. First, use periods to split `mobydick` into sentences, and store these sentences in a variable named `mobydick_sentences`."
   ]
  },
  {
   "cell_type": "code",
   "execution_count": null,
   "id": "2496b83e",
   "metadata": {},
   "outputs": [],
   "source": [
    "# Write your code here\n"
   ]
  },
  {
   "cell_type": "markdown",
   "id": "571b41e8",
   "metadata": {},
   "source": [
    "Next, use periods to split `mcu` into sentences, and store the sentences in a variable `mcu_sentences`."
   ]
  },
  {
   "cell_type": "code",
   "execution_count": null,
   "id": "cf6dbaf1",
   "metadata": {},
   "outputs": [],
   "source": [
    "# Write your code here\n"
   ]
  },
  {
   "cell_type": "markdown",
   "id": "a49c4ca0",
   "metadata": {},
   "source": [
    "Then get the last **two** items in each of these lists and store them in `mobydick_last_sentences` and `mcu_last_sentences`."
   ]
  },
  {
   "cell_type": "code",
   "execution_count": null,
   "id": "a863a57d",
   "metadata": {},
   "outputs": [],
   "source": [
    "# Do this for Moby Dick in this cell\n"
   ]
  },
  {
   "cell_type": "code",
   "execution_count": null,
   "id": "206446db",
   "metadata": {},
   "outputs": [],
   "source": [
    "# And for MCU in this cell\n"
   ]
  },
  {
   "cell_type": "markdown",
   "id": "a69d2e30",
   "metadata": {},
   "source": [
    "## Marking Rubric\n",
    "This assignment will be autograded in Markus, and your mark fully determined by the \"correctness\" of the code as measured by the autograder. For example, if it says that 60% of the tests passed successfully, your mark on the assignment will be 60%.\n",
    "\n",
    "When you submit your work to MarkUs, you can then *run the autograder* on your submission to see how many tests pass, and therefore what grade you'll receive on that submission.\n",
    "You can submit and run the autograder as many times as you like before the homework due date to improve your mark.\n",
    "\n",
    "**Note**: after the due date, Markus will use your *most recent submission before the due date* for the actual grading.\n",
    "\n",
    "## How to Submit\n",
    "\n",
    "Submitting your notebook follows the same process as other labs/homeworks, and we are including an abbreviated version here:\n",
    "\n",
    "1. Download this notebook file to your computer and save it as `W03_hw.ipynb`.\n",
    "2. Log in to MarkUs here: https://markus-ds.teach.cs.toronto.edu.\n",
    "3. Submit your notebook file to `hw3: Homework 3`.\n",
    "\n",
    "## How to Run the Autograder\n",
    "\n",
    "Running the autograder follows the same process as Homework 2, and we are including an abbreviated version here.\n",
    "\n",
    "*After* submitting your work, you can run the autograder in MarkUs by doing the following:\n",
    "\n",
    "1. On MarkUs, go to ENG286 course and the assignment page (e.g., `hw3: Homework 3`).\n",
    "2. Go to the \"Automated Testing\" tab and click on the \"Run tests\" button.\n",
    "\n",
    "If all of the rows are green, that's great! Your code is correct, and you will receive 100% on this homework.\n",
    "If some of the rows are red, you can then make changes to your notebook on JupyterHub, and then re-submit and re-run the tests.\n",
    "You can do this as many times as you like up until the homework deadline."
   ]
  }
 ],
 "metadata": {
  "kernelspec": {
   "display_name": "Python 3 (ipykernel)",
   "language": "python",
   "name": "python3"
  },
  "language_info": {
   "codemirror_mode": {
    "name": "ipython",
    "version": 3
   },
   "file_extension": ".py",
   "mimetype": "text/x-python",
   "name": "python",
   "nbconvert_exporter": "python",
   "pygments_lexer": "ipython3",
   "version": "3.10.8"
  },
  "vscode": {
   "interpreter": {
    "hash": "901b79e026e03396fd1ffa7133844e9ea80e258ce34c66e1aabb5896bcb18463"
   }
  }
 },
 "nbformat": 4,
 "nbformat_minor": 5
}
