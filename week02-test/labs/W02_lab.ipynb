{
 "cells": [
  {
   "cell_type": "markdown",
   "id": "37a681cd",
   "metadata": {},
   "source": [
    "# Week 2 Lab\n",
    "\n",
    "\n",
    "## Instructions\n",
    "\n",
    "For each task, write your code in the first cell below the comment. To check that it works as intended, run the second cell. You can run the tests as many times as you like.\n",
    "\n",
    "\n",
    "## Due date\n",
    "\n",
    "Labs are due each week on Wednesday at 10:00pm."
   ]
  },
  {
   "cell_type": "markdown",
   "id": "9b431277",
   "metadata": {},
   "source": [
    "## Assignment"
   ]
  },
  {
   "cell_type": "markdown",
   "id": "1d06e413",
   "metadata": {},
   "source": [
    "### Task 1: Using strings\n",
    "\n",
    "Create three variables called `name`, `adjective`, and `noun`. Assign a string as a value to each of them. (The actual value of the string can be anything, but this exercise will be more fun if you write in one word to each variable that corresponds to the part of speech in the variable name.)"
   ]
  },
  {
   "cell_type": "code",
   "execution_count": null,
   "id": "5c5d3f62",
   "metadata": {},
   "outputs": [],
   "source": [
    "# Write your code in this cell, in the lines below this comment, and run it\n",
    "# (You can delete or leave the commented code in this Lab; up to you!)\n"
   ]
  },
  {
   "cell_type": "code",
   "execution_count": null,
   "id": "f3db4297",
   "metadata": {
    "scrolled": true
   },
   "outputs": [],
   "source": [
    "# Run the below code cells to check that things are working as you expect.\n",
    "# This one will check that your variable, name, is indeed a string (we want to see True)\n",
    "\n",
    "type(name) == str"
   ]
  },
  {
   "cell_type": "code",
   "execution_count": null,
   "id": "96ba1d6d",
   "metadata": {},
   "outputs": [],
   "source": [
    "type(adjective) == str"
   ]
  },
  {
   "cell_type": "code",
   "execution_count": null,
   "id": "3d109051",
   "metadata": {},
   "outputs": [],
   "source": [
    "type(noun) == str"
   ]
  },
  {
   "cell_type": "code",
   "execution_count": null,
   "id": "8d431694",
   "metadata": {},
   "outputs": [],
   "source": [
    "# And this should print a madlibs sentence\n",
    "\n",
    "print(f\"...And then there was {name}, who was eaten alive by a {adjective} {noun}.\")"
   ]
  },
  {
   "cell_type": "markdown",
   "id": "6c0b7900",
   "metadata": {},
   "source": [
    "### Task 2: Using integers\n",
    "Create two new variables called `number` and `number_times_four`. Assign an integer to `number`, and use a bit of math so that the value of `number_times_four` is the value of `number` multiplied by four."
   ]
  },
  {
   "cell_type": "code",
   "execution_count": null,
   "id": "d81ec33c",
   "metadata": {},
   "outputs": [],
   "source": [
    "# Write your code in this cell and run it \n"
   ]
  },
  {
   "cell_type": "code",
   "execution_count": null,
   "id": "7ddebef9",
   "metadata": {},
   "outputs": [],
   "source": [
    "# Run the below code cells to check that things are working as you expect.\n",
    "# This one will check that your variable, number, is an integer (we want to see \"True\" as the output)\n",
    "\n",
    "type(number) == int"
   ]
  },
  {
   "cell_type": "code",
   "execution_count": null,
   "id": "13ef866b",
   "metadata": {},
   "outputs": [],
   "source": [
    "# This will check that your variable, number_times_four, is an integer (we're again looking for \"True\")\n",
    "\n",
    "type(number_times_four) == int"
   ]
  },
  {
   "cell_type": "code",
   "execution_count": null,
   "id": "0b4cfffa",
   "metadata": {},
   "outputs": [],
   "source": [
    "# This should print a madlibs sentence\n",
    "\n",
    "print(f\"To have stolen {number} {noun}s would have been bad enough. But to have stolen {number_times_four} — four times as many! — was simply {adjective}!\")"
   ]
  },
  {
   "cell_type": "markdown",
   "id": "088bbffb",
   "metadata": {},
   "source": [
    "### Task 3: Understanding variable names\n",
    "In the following code, you already have a variable and a print statement that uses it. Rename the variable to anything you like, in both places, so the code still runs. Then add a few more variables, and change the sentence to anything you like. Have fun with it. (Remember, labs are only graded based on whether you get them in on time and make an honest effort — so just make an honest effort, and don't worry too much about messing things up!)"
   ]
  },
  {
   "cell_type": "code",
   "execution_count": null,
   "id": "f5142538",
   "metadata": {},
   "outputs": [],
   "source": [
    "# Here there is some prewritten code. Alter it and make sure it still produces the right madlibs when it runs.\n",
    "\n",
    "x = True\n",
    "\n",
    "print(f\"It is {x} that people who write code professionally often look up how to do things on StackOverflow.\")"
   ]
  },
  {
   "cell_type": "markdown",
   "id": "76f52070",
   "metadata": {},
   "source": [
    "### Reading Response\n",
    "\n",
    "D’Ignazio and Klein argue in Data Feminism that “a project may be feminist in content, in that it challenges power by choice of subject matter; in form, in that it challenges power by shifting the aesthetic and/or sensory registers of data communication; and/or in process, in that it challenges power by building participatory, inclusive processes of knowledge production.” Could the “distant reading” project of Franco Moretti — as described by himself in “Conjectures on World Literature” or as summarized by Schulz in “Distant Reading” — be described as “feminist” in any of those senses? If not... could it be *made* feminist?\n",
    "\n",
    "Enter your response in the Markdown cell below (adding any formatting you feel is appropriate) and run the cell."
   ]
  },
  {
   "cell_type": "markdown",
   "id": "b7f9ceb9",
   "metadata": {},
   "source": [
    "  "
   ]
  },
  {
   "cell_type": "markdown",
   "id": "888393bb",
   "metadata": {},
   "source": [
    "### Optional: Questions about this week's material\n",
    "\n",
    "In the Markdown cell below, please feel free ask any question(s) you have about this week’s lecture material and/or the material in this lab."
   ]
  },
  {
   "cell_type": "markdown",
   "id": "981bbc3c",
   "metadata": {},
   "source": [
    "  "
   ]
  },
  {
   "cell_type": "markdown",
   "id": "fe5a7a14",
   "metadata": {},
   "source": [
    "## Marking Rubric\n",
    "\n",
    "Two points are awarded for labs: one point for submitting the completed lab on time, and one point for making at honest effort at completing it.\n",
    "\n",
    "\n",
    "## How to Submit\n",
    "\n",
    "1. Do the assignment by editing this notebook, writing in the designated cells.\n",
    "\n",
    "2. Download the completed notebook using menu item `File —> Download As —> Notebook (.ipynb)`. Save it as `W02_lab.ipynb`.\n",
    "\n",
    "3. Log in here: https://markus-ds.teach.cs.toronto.edu (Tip: Control/Command-click to open it in a new tab so you can still see these instructions.)\n",
    "\n",
    "4. Choose your course (ENG286).\n",
    "\n",
    "5. Click the `lab2: Lab 2` assessment.\n",
    "\n",
    "6. Click the `Submissions` tab. The new page is `Lab 2: Submissions`.\n",
    "\n",
    "7. Click button `Submit File` on the right.\n",
    "\n",
    "8. In the popup window that opens, click button `Browse`/`Choose Files` and select the `W02_lab.ipynb` file that you downloaded.\n",
    "\n",
    "9. MarkUs is picky with filenames! If your notebook file has a different name (e.g., `W02_lab (1).ipynb`), use the dropdown menu to rename it when you submit the file.\n"
   ]
  }
 ],
 "metadata": {
  "kernelspec": {
   "display_name": "Python 3 (ipykernel)",
   "language": "python",
   "name": "python3"
  },
  "language_info": {
   "codemirror_mode": {
    "name": "ipython",
    "version": 3
   },
   "file_extension": ".py",
   "mimetype": "text/x-python",
   "name": "python",
   "nbconvert_exporter": "python",
   "pygments_lexer": "ipython3",
   "version": "3.9.7"
  },
  "vscode": {
   "interpreter": {
    "hash": "901b79e026e03396fd1ffa7133844e9ea80e258ce34c66e1aabb5896bcb18463"
   }
  }
 },
 "nbformat": 4,
 "nbformat_minor": 5
}
