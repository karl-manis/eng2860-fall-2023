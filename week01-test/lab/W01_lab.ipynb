{
 "cells": [
  {
   "cell_type": "markdown",
   "id": "6499ba20",
   "metadata": {},
   "source": [
    "# Week 1 Lab\n",
    "\n",
    "\n",
    "## Instructions\n",
    "\n",
    "This week's lab is mostly about getting Jupyter notebooks working and learning to upload assignments to Markus.\n",
    "\n",
    "## Due date\n",
    "\n",
    "Labs are due each week on Wednesday at 10:00pm."
   ]
  },
  {
   "cell_type": "markdown",
   "id": "d5fed166",
   "metadata": {},
   "source": [
    "## Assignment"
   ]
  },
  {
   "cell_type": "markdown",
   "id": "db45f4d0",
   "metadata": {},
   "source": [
    "### Task 1: Writing in a Markdown cell\n",
    "\n",
    "In the cell below this explanation, edit the text to introduce yourself a little. Replace the stuff in `[SQUARE BRACKETS]` with the information about yourself (removing those ugly square brackets in the process). Then \"run\" the cell."
   ]
  },
  {
   "cell_type": "markdown",
   "id": "0d81b2b4",
   "metadata": {},
   "source": [
    "[GREETING]! My name is **[NAME]**. I'm a [YEARth] year student studying [YOUR PROGRAM(S)]. If I could pick only one favourite book, it would be *[TITLE]*."
   ]
  },
  {
   "cell_type": "markdown",
   "id": "e4190b29",
   "metadata": {},
   "source": [
    "### Task 2: Writing in a code cell\n",
    "In the cell below this explanation, edit the code to introduce yourself a little (again replacing the bits in square brackets), then \"run\" the cell."
   ]
  },
  {
   "cell_type": "code",
   "execution_count": null,
   "id": "7cbeab88",
   "metadata": {},
   "outputs": [],
   "source": [
    "\"I'm taking this class because I am interested in [SOMETHING]\""
   ]
  },
  {
   "cell_type": "markdown",
   "id": "ce4c4c7e",
   "metadata": {},
   "source": [
    "### Task 3: Reading response\n",
    "\n",
    "In the Markdown cell below, tell us... whether you think Sherlock Holmes really is the most objective character in *The Sign of the Four*, and whether you think old-fashioned literary analysis or newfangled computational methods are more likely to produce the correct answer. (150-250 words)"
   ]
  },
  {
   "cell_type": "markdown",
   "id": "b399e97d",
   "metadata": {},
   "source": [
    "  "
   ]
  },
  {
   "cell_type": "markdown",
   "id": "0d58f6e5",
   "metadata": {},
   "source": [
    "### Optional: Questions about this week's material\n",
    "\n",
    "In the Markdown cell below, please feel free ask any question(s) you have about this week’s lecture material and/or the material in this lab."
   ]
  },
  {
   "cell_type": "markdown",
   "id": "93ecf6ab",
   "metadata": {},
   "source": [
    " "
   ]
  },
  {
   "cell_type": "markdown",
   "id": "fe5a7a14",
   "metadata": {},
   "source": [
    "## Marking Rubric\n",
    "\n",
    "Two points are awarded for labs: one point for submitting the completed lab on time, and one point for making at honest effort at completing it.\n",
    "\n",
    "\n",
    "## How to Submit\n",
    "\n",
    "1. Do the assignment by editing this notebook, writing in the designated cells.\n",
    "\n",
    "2. Download the completed notebook using menu item `File —> Download As —> Notebook (.ipynb)`. Save it as `W01_lab.ipynb`.\n",
    "\n",
    "3. Log in here: https://markus-ds.teach.cs.toronto.edu (Tip: Control/Command-click to open it in a new tab so you can still see these instructions.)\n",
    "\n",
    "4. Choose your course (ENG286).\n",
    "\n",
    "5. Click the `lab1: Lab 1` assessment.\n",
    "\n",
    "6. Click the `Submissions` tab. The new page is `Lab 1: Submissions`.\n",
    "\n",
    "7. Click button `Submit File` on the right.\n",
    "\n",
    "8. In the popup window that opens, click button `Browse`/`Choose Files` and select the `W01_lab.ipynb` file that you downloaded.\n",
    "\n",
    "9. MarkUs is picky with filenames! If your notebook file has a different name (e.g., `W01_lab (1).ipynb`), use the dropdown menu to rename it when you submit the file.\n"
   ]
  }
 ],
 "metadata": {
  "kernelspec": {
   "display_name": "Python 3 (ipykernel)",
   "language": "python",
   "name": "python3"
  },
  "language_info": {
   "codemirror_mode": {
    "name": "ipython",
    "version": 3
   },
   "file_extension": ".py",
   "mimetype": "text/x-python",
   "name": "python",
   "nbconvert_exporter": "python",
   "pygments_lexer": "ipython3",
   "version": "3.9.7"
  },
  "vscode": {
   "interpreter": {
    "hash": "901b79e026e03396fd1ffa7133844e9ea80e258ce34c66e1aabb5896bcb18463"
   }
  }
 },
 "nbformat": 4,
 "nbformat_minor": 5
}
