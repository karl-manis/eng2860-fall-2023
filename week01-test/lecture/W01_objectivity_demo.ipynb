{
 "cells": [
  {
   "cell_type": "markdown",
   "id": "47b86d45",
   "metadata": {},
   "source": [
    "# Is Sherlock Holmes the most objective character in *The Sign of the Four*?"
   ]
  },
  {
   "cell_type": "code",
   "execution_count": 5,
   "id": "1b56c756",
   "metadata": {},
   "outputs": [],
   "source": [
    "from textblob import TextBlob"
   ]
  },
  {
   "cell_type": "code",
   "execution_count": 32,
   "id": "ed3e7e81",
   "metadata": {},
   "outputs": [
    {
     "data": {
      "text/plain": [
       "0.0"
      ]
     },
     "execution_count": 32,
     "metadata": {},
     "output_type": "execute_result"
    }
   ],
   "source": [
    "TextBlob(\"Women Talking is a triumph\").subjectivity"
   ]
  },
  {
   "cell_type": "code",
   "execution_count": null,
   "id": "17d152ec",
   "metadata": {},
   "outputs": [],
   "source": []
  }
 ],
 "metadata": {
  "kernelspec": {
   "display_name": "Python 3 (ipykernel)",
   "language": "python",
   "name": "python3"
  },
  "language_info": {
   "codemirror_mode": {
    "name": "ipython",
    "version": 3
   },
   "file_extension": ".py",
   "mimetype": "text/x-python",
   "name": "python",
   "nbconvert_exporter": "python",
   "pygments_lexer": "ipython3",
   "version": "3.9.7"
  }
 },
 "nbformat": 4,
 "nbformat_minor": 5
}
