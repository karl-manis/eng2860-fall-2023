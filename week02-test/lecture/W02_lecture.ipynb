{
 "cells": [
  {
   "cell_type": "markdown",
   "id": "d0f2cc77",
   "metadata": {},
   "source": [
    "# Week 2: Data Feminism, Distant Reading, Type Token Ratios... and Python Basics\n",
    "\n",
    "## Part 1: Data Feminism and Distant Reading\n",
    "\n",
    "In the first part of the lecture, AH will lead a discussion of this week's readings:\n",
    "* Kathryn Schulz, “What is Distant Reading?”, *New York Times*\n",
    "* Catherine D'Ignazio and Lauren Klein, “Why Data Science Needs Feminism,” Data FeminismLinks to an external site.\n",
    "* Franco Moretti, “Conjectures on World Literature”\n",
    "\n",
    "\n",
    "## Part 2: Type/Token Ratios\n",
    "\n",
    "The above discussion will lead into AH's introduction of our first computational metric for literary analysis: the Type/Token Ratio or TTR.\n",
    "\n",
    "## Part 3: Python Basics: Variables, the Three Basic Data Types, Operators, and the Concept of a Function\n",
    "\n",
    "This part of the lecture draws on Melanie Walsh's sections on [variables](https://melaniewalsh.github.io/Intro-Cultural-Analytics/02-Python/04-Variables.html) and [data types](https://melaniewalsh.github.io/Intro-Cultural-Analytics/02-Python/05-Data-Types.html). Definitely check these out if you're unclear on anything from this section of the lecture — Walsh's textbook is an amazing resource!\n",
    "\n",
    "\n",
    "## Week 2 Lab\n",
    "\n",
    "Don't forget that you have another lab due this week,  Wednesday @ 10pm for discussion during your Thursday tutorial.\n",
    "\n",
    "\n",
    "## Week 2 Homework\n",
    "\n",
    "This week, you have your first Homework assignment. It will be released after tutorial. Homeworks are autograded. DL will lead us through a quick tutorial about how to submit homework for autograding. Remember: homeworks are due by 10pm on the Monday following the lecture on which they are based. And you have unlimited attempts for submission!\n",
    "\n",
    "---\n"
   ]
  },
  {
   "cell_type": "markdown",
   "id": "29ff37d6",
   "metadata": {},
   "source": [
    "# 3 Python Fundamentals\n",
    "\n",
    "Let's start getting a handle of some fundamental aspects of the Python programming language. And then let's have a super fun time with a role-playing game involving envelopes and pieces of paper!"
   ]
  },
  {
   "cell_type": "markdown",
   "id": "9b431277",
   "metadata": {},
   "source": [
    "## 3a. Variables\n",
    "\n",
    "Think of variables as envelopes or boxes that you can put stuff in. For instance, numbers, words, sentences, paragraphs... novels!\n",
    "\n",
    "Variables have two main aspects: **names** and **values**. The name allows Python to know where to look for the cool contents of the envelope. The \"value\" of the variable are those cool contents.\n",
    "\n",
    "If you've been immersing yourself in literary theory lately... think of \"names\" and \"values\" of variables as corresponding to the \"signifier\" and \"signified\" in the Saussurean sign:\n",
    "\n",
    "![The Saussurean sign](saussure.jpg)\n",
    "\n",
    "To *put the cool contents into the envelope* (as it were), you need to **assign** a **value** to the **variable**. \n",
    "\n",
    "Python syntax looks like the following — `variable_name = value` — and works as follows:\n",
    "* On the left, you write out the **variable name** you want to use. These names can contain uppercase and lowercase letters A–Z, numbers 0-9, and underscores (`_`). You *cannot* use other punctuation (`.-!?` etc.), or spaces. You can use *pretty much* any name you want, though a few names are reserved for Python's own use, such as `print` and `return` (these special words will appear in green text when you enter them into a Jupyter code cell).\n",
    "* Then you put a *single equals sign*, `=` (don't use a double equals sign, `==`, which we'll talk about in a second). \n",
    "* Then write out the **value** that you want to **assign** to the variable (aka, the stuff you want to put into the envelope). If it's text you want to put into the variable, surround it in quotation marks (`\"` — or `'` if you're British, either works!). If it's a number, just write the number.\n",
    "\n",
    "You may at some point hear that it's \"cool\" or \"efficient\" to use really short variable names like `f` or `n` — or you might see some \" *cool* \" coder using super short names, or catch wind of a rumour that all the \" *tough* \" programmers use short variable names. Nonsense!!! We know lots of words, so let's not be afraid to use them! A descriptive variable name — one that actually makes clear what kind of stuff is inside the envelope — makes your code more readable (to yourself and others) and reinforces your sense of what's actually going on in your code.\n",
    "\n",
    "Note: if you're going to use more than one word for your variable name, it is conventional and reader-friendly to use an underscore `_` to separate these words, rather than just mashing them together. This is called (get ready for it) **snake_case**!\n",
    "\n",
    "Below, I'll put my name into a variable called... `name`!"
   ]
  },
  {
   "cell_type": "code",
   "execution_count": null,
   "id": "0e3361e1",
   "metadata": {},
   "outputs": [],
   "source": [
    "name = \"Adam\""
   ]
  },
  {
   "cell_type": "markdown",
   "id": "55ffca4a",
   "metadata": {},
   "source": [
    "Okay — although there's no output there, the variable has now been created, and assigned that value! \n",
    "\n",
    "How can we check that there is now a variable called `name` that contains my name, `\"Adam\"`? \n",
    "\n",
    "Well, we can just type `name` into a code cell. Python will interpret that command, realize that it makes sense, go find the \"envelope\" called `name` and spit out its contents. (In Saussurean terms, it will understand the *signifier* `name` and then spit out its *signified*, `\"Adam\"`.)"
   ]
  },
  {
   "cell_type": "code",
   "execution_count": null,
   "id": "8026aaae",
   "metadata": {
    "scrolled": true
   },
   "outputs": [],
   "source": [
    "name"
   ]
  },
  {
   "cell_type": "markdown",
   "id": "d63ca101",
   "metadata": {},
   "source": [
    "Let's try the same thing with a number rather than text..."
   ]
  },
  {
   "cell_type": "code",
   "execution_count": null,
   "id": "fe201bcb",
   "metadata": {},
   "outputs": [],
   "source": [
    "age = 41"
   ]
  },
  {
   "cell_type": "code",
   "execution_count": null,
   "id": "4ca30067",
   "metadata": {
    "scrolled": true
   },
   "outputs": [],
   "source": [
    "age"
   ]
  },
  {
   "cell_type": "markdown",
   "id": "3f061e0b",
   "metadata": {},
   "source": [
    "Note that you can perform mathematical operations on the contents of this variable just by \"calling\" it by name. (In class, we'll discuss how this would differ if you inputted `\"age\" * 2` instead.)"
   ]
  },
  {
   "cell_type": "code",
   "execution_count": null,
   "id": "903265d3",
   "metadata": {},
   "outputs": [],
   "source": [
    "age * 2"
   ]
  },
  {
   "cell_type": "markdown",
   "id": "f82f6eb2",
   "metadata": {},
   "source": [
    "You can use decimals, too..."
   ]
  },
  {
   "cell_type": "code",
   "execution_count": null,
   "id": "58290aee",
   "metadata": {},
   "outputs": [],
   "source": [
    "batting_average = 0.190"
   ]
  },
  {
   "cell_type": "code",
   "execution_count": null,
   "id": "d8953c7d",
   "metadata": {},
   "outputs": [],
   "source": [
    "batting_average"
   ]
  },
  {
   "cell_type": "code",
   "execution_count": null,
   "id": "c6499280",
   "metadata": {},
   "outputs": [],
   "source": [
    "batting_average * 1000"
   ]
  },
  {
   "cell_type": "code",
   "execution_count": null,
   "id": "839a39c4",
   "metadata": {},
   "outputs": [],
   "source": [
    "batting_average_2 = 190"
   ]
  },
  {
   "cell_type": "code",
   "execution_count": null,
   "id": "331ad9e5",
   "metadata": {},
   "outputs": [],
   "source": [
    "batting_average_2"
   ]
  },
  {
   "cell_type": "markdown",
   "id": "c82b01ac",
   "metadata": {},
   "source": [
    "As you'll perhaps have noticed above, Python treats decimal numbers and whole numbers differently — it considers them different **data types**. We'll get to that in a second. \n",
    "\n",
    "But first, let's note another kind of thing we can stick into our variable envelopes (there are even more of these, which we'll be meeting in future weeks!). "
   ]
  },
  {
   "cell_type": "code",
   "execution_count": null,
   "id": "af51fa8e",
   "metadata": {},
   "outputs": [],
   "source": [
    "l0ves_T0r0nt0 = \"True\"\n",
    "loves_Toronto = True"
   ]
  },
  {
   "cell_type": "code",
   "execution_count": null,
   "id": "77dc6ccc",
   "metadata": {},
   "outputs": [],
   "source": [
    "l0ves_T0r0nt0"
   ]
  },
  {
   "cell_type": "code",
   "execution_count": null,
   "id": "cfb2c304",
   "metadata": {},
   "outputs": [],
   "source": [
    "loves_Toronto"
   ]
  },
  {
   "cell_type": "markdown",
   "id": "2ca5f3d3",
   "metadata": {},
   "source": [
    "## 3b The Concept of a Function\n",
    "\n",
    "So far we've been checking the contents of our variable envelopes by just typing their names into a code cell. \n",
    "\n",
    "Another way of doing this is to use a **function** called `print()`. Functions are little bundles of code. Think of them as like **verbs** — they perform actions. But they're *transitive* verbs, meaning they need a \"noun\" to perform their actions on.\n",
    "\n",
    "The syntax for a function is `verb(noun)` — no spaces allowed.\n",
    "\n",
    "The Python terminology for these things is `function(argument)`.\n",
    "\n",
    "You can, for example, provide some actual words (bundled in quotation marks so that Python knows what you're talking about) for the `print()` function to spit out. Below is the classic \"first thing you ever type into a programming language\" command — the famous `print(\"Hello world\")`"
   ]
  },
  {
   "cell_type": "code",
   "execution_count": null,
   "id": "cdf4d460",
   "metadata": {},
   "outputs": [],
   "source": [
    "print(\"Hello world\")"
   ]
  },
  {
   "cell_type": "markdown",
   "id": "7bf943f8",
   "metadata": {},
   "source": [
    "We can also provide a variable in the \"noun\" or *argument* position (no quotation marks, so Python knows that we're talking about a variable), and the `print()` function will **print out** the contents of that variable.\n",
    "\n",
    "As always, the syntax is `verb(noun)` — still no spaces allowed, and getting any part of that syntax wrong will cause the Python interpreter will return an error message:\n",
    "* name of the function misspelt, even slightly\n",
    "* name of variable misspelt, even slightly\n",
    "* space between function name and variable name\n",
    "* missing parenthesis, or parenthesis pointing in wrong direction\n",
    "* curly or square bracket used rather than parentheses. \n",
    "\n",
    "Think of the Python interpreter as an extraordinarily dutiful but uncompromisingly literal reader (sort of like the way Watson thinks of Holmes, even if Watson is wrong about that)."
   ]
  },
  {
   "cell_type": "code",
   "execution_count": null,
   "id": "b71aa8f9",
   "metadata": {
    "scrolled": true
   },
   "outputs": [],
   "source": [
    "prnit(name)"
   ]
  },
  {
   "cell_type": "code",
   "execution_count": null,
   "id": "65451b9a",
   "metadata": {},
   "outputs": [],
   "source": [
    "print(ag3)"
   ]
  },
  {
   "cell_type": "code",
   "execution_count": null,
   "id": "8c3000ce",
   "metadata": {},
   "outputs": [],
   "source": [
    "print batting_average"
   ]
  },
  {
   "cell_type": "code",
   "execution_count": null,
   "id": "49685dd8",
   "metadata": {},
   "outputs": [],
   "source": [
    "print(loves_Toronto"
   ]
  },
  {
   "cell_type": "code",
   "execution_count": null,
   "id": "15795ac6",
   "metadata": {},
   "outputs": [],
   "source": [
    "print(loves_Toronto)"
   ]
  },
  {
   "cell_type": "markdown",
   "id": "6a863104",
   "metadata": {},
   "source": [
    "Below I've spelled everything correctly, and I've conveinently put all five `print()` statements into a single cell.\n",
    "\n",
    "What differences, if any, do you notice between the output we get when we just type the name of variable into a code cell and run it, versus when we use `print()`"
   ]
  },
  {
   "cell_type": "code",
   "execution_count": null,
   "id": "329a6180",
   "metadata": {},
   "outputs": [],
   "source": [
    "print(name)\n",
    "print(age)\n",
    "print(batting_average)\n",
    "print(l0ves_T0r0nt0)\n",
    "print(loves_Toronto)"
   ]
  },
  {
   "cell_type": "markdown",
   "id": "75ac12eb",
   "metadata": {},
   "source": [
    "By the way, look what just happens when we type all five variable names into their own lines in a code cell..."
   ]
  },
  {
   "cell_type": "code",
   "execution_count": null,
   "id": "268b8348",
   "metadata": {},
   "outputs": [],
   "source": [
    "name\n",
    "age\n",
    "batting_average\n",
    "loves_Toronto\n",
    "l0ves_T0r0nt0"
   ]
  },
  {
   "cell_type": "markdown",
   "id": "edee2419",
   "metadata": {},
   "source": [
    "## 3c The Four Basic Data Types\n",
    "\n",
    "Without perhaps realizing it, you have now met the four basic *data types* that we'll be using in Python. They are:\n",
    "\n",
    "* **Strings** `str`: These are what we would call \"words.\" They consist of any number of letters, numbers, or symbols *strung together* (get it?). We can do lots of fun things with strings, but we can't treat them like numbers and perform mathematical operations on them, except where \"polymorphism\" applies (see last lecture).\n",
    "* **Integers** `int`: These are what I would call whole numbers. They're numbers without decimal points. They can be positive or negative. We can treat them like numbers (which they are!) and perform mathematical operations on them.\n",
    "* **Floating Point Numbers** `float`: These are numbers, but with decimal points! Although I/AH personally found this piece of terminology unfmailiar when I first started programming, I came come to appreciate it as a cool phrase — and I am not alone in this, clearly, because Pharaoh Sanders has a great album called *Floating Points*.\n",
    "![Floating Points by Pharaoh Sanders](floatingpoints.jpg)\n",
    "\n",
    "* **Booleans** `bool`: These can have only two values: `True` or `False`. They are, in other words, **binaries**. As humanities people we are naturally suspicious of binaries, for good reason. But since we're humanities data scientists, we still need to use Booleans and understand how they work!\n",
    "\n",
    "Let's use another handy Python **function**, `type()`, to identify the **types** of all the variables we've created thus far."
   ]
  },
  {
   "cell_type": "code",
   "execution_count": null,
   "id": "1f86db21",
   "metadata": {},
   "outputs": [],
   "source": [
    "type(name)"
   ]
  },
  {
   "cell_type": "code",
   "execution_count": null,
   "id": "5ca04690",
   "metadata": {
    "scrolled": true
   },
   "outputs": [],
   "source": [
    "print(name)\n",
    "type(name)"
   ]
  },
  {
   "cell_type": "code",
   "execution_count": null,
   "id": "972bcac0",
   "metadata": {},
   "outputs": [],
   "source": [
    "print(age)\n",
    "type(age)"
   ]
  },
  {
   "cell_type": "code",
   "execution_count": null,
   "id": "76e0ede2",
   "metadata": {},
   "outputs": [],
   "source": [
    "print(batting_average)\n",
    "type(batting_average)"
   ]
  },
  {
   "cell_type": "code",
   "execution_count": null,
   "id": "bba04f83",
   "metadata": {
    "scrolled": true
   },
   "outputs": [],
   "source": [
    "print(loves_Toronto)\n",
    "type(loves_Toronto)"
   ]
  },
  {
   "cell_type": "code",
   "execution_count": null,
   "id": "7ad0c040",
   "metadata": {},
   "outputs": [],
   "source": [
    "print(l0ves_T0r0nt0)\n",
    "type(l0ves_T0r0nt0)"
   ]
  },
  {
   "cell_type": "markdown",
   "id": "8498310e",
   "metadata": {},
   "source": [
    "## 3d Operators — Including the Mysterious `==`\n",
    "\n",
    "\"Operator\" is another word I love. I especially love it as an insult for someone who seems always to be angling to gain some advantage: \"He is such an *operator*!\" \n",
    "\n",
    "But we're not talking about those kinds of operators. Instead, we're talking about mathematical or logical operators. We already met a bunch last time, without having the fun vocabulary term \"operator\". These were:\n",
    "* `+`: addition\n",
    "* `-`: subtraction\n",
    "* `*`: multiplication\n",
    "* `/`: division\n",
    "\n",
    "These all work on variables just as they would on directly-inputted numbers or text..."
   ]
  },
  {
   "cell_type": "code",
   "execution_count": null,
   "id": "62e95006",
   "metadata": {},
   "outputs": [],
   "source": [
    "students_per_tutorial = 20\n",
    "number_of_tutorials = 8"
   ]
  },
  {
   "cell_type": "code",
   "execution_count": null,
   "id": "d16913e7",
   "metadata": {},
   "outputs": [],
   "source": [
    "students_per_tutorial * number_of_tutorials"
   ]
  },
  {
   "cell_type": "code",
   "execution_count": null,
   "id": "0108e36b",
   "metadata": {},
   "outputs": [],
   "source": [
    "max_students = students_per_tutorial * number_of_tutorials"
   ]
  },
  {
   "cell_type": "code",
   "execution_count": null,
   "id": "3d2cd1b0",
   "metadata": {},
   "outputs": [],
   "source": [
    "print(max_students)"
   ]
  },
  {
   "cell_type": "code",
   "execution_count": null,
   "id": "313caa1b",
   "metadata": {},
   "outputs": [],
   "source": [
    "name * 40"
   ]
  },
  {
   "cell_type": "markdown",
   "id": "786034e1",
   "metadata": {},
   "source": [
    "Now let's meet a few more operators:\n",
    "* `==`: equal to\n",
    "* `!=`: not equal to\n",
    "* `>`: greater than\n",
    "* `>=`: greather than or equal to\n",
    "* `<`: less than\n",
    "* `<=`: less than or equal too\n",
    "\n",
    "Obviously, the stilted phrasing of the above definitions (\"equal *to... something*\") suggests than this second set of operators is used to **compare** two things. In the following examples, we'll be using them to ask the Python interpreter some questions, have the Python interpreter **evaluate** those questions, and have it give us back answers of `True` or `False`.\n",
    "\n",
    "(Can anyone name the **data type** in which Python will be answering our questions??)"
   ]
  },
  {
   "cell_type": "code",
   "execution_count": null,
   "id": "2a6175bd",
   "metadata": {},
   "outputs": [],
   "source": [
    "age != 100"
   ]
  },
  {
   "cell_type": "code",
   "execution_count": null,
   "id": "56784161",
   "metadata": {},
   "outputs": [],
   "source": [
    "age > 30"
   ]
  },
  {
   "cell_type": "code",
   "execution_count": null,
   "id": "0b3b4d31",
   "metadata": {},
   "outputs": [],
   "source": [
    "age < 30"
   ]
  },
  {
   "cell_type": "code",
   "execution_count": null,
   "id": "02230c3f",
   "metadata": {},
   "outputs": [],
   "source": [
    "age < 50"
   ]
  },
  {
   "cell_type": "code",
   "execution_count": null,
   "id": "6bb892bc",
   "metadata": {},
   "outputs": [],
   "source": [
    "age > 41"
   ]
  },
  {
   "cell_type": "code",
   "execution_count": null,
   "id": "8ffa5b3a",
   "metadata": {},
   "outputs": [],
   "source": [
    "age >= 41"
   ]
  },
  {
   "cell_type": "code",
   "execution_count": null,
   "id": "308a52e7",
   "metadata": {},
   "outputs": [],
   "source": [
    "batting_average > .300"
   ]
  },
  {
   "cell_type": "code",
   "execution_count": null,
   "id": "232c5bac",
   "metadata": {},
   "outputs": [],
   "source": [
    "batting_average >= .190"
   ]
  },
  {
   "cell_type": "code",
   "execution_count": null,
   "id": "0fa6f43d",
   "metadata": {},
   "outputs": [],
   "source": [
    "age == 41"
   ]
  },
  {
   "cell_type": "markdown",
   "id": "0454cd0e",
   "metadata": {},
   "source": [
    "Now that statement up there ^^^^ — `age == 41` — is a **major possible source of confusion** for people new to the Python programming language (i.e., all of us). \n",
    "\n",
    "The confusion comes from the fact that we all think of this symbol, `=`, as an \"equals sign\". **But that isn't quite what it means in Python.**\n",
    "\n",
    "For instance, how is the statement above different from the statement below?"
   ]
  },
  {
   "cell_type": "code",
   "execution_count": null,
   "id": "5ed7521d",
   "metadata": {},
   "outputs": [],
   "source": [
    "age = 41"
   ]
  },
  {
   "cell_type": "markdown",
   "id": "56c2a432",
   "metadata": {},
   "source": [
    "To my way of thinking, the real \"equals sign\" in Python is `==`. This thing, `=`, is more like the \"put the things to the right of me into a variable named whatever is to the left of me\" sign. \n",
    "\n",
    "However you personally think about it, **it's really important that you become comfortable with the difference between `==` and `=` in Python**. It will take a while to internalize it, and you **will** make this mistake in your coding at some point... but once you get ahold of it, it will be yours forever!"
   ]
  },
  {
   "cell_type": "code",
   "execution_count": null,
   "id": "a2ea9bd0",
   "metadata": {},
   "outputs": [],
   "source": [
    "\"Adam\" == \"Adam\""
   ]
  },
  {
   "cell_type": "code",
   "execution_count": null,
   "id": "0435f21d",
   "metadata": {},
   "outputs": [],
   "source": [
    "Adam = \"Adam\""
   ]
  },
  {
   "cell_type": "code",
   "execution_count": null,
   "id": "15e78857",
   "metadata": {},
   "outputs": [],
   "source": [
    "Adam == \"Adam\""
   ]
  },
  {
   "cell_type": "code",
   "execution_count": null,
   "id": "089e3341",
   "metadata": {},
   "outputs": [],
   "source": [
    "print(loves_Toronto)\n",
    "loves_Toronto == True"
   ]
  },
  {
   "cell_type": "code",
   "execution_count": null,
   "id": "56c4c297",
   "metadata": {},
   "outputs": [],
   "source": [
    "type(loves_Toronto)"
   ]
  },
  {
   "cell_type": "code",
   "execution_count": null,
   "id": "e60678b1",
   "metadata": {
    "scrolled": true
   },
   "outputs": [],
   "source": [
    "print(l0ves_T0r0nt0)\n",
    "l0ves_T0r0nt0 == True"
   ]
  },
  {
   "cell_type": "code",
   "execution_count": null,
   "id": "581a68b0",
   "metadata": {},
   "outputs": [],
   "source": [
    "type(l0ves_T0r0nt0)"
   ]
  },
  {
   "cell_type": "markdown",
   "id": "eaccdfbb",
   "metadata": {},
   "source": [
    "## 3e Printing \"f-Strings\"\n",
    "\n",
    "Below are some cells containing `print` statements for a special kind of **string** called an **f-String**. See if you can figure out the syntax of this cool and handy variation of a normal `print(string)` statement. Play around with it and see if you can break it... then fix it again!"
   ]
  },
  {
   "cell_type": "code",
   "execution_count": null,
   "id": "9320b595",
   "metadata": {},
   "outputs": [],
   "source": [
    "cat1 = \"Rosie\"\n",
    "cat2 = \"Jazz\"\n",
    "print(f\"I have two cats: {cat2} and {cat1}.\")"
   ]
  },
  {
   "cell_type": "code",
   "execution_count": null,
   "id": "95c5d354",
   "metadata": {},
   "outputs": [],
   "source": [
    "print(f\"My name is {name} and I am {age} years old. My batting average in softball is {batting_average}. It is {loves_Toronto} that I love the city of Toronto.\")"
   ]
  },
  {
   "cell_type": "markdown",
   "id": "da02404a",
   "metadata": {},
   "source": [
    "## 3f One More Important Python Things Before We Finish: Comments (`#` and `\"\"\"`)\n",
    "\n",
    "\n",
    "Although we mostly use **Markdown cells** to include written instructions or comments in Jupyter Notebooks, sometimes you'll want to add a comment to a code cell — to help someone interpret your code, to help yourself remember what you were doing, or for any number of any reasons! \n",
    "\n",
    "You'll find some comments in the code cells in your Lab and Homework files this week. Here's how they work.\n",
    "\n",
    "On an individual line of code, inserting the hash `#` symbol tells Python to ignore anything that comes after that point in that line of code."
   ]
  },
  {
   "cell_type": "code",
   "execution_count": null,
   "id": "cadbc8f1",
   "metadata": {},
   "outputs": [],
   "source": [
    "# In a code cell, Python will ignore this whole line of code, since there's nothing before the \"#\""
   ]
  },
  {
   "cell_type": "code",
   "execution_count": null,
   "id": "9b739cdc",
   "metadata": {},
   "outputs": [],
   "source": [
    "cat_sound = \"meow\" # Whereas in this line, it will treat everything to the left of the # as code, and ignore everything to the right \n",
    "print(cat_sound)"
   ]
  },
  {
   "cell_type": "code",
   "execution_count": null,
   "id": "d4c65ba6",
   "metadata": {},
   "outputs": [],
   "source": [
    "print(cat_sound) # here, I put the # before the command, so Python ignores that instruction."
   ]
  },
  {
   "cell_type": "markdown",
   "id": "590bf68c",
   "metadata": {},
   "source": [
    "You can also comment out multi-line segments of code by using `\"\"\"` commands. For these, write `\"\"\"` on a new line of code, then write your multi-line comment, then write another `\"\"\"` on a new line of code."
   ]
  },
  {
   "cell_type": "code",
   "execution_count": null,
   "id": "a46c8894",
   "metadata": {},
   "outputs": [],
   "source": [
    "\"\"\"\n",
    "Here is an awesome bit of Python coding in which I record the sounds that the following animals make:\n",
    "-- cats\n",
    "-- dogs\n",
    "-- lizards\n",
    "Then I reveal these sounds to the unsuspecting public.\n",
    "\n",
    "Python knows to ignore these opening lines of commented-out code because they come between triple-quotation-marks\n",
    "\"\"\"\n",
    "cat_sound = \"meow\"\n",
    "dog_sound = \"bark\"\n",
    "lizard_sound = \"sizzle sizzle\" # I bet you didn't see that one coming!\n",
    "\n",
    "print(f\"After many years of research, I am finally ready to share my findings regarding animal sounds: cats go '{cat_sound}', dogs go '{dog_sound}', and lizards — somewhat surprisingly! — go '{lizard_sound}.'\")"
   ]
  },
  {
   "cell_type": "markdown",
   "id": "41acc922",
   "metadata": {},
   "source": [
    "## 3g ROLE PLAYING!\n",
    "\n",
    "Hopefully we've left lots and lots of time for the fun role-playing game that I/AH spent so much time designing..."
   ]
  },
  {
   "cell_type": "code",
   "execution_count": null,
   "id": "67da2cee",
   "metadata": {},
   "outputs": [],
   "source": [
    "# We've left this blank code cell for you to experiment with after lecture.\n",
    "# Please feel free to try things out here, and in tutorial ask any questions that come up!\n",
    "\n"
   ]
  }
 ],
 "metadata": {
  "kernelspec": {
   "display_name": "Python 3 (ipykernel)",
   "language": "python",
   "name": "python3"
  },
  "language_info": {
   "codemirror_mode": {
    "name": "ipython",
    "version": 3
   },
   "file_extension": ".py",
   "mimetype": "text/x-python",
   "name": "python",
   "nbconvert_exporter": "python",
   "pygments_lexer": "ipython3",
   "version": "3.9.7"
  }
 },
 "nbformat": 4,
 "nbformat_minor": 5
}
